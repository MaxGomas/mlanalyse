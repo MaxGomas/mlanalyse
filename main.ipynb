{
  "cells": [
    {
      "cell_type": "markdown",
      "metadata": {},
      "source": [
        "# Projet d'analyse de fraude\n",
        "\n",
        "Par Théo DESLAGE et Maximilien GOMAS"
      ]
    },
    {
      "cell_type": "markdown",
      "metadata": {},
      "source": [
        "## Exploration et visualisation des données\n",
        "\n",
        "On peut constater que les données sont divisées en deux ensembles :\n",
        "- Le premier, labelisé, servira à l'apprentissage supervisé (Entrainement et test)\n",
        "- Le second, inconnu, représente une situation réelle dans laquelle nous devrons prédire à l'aide de notre modèle\n",
        "\n",
        "Chargeons les données"
      ]
    },
    {
      "cell_type": "code",
      "execution_count": 116,
      "metadata": {
        "vscode": {
          "languageId": "r"
        }
      },
      "outputs": [
        {
          "data": {
            "text/html": [
              "<table class=\"dataframe\">\n",
              "<caption>A data.frame: 6 × 12</caption>\n",
              "<thead>\n",
              "\t<tr><th></th><th scope=col>claim_id</th><th scope=col>customer_id</th><th scope=col>age</th><th scope=col>gender</th><th scope=col>incident_cause</th><th scope=col>days_to_incident</th><th scope=col>claim_area</th><th scope=col>police_report</th><th scope=col>claim_type</th><th scope=col>claim_amount</th><th scope=col>total_policy_claims</th><th scope=col>fraudulent</th></tr>\n",
              "\t<tr><th></th><th scope=col>&lt;int&gt;</th><th scope=col>&lt;int&gt;</th><th scope=col>&lt;int&gt;</th><th scope=col>&lt;fct&gt;</th><th scope=col>&lt;fct&gt;</th><th scope=col>&lt;int&gt;</th><th scope=col>&lt;fct&gt;</th><th scope=col>&lt;fct&gt;</th><th scope=col>&lt;fct&gt;</th><th scope=col>&lt;dbl&gt;</th><th scope=col>&lt;int&gt;</th><th scope=col>&lt;fct&gt;</th></tr>\n",
              "</thead>\n",
              "<tbody>\n",
              "\t<tr><th scope=row>1</th><td>54004764</td><td>21868593</td><td>32</td><td>Female</td><td>Driver error      </td><td>  225</td><td>Auto</td><td>No     </td><td>Material only</td><td> 2980.0</td><td>1</td><td>No </td></tr>\n",
              "\t<tr><th scope=row>2</th><td>33985796</td><td>75740424</td><td>60</td><td>Female</td><td>Crime             </td><td>11874</td><td>Home</td><td>Unknown</td><td>Material only</td><td> 2980.0</td><td>3</td><td>No </td></tr>\n",
              "\t<tr><th scope=row>3</th><td>53522022</td><td>30308357</td><td>27</td><td>Female</td><td>Other driver error</td><td>    4</td><td>Auto</td><td>No     </td><td>Material only</td><td> 3369.5</td><td>1</td><td>Yes</td></tr>\n",
              "\t<tr><th scope=row>4</th><td>13015401</td><td>47830476</td><td>39</td><td>Female</td><td>Natural causes    </td><td> 5278</td><td>Auto</td><td>No     </td><td>Material only</td><td> 1680.0</td><td>1</td><td>No </td></tr>\n",
              "\t<tr><th scope=row>5</th><td>22890252</td><td>19269962</td><td>47</td><td>Male  </td><td>Crime             </td><td> 2335</td><td>Auto</td><td>No     </td><td>Material only</td><td> 2680.0</td><td>1</td><td>No </td></tr>\n",
              "\t<tr><th scope=row>6</th><td>24050443</td><td>21831191</td><td>36</td><td>Male  </td><td>Other driver error</td><td> 2116</td><td>Auto</td><td>No     </td><td>Injury only  </td><td>38306.5</td><td>3</td><td>Yes</td></tr>\n",
              "</tbody>\n",
              "</table>\n"
            ],
            "text/latex": [
              "A data.frame: 6 × 12\n",
              "\\begin{tabular}{r|llllllllllll}\n",
              "  & claim\\_id & customer\\_id & age & gender & incident\\_cause & days\\_to\\_incident & claim\\_area & police\\_report & claim\\_type & claim\\_amount & total\\_policy\\_claims & fraudulent\\\\\n",
              "  & <int> & <int> & <int> & <fct> & <fct> & <int> & <fct> & <fct> & <fct> & <dbl> & <int> & <fct>\\\\\n",
              "\\hline\n",
              "\t1 & 54004764 & 21868593 & 32 & Female & Driver error       &   225 & Auto & No      & Material only &  2980.0 & 1 & No \\\\\n",
              "\t2 & 33985796 & 75740424 & 60 & Female & Crime              & 11874 & Home & Unknown & Material only &  2980.0 & 3 & No \\\\\n",
              "\t3 & 53522022 & 30308357 & 27 & Female & Other driver error &     4 & Auto & No      & Material only &  3369.5 & 1 & Yes\\\\\n",
              "\t4 & 13015401 & 47830476 & 39 & Female & Natural causes     &  5278 & Auto & No      & Material only &  1680.0 & 1 & No \\\\\n",
              "\t5 & 22890252 & 19269962 & 47 & Male   & Crime              &  2335 & Auto & No      & Material only &  2680.0 & 1 & No \\\\\n",
              "\t6 & 24050443 & 21831191 & 36 & Male   & Other driver error &  2116 & Auto & No      & Injury only   & 38306.5 & 3 & Yes\\\\\n",
              "\\end{tabular}\n"
            ],
            "text/markdown": [
              "\n",
              "A data.frame: 6 × 12\n",
              "\n",
              "| <!--/--> | claim_id &lt;int&gt; | customer_id &lt;int&gt; | age &lt;int&gt; | gender &lt;fct&gt; | incident_cause &lt;fct&gt; | days_to_incident &lt;int&gt; | claim_area &lt;fct&gt; | police_report &lt;fct&gt; | claim_type &lt;fct&gt; | claim_amount &lt;dbl&gt; | total_policy_claims &lt;int&gt; | fraudulent &lt;fct&gt; |\n",
              "|---|---|---|---|---|---|---|---|---|---|---|---|---|\n",
              "| 1 | 54004764 | 21868593 | 32 | Female | Driver error       |   225 | Auto | No      | Material only |  2980.0 | 1 | No  |\n",
              "| 2 | 33985796 | 75740424 | 60 | Female | Crime              | 11874 | Home | Unknown | Material only |  2980.0 | 3 | No  |\n",
              "| 3 | 53522022 | 30308357 | 27 | Female | Other driver error |     4 | Auto | No      | Material only |  3369.5 | 1 | Yes |\n",
              "| 4 | 13015401 | 47830476 | 39 | Female | Natural causes     |  5278 | Auto | No      | Material only |  1680.0 | 1 | No  |\n",
              "| 5 | 22890252 | 19269962 | 47 | Male   | Crime              |  2335 | Auto | No      | Material only |  2680.0 | 1 | No  |\n",
              "| 6 | 24050443 | 21831191 | 36 | Male   | Other driver error |  2116 | Auto | No      | Injury only   | 38306.5 | 3 | Yes |\n",
              "\n"
            ],
            "text/plain": [
              "  claim_id customer_id age gender incident_cause     days_to_incident\n",
              "1 54004764 21868593    32  Female Driver error         225           \n",
              "2 33985796 75740424    60  Female Crime              11874           \n",
              "3 53522022 30308357    27  Female Other driver error     4           \n",
              "4 13015401 47830476    39  Female Natural causes      5278           \n",
              "5 22890252 19269962    47  Male   Crime               2335           \n",
              "6 24050443 21831191    36  Male   Other driver error  2116           \n",
              "  claim_area police_report claim_type    claim_amount total_policy_claims\n",
              "1 Auto       No            Material only  2980.0      1                  \n",
              "2 Home       Unknown       Material only  2980.0      3                  \n",
              "3 Auto       No            Material only  3369.5      1                  \n",
              "4 Auto       No            Material only  1680.0      1                  \n",
              "5 Auto       No            Material only  2680.0      1                  \n",
              "6 Auto       No            Injury only   38306.5      3                  \n",
              "  fraudulent\n",
              "1 No        \n",
              "2 No        \n",
              "3 Yes       \n",
              "4 No        \n",
              "5 No        \n",
              "6 Yes       "
            ]
          },
          "metadata": {},
          "output_type": "display_data"
        }
      ],
      "source": [
        "fraudes <- read.csv(\"./data/Data_Projet_1.csv\", header = TRUE, sep = \",\", dec = \".\", stringsAsFactors = TRUE)\n",
        "head(fraudes)"
      ]
    },
    {
      "cell_type": "markdown",
      "metadata": {},
      "source": [
        "Nous allons maintenant explorer les données et comprendre quelles features sont déterminantes pour la prédiction de la fraude."
      ]
    },
    {
      "cell_type": "markdown",
      "metadata": {},
      "source": [
        "### Summary pour se donner une vue globale"
      ]
    },
    {
      "cell_type": "code",
      "execution_count": 117,
      "metadata": {
        "vscode": {
          "languageId": "r"
        }
      },
      "outputs": [
        {
          "data": {
            "text/plain": [
              "    claim_id         customer_id            age          gender   \n",
              " Min.   :   26832   Min.   :  154557   Min.   :18.0   Female:541  \n",
              " 1st Qu.:23815805   1st Qu.:26791756   1st Qu.:33.0   Male  :559  \n",
              " Median :48539331   Median :49855152   Median :47.0               \n",
              " Mean   :48838190   Mean   :50874698   Mean   :47.8               \n",
              " 3rd Qu.:74074466   3rd Qu.:75949511   3rd Qu.:63.0               \n",
              " Max.   :99775483   Max.   :99961993   Max.   :79.0               \n",
              "            incident_cause days_to_incident  claim_area police_report\n",
              " Crime             :110    Min.   :    2.0   Auto:985   No     :630  \n",
              " Driver error      :262    1st Qu.:  635.5   Home:115   Unknown:300  \n",
              " Natural causes    :189    Median : 2042.5              Yes    :170  \n",
              " Other causes      :290    Mean   : 2814.1                           \n",
              " Other driver error:249    3rd Qu.: 4153.5                           \n",
              "                           Max.   :14991.0                           \n",
              "               claim_type   claim_amount   total_policy_claims fraudulent\n",
              " Injury only        :196   Min.   : 1000   Min.   :1.000       No :846   \n",
              " Material and injury:241   1st Qu.: 1880   1st Qu.:1.000       Yes:254   \n",
              " Material only      :663   Median : 2750   Median :1.000                 \n",
              "                           Mean   :12318   Mean   :1.596                 \n",
              "                           3rd Qu.:23965   3rd Qu.:2.000                 \n",
              "                           Max.   :48151   Max.   :8.000                 "
            ]
          },
          "metadata": {},
          "output_type": "display_data"
        }
      ],
      "source": [
        "summary(fraudes)"
      ]
    },
    {
      "cell_type": "code",
      "execution_count": 118,
      "metadata": {
        "vscode": {
          "languageId": "r"
        }
      },
      "outputs": [
        {
          "data": {
            "text/plain": [
              "\n",
              " No Yes \n",
              "846 254 "
            ]
          },
          "metadata": {},
          "output_type": "display_data"
        }
      ],
      "source": [
        "table(fraudes$fraudulent)"
      ]
    },
    {
      "cell_type": "markdown",
      "metadata": {},
      "source": [
        "On se rend compte que les fraudes sont très minoritaires il va donc falloir travailler sur ce dataset avant de l'entrainer"
      ]
    },
    {
      "cell_type": "markdown",
      "metadata": {},
      "source": [
        "### Recherche sur l'age"
      ]
    },
    {
      "cell_type": "code",
      "execution_count": 119,
      "metadata": {
        "vscode": {
          "languageId": "r"
        }
      },
      "outputs": [
        {
          "data": {
            "image/png": "[encoded data removed]",
            "text/plain": [
              "plot without title"
            ]
          },
          "metadata": {
            "image/png": {
              "height": 420,
              "width": 420
            }
          },
          "output_type": "display_data"
        }
      ],
      "source": [
        "boxplot(age~fraudulent, data=fraudes)"
      ]
    },
    {
      "cell_type": "markdown",
      "metadata": {},
      "source": [
        "On peut constater que les déclarations frauduleuses concernent un publique plus jeune que celles qui ne le sont pas."
      ]
    },
    {
      "cell_type": "markdown",
      "metadata": {},
      "source": [
        "### Recherche par rapport au montant déclaré"
      ]
    },
    {
      "cell_type": "code",
      "execution_count": 120,
      "metadata": {
        "vscode": {
          "languageId": "r"
        }
      },
      "outputs": [
        {
          "data": {
            "image/png": "[encoded data removed]",
            "text/plain": [
              "plot without title"
            ]
          },
          "metadata": {
            "image/png": {
              "height": 420,
              "width": 420
            }
          },
          "output_type": "display_data"
        }
      ],
      "source": [
        "library(ggplot2)\n",
        "qplot(claim_amount, data=fraudes, color=fraudulent, fill=fraudulent,bins = 30)"
      ]
    },
    {
      "cell_type": "markdown",
      "metadata": {},
      "source": [
        "On décide de séparer les claim_amount (supérieur et inférieur à 10000) pour mieux visualiser les tendances."
      ]
    },
    {
      "cell_type": "code",
      "execution_count": 35,
      "metadata": {
        "vscode": {
          "languageId": "r"
        }
      },
      "outputs": [
        {
          "data": {
            "image/png": "[encoded data removed]",
            "text/plain": [
              "plot without title"
            ]
          },
          "metadata": {
            "image/png": {
              "height": 420,
              "width": 420
            }
          },
          "output_type": "display_data"
        }
      ],
      "source": [
        "library(ggplot2)\n",
        "qplot(claim_amount, data=fraudes[fraudes$claim_amount>10000,], color=fraudulent, fill=fraudulent, bins = 30)"
      ]
    },
    {
      "cell_type": "markdown",
      "metadata": {},
      "source": [
        "On remarque qu'au dessus de 43k, toutes les ransactions sont frauduleuses. Nous décidons d'enlever les valeurs au dessus de 43k lors du pré traitement des données, car notre arbre fera inéluctablement une corrélation qui nous semble plus lié au jeu de donnée qu'à une représentation de la réalité.\n",
        "\n",
        "Pour confirmer notre raisonnement on compte le nombre de transactions concernées, et on se rend compte que c'est assez faible (15/1100)"
      ]
    },
    {
      "cell_type": "code",
      "execution_count": 121,
      "metadata": {
        "vscode": {
          "languageId": "r"
        }
      },
      "outputs": [
        {
          "data": {
            "text/html": [
              "1100"
            ],
            "text/latex": [
              "1100"
            ],
            "text/markdown": [
              "1100"
            ],
            "text/plain": [
              "[1] 1100"
            ]
          },
          "metadata": {},
          "output_type": "display_data"
        },
        {
          "data": {
            "text/html": [
              "15"
            ],
            "text/latex": [
              "15"
            ],
            "text/markdown": [
              "15"
            ],
            "text/plain": [
              "[1] 15"
            ]
          },
          "metadata": {},
          "output_type": "display_data"
        }
      ],
      "source": [
        "nrow(fraudes)\n",
        "nrow(fraudes[fraudes$claim_amount>43000,])"
      ]
    },
    {
      "cell_type": "code",
      "execution_count": 122,
      "metadata": {
        "vscode": {
          "languageId": "r"
        }
      },
      "outputs": [
        {
          "data": {
            "image/png": "[encoded data removed]",
            "text/plain": [
              "plot without title"
            ]
          },
          "metadata": {
            "image/png": {
              "height": 420,
              "width": 420
            }
          },
          "output_type": "display_data"
        }
      ],
      "source": [
        "qplot(claim_amount, data=fraudes[fraudes$claim_amount<10000,], color=fraudulent, fill=fraudulent, bins = 30)"
      ]
    },
    {
      "cell_type": "markdown",
      "metadata": {},
      "source": [
        "Il y a l'air d'avoir plus de fraudes à moins de 10k"
      ]
    },
    {
      "cell_type": "markdown",
      "metadata": {},
      "source": [
        "### Recherche par rapport au genre\n",
        "\n",
        "On se permet de comparer car grâce à la summarization on a pu constater que le nombre d'échantillon pour chaque sexe était relativement le même."
      ]
    },
    {
      "cell_type": "code",
      "execution_count": 124,
      "metadata": {
        "vscode": {
          "languageId": "r"
        }
      },
      "outputs": [
        {
          "data": {
            "image/png": "[encoded data removed]",
            "text/plain": [
              "plot without title"
            ]
          },
          "metadata": {
            "image/png": {
              "height": 420,
              "width": 420
            }
          },
          "output_type": "display_data"
        }
      ],
      "source": [
        "qplot(gender, data=fraudes, color=fraudulent, fill=fraudulent)"
      ]
    },
    {
      "cell_type": "markdown",
      "metadata": {},
      "source": [
        "On constate que le genre n'influe pas du tout sur le caractère frauduleux d'une transaction"
      ]
    },
    {
      "cell_type": "markdown",
      "metadata": {},
      "source": [
        "### La cause de l'incident"
      ]
    },
    {
      "cell_type": "code",
      "execution_count": 123,
      "metadata": {
        "vscode": {
          "languageId": "r"
        }
      },
      "outputs": [
        {
          "data": {
            "image/png": "[encoded data removed]",
            "text/plain": [
              "plot without title"
            ]
          },
          "metadata": {
            "image/png": {
              "height": 420,
              "width": 420
            }
          },
          "output_type": "display_data"
        }
      ],
      "source": [
        "qplot(incident_cause, data=fraudes, color=fraudulent, fill=fraudulent)"
      ]
    },
    {
      "cell_type": "markdown",
      "metadata": {},
      "source": [
        "On constate que la cause de l'incident ne joue pas beaucoup non plus sur le caractère frauduleux"
      ]
    },
    {
      "cell_type": "markdown",
      "metadata": {},
      "source": [
        "### Nombre de jours passés entre l'incident et la déclaration"
      ]
    },
    {
      "cell_type": "code",
      "execution_count": 125,
      "metadata": {
        "vscode": {
          "languageId": "r"
        }
      },
      "outputs": [
        {
          "name": "stderr",
          "output_type": "stream",
          "text": [
            "`stat_bin()` using `bins = 30`. Pick better value with `binwidth`.\n",
            "\n"
          ]
        },
        {
          "data": {
            "image/png": "[encoded data removed]",
            "text/plain": [
              "plot without title"
            ]
          },
          "metadata": {
            "image/png": {
              "height": 420,
              "width": 420
            }
          },
          "output_type": "display_data"
        }
      ],
      "source": [
        "qplot(days_to_incident, data=fraudes, color=fraudulent, fill=fraudulent)"
      ]
    },
    {
      "cell_type": "markdown",
      "metadata": {},
      "source": [
        "On remarque qu'il y a une proportion de fraudes plus élevée pour les incidents déclarés immédiatements. On confirme :"
      ]
    },
    {
      "cell_type": "code",
      "execution_count": 127,
      "metadata": {
        "vscode": {
          "languageId": "r"
        }
      },
      "outputs": [
        {
          "name": "stderr",
          "output_type": "stream",
          "text": [
            "`stat_bin()` using `bins = 30`. Pick better value with `binwidth`.\n",
            "\n"
          ]
        },
        {
          "data": {
            "image/png": "[encoded data removed]",
            "text/plain": [
              "plot without title"
            ]
          },
          "metadata": {
            "image/png": {
              "height": 420,
              "width": 420
            }
          },
          "output_type": "display_data"
        }
      ],
      "source": [
        "# Incidents déclarés en moins de 10 jours\n",
        "qplot(days_to_incident, data=fraudes[fraudes$days_to_incident<10,], color=fraudulent, fill=fraudulent)"
      ]
    },
    {
      "cell_type": "code",
      "execution_count": 128,
      "metadata": {
        "vscode": {
          "languageId": "r"
        }
      },
      "outputs": [
        {
          "name": "stdout",
          "output_type": "stream",
          "text": [
            "[1] 0.4680851\n",
            "[1] 0.2309091\n"
          ]
        }
      ],
      "source": [
        "print(nrow(fraudes[fraudes$days_to_incident<10 & fraudes$fraudulent=='Yes',])/nrow(fraudes[fraudes$days_to_incident<10,]))\n",
        "print(nrow(fraudes[fraudes$fraudulent=='Yes',])/nrow(fraudes))"
      ]
    },
    {
      "cell_type": "markdown",
      "metadata": {},
      "source": [
        "Cela veut dire que pour des déclarations faites à moins de 10 jours on a 46% de fraude ce qui est nettement superieur à l'ensemble global (23%). Ce critère sera donc très intéressant pour notre modèle."
      ]
    },
    {
      "cell_type": "markdown",
      "metadata": {},
      "source": [
        "### La zone de déclaration"
      ]
    },
    {
      "cell_type": "code",
      "execution_count": 129,
      "metadata": {
        "vscode": {
          "languageId": "r"
        }
      },
      "outputs": [
        {
          "data": {
            "image/png": "[encoded data removed]",
            "text/plain": [
              "plot without title"
            ]
          },
          "metadata": {
            "image/png": {
              "height": 420,
              "width": 420
            }
          },
          "output_type": "display_data"
        }
      ],
      "source": [
        "qplot(claim_area, data=fraudes, color=fraudulent, fill=fraudulent)"
      ]
    },
    {
      "cell_type": "markdown",
      "metadata": {},
      "source": [
        "### Un rapport de police"
      ]
    },
    {
      "cell_type": "code",
      "execution_count": 130,
      "metadata": {
        "vscode": {
          "languageId": "r"
        }
      },
      "outputs": [
        {
          "data": {
            "image/png": "[encoded data removed]",
            "text/plain": [
              "plot without title"
            ]
          },
          "metadata": {
            "image/png": {
              "height": 420,
              "width": 420
            }
          },
          "output_type": "display_data"
        }
      ],
      "source": [
        "qplot(police_report, data=fraudes, color=fraudulent, fill=fraudulent)"
      ]
    },
    {
      "cell_type": "markdown",
      "metadata": {},
      "source": [
        "On pressent une information intéressante, on compare donc les 3 cas (avec le global qui est de 23%)"
      ]
    },
    {
      "cell_type": "code",
      "execution_count": 131,
      "metadata": {
        "vscode": {
          "languageId": "r"
        }
      },
      "outputs": [
        {
          "name": "stdout",
          "output_type": "stream",
          "text": [
            "[1] 0.1\n",
            "[1] 0.2766667\n",
            "[1] 0.2444444\n"
          ]
        }
      ],
      "source": [
        "print(nrow(fraudes[fraudes$police_report=='Yes' & fraudes$fraudulent=='Yes',])/nrow(fraudes[fraudes$police_report=='Yes',])) # Rapport\n",
        "print(nrow(fraudes[fraudes$police_report=='Unknown' & fraudes$fraudulent=='Yes',])/nrow(fraudes[fraudes$police_report=='Unknown',])) # Unknown\n",
        "print(nrow(fraudes[fraudes$police_report=='No' & fraudes$fraudulent=='Yes',])/nrow(fraudes[fraudes$police_report=='No',])) # No Report"
      ]
    },
    {
      "cell_type": "markdown",
      "metadata": {},
      "source": [
        "On constate que lors de la réalisation d'un rapport il n'y a que 10% de fraudes, ça influe donc très négativement (positivement pour l'assureur) sur les fraudes."
      ]
    },
    {
      "cell_type": "markdown",
      "metadata": {},
      "source": [
        "### Le type de déclaration"
      ]
    },
    {
      "cell_type": "code",
      "execution_count": 132,
      "metadata": {
        "vscode": {
          "languageId": "r"
        }
      },
      "outputs": [
        {
          "data": {
            "image/png": "[encoded data removed]",
            "text/plain": [
              "plot without title"
            ]
          },
          "metadata": {
            "image/png": {
              "height": 420,
              "width": 420
            }
          },
          "output_type": "display_data"
        }
      ],
      "source": [
        "qplot(claim_type, data=fraudes, color=fraudulent, fill=fraudulent)"
      ]
    },
    {
      "cell_type": "markdown",
      "metadata": {},
      "source": [
        "### Nombre d'incidents déclarés"
      ]
    },
    {
      "cell_type": "code",
      "execution_count": 133,
      "metadata": {
        "vscode": {
          "languageId": "r"
        }
      },
      "outputs": [
        {
          "name": "stderr",
          "output_type": "stream",
          "text": [
            "`stat_bin()` using `bins = 30`. Pick better value with `binwidth`.\n",
            "\n"
          ]
        },
        {
          "data": {
            "image/png": "[encoded data removed]",
            "text/plain": [
              "plot without title"
            ]
          },
          "metadata": {
            "image/png": {
              "height": 420,
              "width": 420
            }
          },
          "output_type": "display_data"
        }
      ],
      "source": [
        "qplot(total_policy_claims, data=fraudes, color=fraudulent, fill=fraudulent) "
      ]
    },
    {
      "cell_type": "markdown",
      "metadata": {},
      "source": [
        "Pour chaque total policy claim de 1 à 8, on affiche, la taille de l'échantillon et le pourcentage de fraude"
      ]
    },
    {
      "cell_type": "code",
      "execution_count": 136,
      "metadata": {
        "vscode": {
          "languageId": "r"
        }
      },
      "outputs": [
        {
          "name": "stdout",
          "output_type": "stream",
          "text": [
            "[1] 0.1962617\n"
          ]
        },
        {
          "data": {
            "text/html": [
              "799"
            ],
            "text/latex": [
              "799"
            ],
            "text/markdown": [
              "799"
            ],
            "text/plain": [
              "[1] 799"
            ]
          },
          "metadata": {},
          "output_type": "display_data"
        },
        {
          "name": "stdout",
          "output_type": "stream",
          "text": [
            "[1] \"------\"\n",
            "[1] 799\n",
            "[1] 21.77722\n",
            "[1] \"------\"\n",
            "[1] 107\n",
            "[1] 19.62617\n",
            "[1] \"------\"\n",
            "[1] 91\n",
            "[1] 24.17582\n",
            "[1] \"------\"\n",
            "[1] 62\n",
            "[1] 41.93548\n",
            "[1] \"------\"\n",
            "[1] 28\n",
            "[1] 28.57143\n",
            "[1] \"------\"\n",
            "[1] 10\n",
            "[1] 10\n",
            "[1] \"------\"\n",
            "[1] 2\n",
            "[1] 50\n",
            "[1] \"------\"\n",
            "[1] 1\n",
            "[1] 100\n"
          ]
        }
      ],
      "source": [
        "print(nrow(fraudes[fraudes$total_policy_claims==2 & fraudes$fraudulent=='Yes',])/nrow(fraudes[fraudes$total_policy_claims==2,])) \n",
        "nrow(fraudes[fraudes$total_policy_claims==1,])\n",
        "\n",
        "for (x in 1:8) {\n",
        "    print(\"------\")\n",
        "    print(nrow(fraudes[fraudes$total_policy_claims==x,]))\n",
        "    pct <- nrow(fraudes[fraudes$total_policy_claims==x & fraudes$fraudulent=='Yes',])/nrow(fraudes[fraudes$total_policy_claims==x,])*100\n",
        "    print(pct)\n",
        "} "
      ]
    },
    {
      "cell_type": "code",
      "execution_count": 137,
      "metadata": {
        "vscode": {
          "languageId": "r"
        }
      },
      "outputs": [
        {
          "name": "stdout",
          "output_type": "stream",
          "text": [
            "    claim_id customer_id age gender     incident_cause days_to_incident\n",
            "52  39647651    18361978  73 Female       Other causes             4770\n",
            "820 42530425    46129941  29 Female              Crime             1274\n",
            "875 32759962    77116501  68 Female Other driver error             2820\n",
            "    claim_area police_report          claim_type claim_amount\n",
            "52        Auto       Unknown Material and injury      25576.0\n",
            "820       Auto            No       Material only       3277.5\n",
            "875       Auto       Unknown         Injury only      20490.0\n",
            "    total_policy_claims fraudulent\n",
            "52                    7        Yes\n",
            "820                   8        Yes\n",
            "875                   7         No\n"
          ]
        }
      ],
      "source": [
        "print(fraudes[fraudes$total_policy_claims>6,])"
      ]
    },
    {
      "cell_type": "markdown",
      "metadata": {},
      "source": [
        "Il n'y a que très peu de données pour les policy claims == 7 ou 8, on décidera donc de les enlever"
      ]
    },
    {
      "cell_type": "markdown",
      "metadata": {},
      "source": [
        "## Pré traitement des données"
      ]
    },
    {
      "cell_type": "markdown",
      "metadata": {},
      "source": [
        "On sait que deux variables ne sont pas pertinentes dans la prédiction, l'ID de la transaction *claim_id* puisqu'il est unique et le numéro d'utilisateur *customer_id*. On pourrait établir un modèle qui prend en compte le *customer_id* pour \"suspecter\" ceux qui ont déjà fraudé. Mais dans ce cas de la détection de nouvelles fraudes l'utilisateur sera très probablement nouveau, il ne faut pas que cela altère le jugement du modèle, qui doit se méfier de tout le monde, sans distinction."
      ]
    },
    {
      "cell_type": "code",
      "execution_count": 138,
      "metadata": {
        "vscode": {
          "languageId": "r"
        }
      },
      "outputs": [
        {
          "data": {
            "text/html": [
              "<table class=\"dataframe\">\n",
              "<caption>A data.frame: 6 × 10</caption>\n",
              "<thead>\n",
              "\t<tr><th></th><th scope=col>age</th><th scope=col>gender</th><th scope=col>incident_cause</th><th scope=col>days_to_incident</th><th scope=col>claim_area</th><th scope=col>police_report</th><th scope=col>claim_type</th><th scope=col>claim_amount</th><th scope=col>total_policy_claims</th><th scope=col>fraudulent</th></tr>\n",
              "\t<tr><th></th><th scope=col>&lt;int&gt;</th><th scope=col>&lt;fct&gt;</th><th scope=col>&lt;fct&gt;</th><th scope=col>&lt;int&gt;</th><th scope=col>&lt;fct&gt;</th><th scope=col>&lt;fct&gt;</th><th scope=col>&lt;fct&gt;</th><th scope=col>&lt;dbl&gt;</th><th scope=col>&lt;int&gt;</th><th scope=col>&lt;fct&gt;</th></tr>\n",
              "</thead>\n",
              "<tbody>\n",
              "\t<tr><th scope=row>1</th><td>32</td><td>Female</td><td>Driver error      </td><td>  225</td><td>Auto</td><td>No     </td><td>Material only</td><td> 2980.0</td><td>1</td><td>No </td></tr>\n",
              "\t<tr><th scope=row>2</th><td>60</td><td>Female</td><td>Crime             </td><td>11874</td><td>Home</td><td>Unknown</td><td>Material only</td><td> 2980.0</td><td>3</td><td>No </td></tr>\n",
              "\t<tr><th scope=row>3</th><td>27</td><td>Female</td><td>Other driver error</td><td>    4</td><td>Auto</td><td>No     </td><td>Material only</td><td> 3369.5</td><td>1</td><td>Yes</td></tr>\n",
              "\t<tr><th scope=row>4</th><td>39</td><td>Female</td><td>Natural causes    </td><td> 5278</td><td>Auto</td><td>No     </td><td>Material only</td><td> 1680.0</td><td>1</td><td>No </td></tr>\n",
              "\t<tr><th scope=row>5</th><td>47</td><td>Male  </td><td>Crime             </td><td> 2335</td><td>Auto</td><td>No     </td><td>Material only</td><td> 2680.0</td><td>1</td><td>No </td></tr>\n",
              "\t<tr><th scope=row>6</th><td>36</td><td>Male  </td><td>Other driver error</td><td> 2116</td><td>Auto</td><td>No     </td><td>Injury only  </td><td>38306.5</td><td>3</td><td>Yes</td></tr>\n",
              "</tbody>\n",
              "</table>\n"
            ],
            "text/latex": [
              "A data.frame: 6 × 10\n",
              "\\begin{tabular}{r|llllllllll}\n",
              "  & age & gender & incident\\_cause & days\\_to\\_incident & claim\\_area & police\\_report & claim\\_type & claim\\_amount & total\\_policy\\_claims & fraudulent\\\\\n",
              "  & <int> & <fct> & <fct> & <int> & <fct> & <fct> & <fct> & <dbl> & <int> & <fct>\\\\\n",
              "\\hline\n",
              "\t1 & 32 & Female & Driver error       &   225 & Auto & No      & Material only &  2980.0 & 1 & No \\\\\n",
              "\t2 & 60 & Female & Crime              & 11874 & Home & Unknown & Material only &  2980.0 & 3 & No \\\\\n",
              "\t3 & 27 & Female & Other driver error &     4 & Auto & No      & Material only &  3369.5 & 1 & Yes\\\\\n",
              "\t4 & 39 & Female & Natural causes     &  5278 & Auto & No      & Material only &  1680.0 & 1 & No \\\\\n",
              "\t5 & 47 & Male   & Crime              &  2335 & Auto & No      & Material only &  2680.0 & 1 & No \\\\\n",
              "\t6 & 36 & Male   & Other driver error &  2116 & Auto & No      & Injury only   & 38306.5 & 3 & Yes\\\\\n",
              "\\end{tabular}\n"
            ],
            "text/markdown": [
              "\n",
              "A data.frame: 6 × 10\n",
              "\n",
              "| <!--/--> | age &lt;int&gt; | gender &lt;fct&gt; | incident_cause &lt;fct&gt; | days_to_incident &lt;int&gt; | claim_area &lt;fct&gt; | police_report &lt;fct&gt; | claim_type &lt;fct&gt; | claim_amount &lt;dbl&gt; | total_policy_claims &lt;int&gt; | fraudulent &lt;fct&gt; |\n",
              "|---|---|---|---|---|---|---|---|---|---|---|\n",
              "| 1 | 32 | Female | Driver error       |   225 | Auto | No      | Material only |  2980.0 | 1 | No  |\n",
              "| 2 | 60 | Female | Crime              | 11874 | Home | Unknown | Material only |  2980.0 | 3 | No  |\n",
              "| 3 | 27 | Female | Other driver error |     4 | Auto | No      | Material only |  3369.5 | 1 | Yes |\n",
              "| 4 | 39 | Female | Natural causes     |  5278 | Auto | No      | Material only |  1680.0 | 1 | No  |\n",
              "| 5 | 47 | Male   | Crime              |  2335 | Auto | No      | Material only |  2680.0 | 1 | No  |\n",
              "| 6 | 36 | Male   | Other driver error |  2116 | Auto | No      | Injury only   | 38306.5 | 3 | Yes |\n",
              "\n"
            ],
            "text/plain": [
              "  age gender incident_cause     days_to_incident claim_area police_report\n",
              "1 32  Female Driver error         225            Auto       No           \n",
              "2 60  Female Crime              11874            Home       Unknown      \n",
              "3 27  Female Other driver error     4            Auto       No           \n",
              "4 39  Female Natural causes      5278            Auto       No           \n",
              "5 47  Male   Crime               2335            Auto       No           \n",
              "6 36  Male   Other driver error  2116            Auto       No           \n",
              "  claim_type    claim_amount total_policy_claims fraudulent\n",
              "1 Material only  2980.0      1                   No        \n",
              "2 Material only  2980.0      3                   No        \n",
              "3 Material only  3369.5      1                   Yes       \n",
              "4 Material only  1680.0      1                   No        \n",
              "5 Material only  2680.0      1                   No        \n",
              "6 Injury only   38306.5      3                   Yes       "
            ]
          },
          "metadata": {},
          "output_type": "display_data"
        }
      ],
      "source": [
        "# On filtre selon ce qu'on avait décidé sur le claim_amount\n",
        "fraudes <- fraudes[fraudes$claim_amount<43000,]\n",
        "# On supprime le claim_id et le customer_id\n",
        "fraudes <- fraudes[,-c(1:2)]\n",
        "head(fraudes)"
      ]
    },
    {
      "cell_type": "markdown",
      "metadata": {},
      "source": [
        "## Définition de la méthode d'évaluation des classifieurs\n",
        "\n",
        "Nous allons utiliser les 3 arbres vus en cours (tree, C5.0 et rpart) et nous allons essayer avec toutes les features, puis seulement avec celles que nous avons identifiées comme pertinentes suite à notre phase exploratoire.\n",
        "\n",
        "fraudes -> toutes\n",
        "\n",
        "fraudes_P -> seulement celles pertinentes"
      ]
    },
    {
      "cell_type": "markdown",
      "metadata": {},
      "source": [
        "## Définition des données d'apprentissage et de test"
      ]
    },
    {
      "cell_type": "code",
      "execution_count": 140,
      "metadata": {
        "vscode": {
          "languageId": "r"
        }
      },
      "outputs": [
        {
          "data": {
            "text/plain": [
              "\n",
              " No Yes \n",
              "566 157 "
            ]
          },
          "metadata": {},
          "output_type": "display_data"
        },
        {
          "data": {
            "text/plain": [
              "\n",
              " No Yes \n",
              "281  81 "
            ]
          },
          "metadata": {},
          "output_type": "display_data"
        }
      ],
      "source": [
        "featuresPertinentes <- c('age', 'claim_amount', 'days_to_incident', 'incident_cause', 'police_report', 'claim_type', 'total_policy_claims', 'fraudulent')\n",
        "\n",
        "t <- nrow(fraudes)/3*2\n",
        "max <- nrow(fraudes)\n",
        "\n",
        "# (2/3) apprentissage\n",
        "fraudes_EA <- fraudes[1:t,-c(1,2)]\n",
        "# seulement pertinentes\n",
        "fraudes_EA_P <- fraudes[1:t, featuresPertinentes]\n",
        "\n",
        "# (1/3) test\n",
        "fraudes_ET <- fraudes[t:max,-c(1,2)]\n",
        "# Seulement pertinentes\n",
        "fraudes_ET_P <- fraudes[t:max, featuresPertinentes]\n",
        "\n",
        "table(fraudes_EA$fraudulent)\n",
        "table(fraudes_ET$fraudulent)"
      ]
    },
    {
      "cell_type": "markdown",
      "metadata": {},
      "source": [
        "### Réduire les transactions non frauduleuses\n",
        "\n",
        "Comme prévu on va équilibrer les transactions frauduleuses et non frauduleuses **de l'ensemble d'apprentissage** pour que notre arbre ne soit pas trop orienté sur l'ensemble prédominant (No)"
      ]
    },
    {
      "cell_type": "code",
      "execution_count": 141,
      "metadata": {
        "vscode": {
          "languageId": "r"
        }
      },
      "outputs": [
        {
          "name": "stdout",
          "output_type": "stream",
          "text": [
            "[1] 157\n"
          ]
        },
        {
          "data": {
            "text/plain": [
              "\n",
              " No Yes \n",
              "216 157 "
            ]
          },
          "metadata": {},
          "output_type": "display_data"
        }
      ],
      "source": [
        "# cut x rows\n",
        "\n",
        "dfYes <- fraudes_EA[fraudes_EA$fraudulent=='Yes',]\n",
        "print(nrow(dfYes))\n",
        "dfNo <- fraudes_EA[fraudes_EA$fraudulent=='No',]\n",
        "# Delete some no transactions\n",
        "dfNo <- tail(dfNo, -350)\n",
        "\n",
        "# On fusionne les deux dataframes\n",
        "fraudes_EA <- rbind(dfYes, dfNo)\n",
        "\n",
        "table(fraudes_EA$fraudulent)\n"
      ]
    },
    {
      "cell_type": "code",
      "execution_count": 143,
      "metadata": {
        "vscode": {
          "languageId": "r"
        }
      },
      "outputs": [
        {
          "name": "stdout",
          "output_type": "stream",
          "text": [
            "[1] 373\n",
            "[1] 373\n"
          ]
        }
      ],
      "source": [
        "print(nrow(fraudes_EA))\n",
        "# shuffle dataset\n",
        "fraudes_EA <- fraudes_EA[sample(1:nrow(fraudes_EA)),]\n",
        "print(nrow(fraudes_EA))"
      ]
    },
    {
      "cell_type": "markdown",
      "metadata": {},
      "source": [
        "## Construction et évaluation du classifieur"
      ]
    },
    {
      "cell_type": "markdown",
      "metadata": {},
      "source": [
        "On applique une cost matrix pour l'apprentissage des arbres, définie comme suit : une prédiction vraie coûte 0, Yes prédit false (une fraude qui passe) coûte 4 fois plus cher que de payer une personne pour reclassifier un true en false (faux positif). On imagine que ce sont des données qui nous sont transmises par l'assurance.\n",
        "\n",
        "Il est de toute façon très facile de changer cette matrice si besoin"
      ]
    },
    {
      "cell_type": "code",
      "execution_count": 195,
      "metadata": {
        "vscode": {
          "languageId": "r"
        }
      },
      "outputs": [
        {
          "data": {
            "text/html": [
              "<table class=\"dataframe\">\n",
              "<caption>A matrix: 2 × 2 of type dbl</caption>\n",
              "<tbody>\n",
              "\t<tr><td>0</td><td>1</td></tr>\n",
              "\t<tr><td>4</td><td>0</td></tr>\n",
              "</tbody>\n",
              "</table>\n"
            ],
            "text/latex": [
              "A matrix: 2 × 2 of type dbl\n",
              "\\begin{tabular}{ll}\n",
              "\t 0 & 1\\\\\n",
              "\t 4 & 0\\\\\n",
              "\\end{tabular}\n"
            ],
            "text/markdown": [
              "\n",
              "A matrix: 2 × 2 of type dbl\n",
              "\n",
              "| 0 | 1 |\n",
              "| 4 | 0 |\n",
              "\n"
            ],
            "text/plain": [
              "     [,1] [,2]\n",
              "[1,] 0    1   \n",
              "[2,] 4    0   "
            ]
          },
          "metadata": {},
          "output_type": "display_data"
        }
      ],
      "source": [
        "costmatrix <- matrix(c(0,1,4,0), byrow = TRUE, nrow = 2)\n",
        "costmatrix"
      ]
    },
    {
      "cell_type": "markdown",
      "metadata": {},
      "source": [
        "### Analyse avec toutes les features"
      ]
    },
    {
      "cell_type": "code",
      "execution_count": 175,
      "metadata": {
        "vscode": {
          "languageId": "r"
        }
      },
      "outputs": [],
      "source": [
        "library(rpart)\n",
        "library(C50)\n",
        "library(tree)"
      ]
    },
    {
      "cell_type": "code",
      "execution_count": 196,
      "metadata": {
        "vscode": {
          "languageId": "r"
        }
      },
      "outputs": [],
      "source": [
        "tree1 <- rpart(fraudulent ~ ., fraudes_EA, parms = list(loss = costmatrix))\n",
        "tree2 <- C5.0(fraudulent ~ ., fraudes_EA)\n",
        "tree3 <- tree(fraudulent ~ ., fraudes_EA)"
      ]
    },
    {
      "cell_type": "code",
      "execution_count": 177,
      "metadata": {
        "vscode": {
          "languageId": "r"
        }
      },
      "outputs": [
        {
          "data": {
            "image/png": "[encoded data removed]",
            "text/plain": [
              "plot without title"
            ]
          },
          "metadata": {
            "image/png": {
              "height": 420,
              "width": 420
            }
          },
          "output_type": "display_data"
        }
      ],
      "source": [
        "plot(tree1)\n",
        "text(tree1, pretty=0)"
      ]
    },
    {
      "cell_type": "code",
      "execution_count": 178,
      "metadata": {
        "vscode": {
          "languageId": "r"
        }
      },
      "outputs": [
        {
          "data": {
            "image/png": "[encoded data removed]",
            "text/plain": [
              "plot without title"
            ]
          },
          "metadata": {
            "image/png": {
              "height": 420,
              "width": 420
            }
          },
          "output_type": "display_data"
        }
      ],
      "source": [
        "plot(tree2)"
      ]
    },
    {
      "cell_type": "code",
      "execution_count": 197,
      "metadata": {
        "vscode": {
          "languageId": "r"
        }
      },
      "outputs": [],
      "source": [
        "test_tree1 <- predict(tree1, fraudes_ET, type=\"class\")\n",
        "test_tree2 <- predict(tree2, fraudes_ET, type=\"class\")\n",
        "test_tree3 <- predict(tree3, fraudes_ET, type=\"class\")"
      ]
    },
    {
      "cell_type": "markdown",
      "metadata": {},
      "source": [
        "Matrices de confusion"
      ]
    },
    {
      "cell_type": "code",
      "execution_count": 198,
      "metadata": {
        "vscode": {
          "languageId": "r"
        }
      },
      "outputs": [
        {
          "name": "stdout",
          "output_type": "stream",
          "text": [
            "     test_tree1\n",
            "       No Yes\n",
            "  No   57 224\n",
            "  Yes  13  68\n",
            "     test_tree2\n",
            "       No Yes\n",
            "  No  188  93\n",
            "  Yes  38  43\n",
            "     test_tree3\n",
            "       No Yes\n",
            "  No  250  31\n",
            "  Yes  57  24\n"
          ]
        }
      ],
      "source": [
        "mc_tree1 = table(fraudes_ET$fraudulent, test_tree1)\n",
        "mc_tree2 = table(fraudes_ET$fraudulent, test_tree2)\n",
        "mc_tree3 = table(fraudes_ET$fraudulent, test_tree3)\n",
        "print(mc_tree1)\n",
        "print(mc_tree2)\n",
        "print(mc_tree3)"
      ]
    },
    {
      "cell_type": "code",
      "execution_count": 199,
      "metadata": {
        "vscode": {
          "languageId": "r"
        }
      },
      "outputs": [],
      "source": [
        "fraudes_ET$Prediction1 <- test_tree1\n",
        "fraudes_ET$Prediction2 <- test_tree2\n",
        "fraudes_ET$Prediction3 <- test_tree3"
      ]
    },
    {
      "cell_type": "markdown",
      "metadata": {},
      "source": [
        "On calcul le success rate (Yes prédit Yes) et la précision"
      ]
    },
    {
      "cell_type": "code",
      "execution_count": 208,
      "metadata": {
        "vscode": {
          "languageId": "r"
        }
      },
      "outputs": [],
      "source": [
        "perf <- function(tree, mc_tree, predictColumn) {\n",
        "    correct <- (mc_tree[1,1]+mc_tree[2,2])/(mc_tree[1,1]+mc_tree[2,2]+mc_tree[1,2]+mc_tree[2,1])\n",
        "    cat(\"Precision : \",correct)\n",
        "    print('')\n",
        "    taux_success <- mc_tree[2,2]/(mc_tree[2,2]+mc_tree[2,1])\n",
        "    print(\"Taux succes (YES predit YES) :\")\n",
        "    print(taux_success)\n",
        "} "
      ]
    },
    {
      "cell_type": "code",
      "execution_count": 202,
      "metadata": {
        "vscode": {
          "languageId": "r"
        }
      },
      "outputs": [
        {
          "name": "stdout",
          "output_type": "stream",
          "text": [
            "Precision :  0.3453039[1] \"\"\n",
            "[1] \"Taux succes (YES predit YES) :\"\n",
            "[1] 0.8395062\n",
            "Precision :  0.6381215[1] \"\"\n",
            "[1] \"Taux succes (YES predit YES) :\"\n",
            "[1] 0.5308642\n",
            "Precision :  0.7569061[1] \"\"\n",
            "[1] \"Taux succes (YES predit YES) :\"\n",
            "[1] 0.2962963\n"
          ]
        }
      ],
      "source": [
        "perf(tree1, mc_tree1)\n",
        "perf(tree2, mc_tree2)\n",
        "perf(tree3, mc_tree3)"
      ]
    },
    {
      "cell_type": "markdown",
      "metadata": {},
      "source": [
        "### Analyse avec seulement les features pertinentes"
      ]
    },
    {
      "cell_type": "code",
      "execution_count": 209,
      "metadata": {
        "vscode": {
          "languageId": "r"
        }
      },
      "outputs": [
        {
          "data": {
            "text/html": [
              "<table class=\"dataframe\">\n",
              "<caption>A data.frame: 6 × 8</caption>\n",
              "<thead>\n",
              "\t<tr><th></th><th scope=col>age</th><th scope=col>claim_amount</th><th scope=col>days_to_incident</th><th scope=col>incident_cause</th><th scope=col>police_report</th><th scope=col>claim_type</th><th scope=col>total_policy_claims</th><th scope=col>fraudulent</th></tr>\n",
              "\t<tr><th></th><th scope=col>&lt;int&gt;</th><th scope=col>&lt;dbl&gt;</th><th scope=col>&lt;int&gt;</th><th scope=col>&lt;fct&gt;</th><th scope=col>&lt;fct&gt;</th><th scope=col>&lt;fct&gt;</th><th scope=col>&lt;int&gt;</th><th scope=col>&lt;fct&gt;</th></tr>\n",
              "</thead>\n",
              "<tbody>\n",
              "\t<tr><th scope=row>1</th><td>32</td><td> 2980.0</td><td>  225</td><td>Driver error      </td><td>No     </td><td>Material only</td><td>1</td><td>No </td></tr>\n",
              "\t<tr><th scope=row>2</th><td>60</td><td> 2980.0</td><td>11874</td><td>Crime             </td><td>Unknown</td><td>Material only</td><td>3</td><td>No </td></tr>\n",
              "\t<tr><th scope=row>3</th><td>27</td><td> 3369.5</td><td>    4</td><td>Other driver error</td><td>No     </td><td>Material only</td><td>1</td><td>Yes</td></tr>\n",
              "\t<tr><th scope=row>4</th><td>39</td><td> 1680.0</td><td> 5278</td><td>Natural causes    </td><td>No     </td><td>Material only</td><td>1</td><td>No </td></tr>\n",
              "\t<tr><th scope=row>5</th><td>47</td><td> 2680.0</td><td> 2335</td><td>Crime             </td><td>No     </td><td>Material only</td><td>1</td><td>No </td></tr>\n",
              "\t<tr><th scope=row>6</th><td>36</td><td>38306.5</td><td> 2116</td><td>Other driver error</td><td>No     </td><td>Injury only  </td><td>3</td><td>Yes</td></tr>\n",
              "</tbody>\n",
              "</table>\n"
            ],
            "text/latex": [
              "A data.frame: 6 × 8\n",
              "\\begin{tabular}{r|llllllll}\n",
              "  & age & claim\\_amount & days\\_to\\_incident & incident\\_cause & police\\_report & claim\\_type & total\\_policy\\_claims & fraudulent\\\\\n",
              "  & <int> & <dbl> & <int> & <fct> & <fct> & <fct> & <int> & <fct>\\\\\n",
              "\\hline\n",
              "\t1 & 32 &  2980.0 &   225 & Driver error       & No      & Material only & 1 & No \\\\\n",
              "\t2 & 60 &  2980.0 & 11874 & Crime              & Unknown & Material only & 3 & No \\\\\n",
              "\t3 & 27 &  3369.5 &     4 & Other driver error & No      & Material only & 1 & Yes\\\\\n",
              "\t4 & 39 &  1680.0 &  5278 & Natural causes     & No      & Material only & 1 & No \\\\\n",
              "\t5 & 47 &  2680.0 &  2335 & Crime              & No      & Material only & 1 & No \\\\\n",
              "\t6 & 36 & 38306.5 &  2116 & Other driver error & No      & Injury only   & 3 & Yes\\\\\n",
              "\\end{tabular}\n"
            ],
            "text/markdown": [
              "\n",
              "A data.frame: 6 × 8\n",
              "\n",
              "| <!--/--> | age &lt;int&gt; | claim_amount &lt;dbl&gt; | days_to_incident &lt;int&gt; | incident_cause &lt;fct&gt; | police_report &lt;fct&gt; | claim_type &lt;fct&gt; | total_policy_claims &lt;int&gt; | fraudulent &lt;fct&gt; |\n",
              "|---|---|---|---|---|---|---|---|---|\n",
              "| 1 | 32 |  2980.0 |   225 | Driver error       | No      | Material only | 1 | No  |\n",
              "| 2 | 60 |  2980.0 | 11874 | Crime              | Unknown | Material only | 3 | No  |\n",
              "| 3 | 27 |  3369.5 |     4 | Other driver error | No      | Material only | 1 | Yes |\n",
              "| 4 | 39 |  1680.0 |  5278 | Natural causes     | No      | Material only | 1 | No  |\n",
              "| 5 | 47 |  2680.0 |  2335 | Crime              | No      | Material only | 1 | No  |\n",
              "| 6 | 36 | 38306.5 |  2116 | Other driver error | No      | Injury only   | 3 | Yes |\n",
              "\n"
            ],
            "text/plain": [
              "  age claim_amount days_to_incident incident_cause     police_report\n",
              "1 32   2980.0        225            Driver error       No           \n",
              "2 60   2980.0      11874            Crime              Unknown      \n",
              "3 27   3369.5          4            Other driver error No           \n",
              "4 39   1680.0       5278            Natural causes     No           \n",
              "5 47   2680.0       2335            Crime              No           \n",
              "6 36  38306.5       2116            Other driver error No           \n",
              "  claim_type    total_policy_claims fraudulent\n",
              "1 Material only 1                   No        \n",
              "2 Material only 3                   No        \n",
              "3 Material only 1                   Yes       \n",
              "4 Material only 1                   No        \n",
              "5 Material only 1                   No        \n",
              "6 Injury only   3                   Yes       "
            ]
          },
          "metadata": {},
          "output_type": "display_data"
        }
      ],
      "source": [
        "library(rpart)\n",
        "library(C50)\n",
        "library(tree)\n",
        "head(fraudes_EA_P)"
      ]
    },
    {
      "cell_type": "code",
      "execution_count": 210,
      "metadata": {
        "vscode": {
          "languageId": "r"
        }
      },
      "outputs": [],
      "source": [
        "tree1 <- rpart(fraudulent ~ ., fraudes_EA_P, parms = list(loss = costmatrix))\n",
        "tree2 <- C5.0(fraudulent ~ ., fraudes_EA_P)\n",
        "tree3 <- tree(fraudulent ~ ., fraudes_EA_P)"
      ]
    },
    {
      "cell_type": "code",
      "execution_count": 211,
      "metadata": {
        "vscode": {
          "languageId": "r"
        }
      },
      "outputs": [
        {
          "data": {
            "text/html": [
              "<style>\n",
              ".dl-inline {width: auto; margin:0; padding: 0}\n",
              ".dl-inline>dt, .dl-inline>dd {float: none; width: auto; display: inline-block}\n",
              ".dl-inline>dt::after {content: \":\\0020\"; padding-right: .5ex}\n",
              ".dl-inline>dt:not(:first-of-type) {padding-left: .5ex}\n",
              "</style><dl class=dl-inline><dt>days_to_incident</dt><dd>47.6641939624485</dd><dt>age</dt><dd>23.9082722870081</dd><dt>claim_amount</dt><dd>18.1728721151917</dd><dt>incident_cause</dt><dd>12.7938828952131</dd><dt>police_report</dt><dd>10.612422309258</dd><dt>claim_type</dt><dd>8.40594174493237</dd><dt>total_policy_claims</dt><dd>6.55446947686369</dd></dl>\n"
            ],
            "text/latex": [
              "\\begin{description*}\n",
              "\\item[days\\textbackslash{}\\_to\\textbackslash{}\\_incident] 47.6641939624485\n",
              "\\item[age] 23.9082722870081\n",
              "\\item[claim\\textbackslash{}\\_amount] 18.1728721151917\n",
              "\\item[incident\\textbackslash{}\\_cause] 12.7938828952131\n",
              "\\item[police\\textbackslash{}\\_report] 10.612422309258\n",
              "\\item[claim\\textbackslash{}\\_type] 8.40594174493237\n",
              "\\item[total\\textbackslash{}\\_policy\\textbackslash{}\\_claims] 6.55446947686369\n",
              "\\end{description*}\n"
            ],
            "text/markdown": [
              "days_to_incident\n",
              ":   47.6641939624485age\n",
              ":   23.9082722870081claim_amount\n",
              ":   18.1728721151917incident_cause\n",
              ":   12.7938828952131police_report\n",
              ":   10.612422309258claim_type\n",
              ":   8.40594174493237total_policy_claims\n",
              ":   6.55446947686369\n",
              "\n"
            ],
            "text/plain": [
              "   days_to_incident                 age        claim_amount      incident_cause \n",
              "          47.664194           23.908272           18.172872           12.793883 \n",
              "      police_report          claim_type total_policy_claims \n",
              "          10.612422            8.405942            6.554469 "
            ]
          },
          "metadata": {},
          "output_type": "display_data"
        }
      ],
      "source": [
        "tree1$variable.importance"
      ]
    },
    {
      "cell_type": "code",
      "execution_count": 212,
      "metadata": {
        "vscode": {
          "languageId": "r"
        }
      },
      "outputs": [],
      "source": [
        "test_tree1 <- predict(tree1, fraudes_ET_P, type=\"class\")\n",
        "test_tree2 <- predict(tree2, fraudes_ET_P, type=\"class\")\n",
        "test_tree3 <- predict(tree3, fraudes_ET_P, type=\"class\")"
      ]
    },
    {
      "cell_type": "markdown",
      "metadata": {},
      "source": [
        "Matrices de confusion"
      ]
    },
    {
      "cell_type": "code",
      "execution_count": 213,
      "metadata": {
        "vscode": {
          "languageId": "r"
        }
      },
      "outputs": [
        {
          "name": "stdout",
          "output_type": "stream",
          "text": [
            "     test_tree1\n",
            "       No Yes\n",
            "  No  161 120\n",
            "  Yes  33  48\n",
            "     test_tree2\n",
            "       No Yes\n",
            "  No  264  17\n",
            "  Yes  66  15\n",
            "     test_tree3\n",
            "       No Yes\n",
            "  No  271  10\n",
            "  Yes  77   4\n"
          ]
        }
      ],
      "source": [
        "mc_tree1 = table(fraudes_ET_P$fraudulent, test_tree1)\n",
        "mc_tree2 = table(fraudes_ET_P$fraudulent, test_tree2)\n",
        "mc_tree3 = table(fraudes_ET_P$fraudulent, test_tree3)\n",
        "print(mc_tree1)\n",
        "print(mc_tree2)\n",
        "print(mc_tree3)"
      ]
    },
    {
      "cell_type": "code",
      "execution_count": 214,
      "metadata": {
        "vscode": {
          "languageId": "r"
        }
      },
      "outputs": [
        {
          "name": "stdout",
          "output_type": "stream",
          "text": [
            "Precision :  0.5773481[1] \"\"\n",
            "[1] \"Taux succes (YES predit YES) :\"\n",
            "[1] 0.5925926\n",
            "Precision :  0.7707182[1] \"\"\n",
            "[1] \"Taux succes (YES predit YES) :\"\n",
            "[1] 0.1851852\n",
            "Precision :  0.7596685[1] \"\"\n",
            "[1] \"Taux succes (YES predit YES) :\"\n",
            "[1] 0.04938272\n"
          ]
        }
      ],
      "source": [
        "perf(tree1, mc_tree1)\n",
        "perf(tree2, mc_tree2)\n",
        "perf(tree3, mc_tree3)"
      ]
    },
    {
      "cell_type": "code",
      "execution_count": 215,
      "metadata": {
        "vscode": {
          "languageId": "r"
        }
      },
      "outputs": [
        {
          "data": {
            "text/plain": [
              "\n",
              " No Yes \n",
              "281  81 "
            ]
          },
          "metadata": {},
          "output_type": "display_data"
        }
      ],
      "source": [
        "table(fraudes_ET_P$fraudulent)"
      ]
    },
    {
      "cell_type": "markdown",
      "metadata": {},
      "source": [
        "## Choix du classifieur le plus performant"
      ]
    },
    {
      "cell_type": "markdown",
      "metadata": {},
      "source": [
        "On constate qu'avec les features séléctionnées le premier arbre est plus performant en terme de success rate."
      ]
    },
    {
      "cell_type": "code",
      "execution_count": 216,
      "metadata": {
        "vscode": {
          "languageId": "r"
        }
      },
      "outputs": [
        {
          "name": "stdout",
          "output_type": "stream",
          "text": [
            "Precision :  0.5773481[1] \"\"\n",
            "[1] \"Taux succes (YES predit YES) :\"\n",
            "[1] 0.5925926\n"
          ]
        }
      ],
      "source": [
        "perf(tree1, mc_tree1)"
      ]
    },
    {
      "cell_type": "markdown",
      "metadata": {},
      "source": [
        "## Application du classifieur aux données à prédire"
      ]
    }
  ],
  "metadata": {
    "kernel_info": {
      "name": "ir"
    },
    "kernelspec": {
      "display_name": "R",
      "language": "R",
      "name": "ir"
    },
    "language_info": {
      "codemirror_mode": "r",
      "file_extension": ".r",
      "mimetype": "text/x-r-source",
      "name": "R",
      "pygments_lexer": "r",
      "version": "3.6.3"
    },
    "nteract": {
      "version": "nteract-front-end@1.0.0"
    },
    "orig_nbformat": 4
  },
  "nbformat": 4,
  "nbformat_minor": 2
}
