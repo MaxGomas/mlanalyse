{
 "cells": [
  {
   "cell_type": "markdown",
   "metadata": {},
   "source": [
    "# Ensemble de données\n",
    "\n",
    "On peut constater que les données sont divisées en deux ensembles :\n",
    "- Le premier, labelisé, servira à l'apprentissage supervisé (Entrainement et test)\n",
    "- Le second, inconnu, représente une situation réelle dans laquelle nous devrons prédire à l'aide de notre modèle"
   ]
  },
  {
   "cell_type": "code",
   "execution_count": null,
   "metadata": {},
   "outputs": [],
   "source": []
  }
 ],
 "metadata": {
  "language_info": {
   "name": "python"
  },
  "orig_nbformat": 4
 },
 "nbformat": 4,
 "nbformat_minor": 2
}
