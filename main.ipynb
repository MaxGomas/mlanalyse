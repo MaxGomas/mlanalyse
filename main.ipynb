{
  "cells": [
    {
      "cell_type": "markdown",
      "metadata": {},
      "source": [
        "# Projet d'analyse de fraude\n",
        "\n",
        "Par Théo DESLAGE et Maximilien GOMAS"
      ]
    },
    {
      "cell_type": "markdown",
      "metadata": {},
      "source": [
        "## Exploration et visualisation des données\n",
        "\n",
        "On peut constater que les données sont divisées en deux ensembles :\n",
        "- Le premier, labelisé, servira à l'apprentissage supervisé (Entrainement et test)\n",
        "- Le second, inconnu, représente une situation réelle dans laquelle nous devrons prédire à l'aide de notre modèle\n",
        "\n",
        "Chargeons les données"
      ]
    },
    {
      "cell_type": "code",
      "execution_count": 49,
      "metadata": {},
      "outputs": [
        {
          "data": {
            "text/html": [
              "<table class=\"dataframe\">\n",
              "<caption>A data.frame: 6 × 12</caption>\n",
              "<thead>\n",
              "\t<tr><th></th><th scope=col>claim_id</th><th scope=col>customer_id</th><th scope=col>age</th><th scope=col>gender</th><th scope=col>incident_cause</th><th scope=col>days_to_incident</th><th scope=col>claim_area</th><th scope=col>police_report</th><th scope=col>claim_type</th><th scope=col>claim_amount</th><th scope=col>total_policy_claims</th><th scope=col>fraudulent</th></tr>\n",
              "\t<tr><th></th><th scope=col>&lt;int&gt;</th><th scope=col>&lt;int&gt;</th><th scope=col>&lt;int&gt;</th><th scope=col>&lt;fct&gt;</th><th scope=col>&lt;fct&gt;</th><th scope=col>&lt;int&gt;</th><th scope=col>&lt;fct&gt;</th><th scope=col>&lt;fct&gt;</th><th scope=col>&lt;fct&gt;</th><th scope=col>&lt;dbl&gt;</th><th scope=col>&lt;int&gt;</th><th scope=col>&lt;fct&gt;</th></tr>\n",
              "</thead>\n",
              "<tbody>\n",
              "\t<tr><th scope=row>1</th><td>54004764</td><td>21868593</td><td>32</td><td>Female</td><td>Driver error      </td><td>  225</td><td>Auto</td><td>No     </td><td>Material only</td><td> 2980.0</td><td>1</td><td>No </td></tr>\n",
              "\t<tr><th scope=row>2</th><td>33985796</td><td>75740424</td><td>60</td><td>Female</td><td>Crime             </td><td>11874</td><td>Home</td><td>Unknown</td><td>Material only</td><td> 2980.0</td><td>3</td><td>No </td></tr>\n",
              "\t<tr><th scope=row>3</th><td>53522022</td><td>30308357</td><td>27</td><td>Female</td><td>Other driver error</td><td>    4</td><td>Auto</td><td>No     </td><td>Material only</td><td> 3369.5</td><td>1</td><td>Yes</td></tr>\n",
              "\t<tr><th scope=row>4</th><td>13015401</td><td>47830476</td><td>39</td><td>Female</td><td>Natural causes    </td><td> 5278</td><td>Auto</td><td>No     </td><td>Material only</td><td> 1680.0</td><td>1</td><td>No </td></tr>\n",
              "\t<tr><th scope=row>5</th><td>22890252</td><td>19269962</td><td>47</td><td>Male  </td><td>Crime             </td><td> 2335</td><td>Auto</td><td>No     </td><td>Material only</td><td> 2680.0</td><td>1</td><td>No </td></tr>\n",
              "\t<tr><th scope=row>6</th><td>24050443</td><td>21831191</td><td>36</td><td>Male  </td><td>Other driver error</td><td> 2116</td><td>Auto</td><td>No     </td><td>Injury only  </td><td>38306.5</td><td>3</td><td>Yes</td></tr>\n",
              "</tbody>\n",
              "</table>\n"
            ],
            "text/latex": [
              "A data.frame: 6 × 12\n",
              "\\begin{tabular}{r|llllllllllll}\n",
              "  & claim\\_id & customer\\_id & age & gender & incident\\_cause & days\\_to\\_incident & claim\\_area & police\\_report & claim\\_type & claim\\_amount & total\\_policy\\_claims & fraudulent\\\\\n",
              "  & <int> & <int> & <int> & <fct> & <fct> & <int> & <fct> & <fct> & <fct> & <dbl> & <int> & <fct>\\\\\n",
              "\\hline\n",
              "\t1 & 54004764 & 21868593 & 32 & Female & Driver error       &   225 & Auto & No      & Material only &  2980.0 & 1 & No \\\\\n",
              "\t2 & 33985796 & 75740424 & 60 & Female & Crime              & 11874 & Home & Unknown & Material only &  2980.0 & 3 & No \\\\\n",
              "\t3 & 53522022 & 30308357 & 27 & Female & Other driver error &     4 & Auto & No      & Material only &  3369.5 & 1 & Yes\\\\\n",
              "\t4 & 13015401 & 47830476 & 39 & Female & Natural causes     &  5278 & Auto & No      & Material only &  1680.0 & 1 & No \\\\\n",
              "\t5 & 22890252 & 19269962 & 47 & Male   & Crime              &  2335 & Auto & No      & Material only &  2680.0 & 1 & No \\\\\n",
              "\t6 & 24050443 & 21831191 & 36 & Male   & Other driver error &  2116 & Auto & No      & Injury only   & 38306.5 & 3 & Yes\\\\\n",
              "\\end{tabular}\n"
            ],
            "text/markdown": [
              "\n",
              "A data.frame: 6 × 12\n",
              "\n",
              "| <!--/--> | claim_id &lt;int&gt; | customer_id &lt;int&gt; | age &lt;int&gt; | gender &lt;fct&gt; | incident_cause &lt;fct&gt; | days_to_incident &lt;int&gt; | claim_area &lt;fct&gt; | police_report &lt;fct&gt; | claim_type &lt;fct&gt; | claim_amount &lt;dbl&gt; | total_policy_claims &lt;int&gt; | fraudulent &lt;fct&gt; |\n",
              "|---|---|---|---|---|---|---|---|---|---|---|---|---|\n",
              "| 1 | 54004764 | 21868593 | 32 | Female | Driver error       |   225 | Auto | No      | Material only |  2980.0 | 1 | No  |\n",
              "| 2 | 33985796 | 75740424 | 60 | Female | Crime              | 11874 | Home | Unknown | Material only |  2980.0 | 3 | No  |\n",
              "| 3 | 53522022 | 30308357 | 27 | Female | Other driver error |     4 | Auto | No      | Material only |  3369.5 | 1 | Yes |\n",
              "| 4 | 13015401 | 47830476 | 39 | Female | Natural causes     |  5278 | Auto | No      | Material only |  1680.0 | 1 | No  |\n",
              "| 5 | 22890252 | 19269962 | 47 | Male   | Crime              |  2335 | Auto | No      | Material only |  2680.0 | 1 | No  |\n",
              "| 6 | 24050443 | 21831191 | 36 | Male   | Other driver error |  2116 | Auto | No      | Injury only   | 38306.5 | 3 | Yes |\n",
              "\n"
            ],
            "text/plain": [
              "  claim_id customer_id age gender incident_cause     days_to_incident\n",
              "1 54004764 21868593    32  Female Driver error         225           \n",
              "2 33985796 75740424    60  Female Crime              11874           \n",
              "3 53522022 30308357    27  Female Other driver error     4           \n",
              "4 13015401 47830476    39  Female Natural causes      5278           \n",
              "5 22890252 19269962    47  Male   Crime               2335           \n",
              "6 24050443 21831191    36  Male   Other driver error  2116           \n",
              "  claim_area police_report claim_type    claim_amount total_policy_claims\n",
              "1 Auto       No            Material only  2980.0      1                  \n",
              "2 Home       Unknown       Material only  2980.0      3                  \n",
              "3 Auto       No            Material only  3369.5      1                  \n",
              "4 Auto       No            Material only  1680.0      1                  \n",
              "5 Auto       No            Material only  2680.0      1                  \n",
              "6 Auto       No            Injury only   38306.5      3                  \n",
              "  fraudulent\n",
              "1 No        \n",
              "2 No        \n",
              "3 Yes       \n",
              "4 No        \n",
              "5 No        \n",
              "6 Yes       "
            ]
          },
          "metadata": {},
          "output_type": "display_data"
        }
      ],
      "source": [
        "fraudes <- read.csv(\"./data/Data_Projet_1.csv\", header = TRUE, sep = \",\", dec = \".\", stringsAsFactors = TRUE)\n",
        "head(fraudes)"
      ]
    },
    {
      "cell_type": "markdown",
      "metadata": {},
      "source": [
        "Nous allons maintenant explorer les données et comprendre quelles features sont déterminantes pour la prédiction de la fraude."
      ]
    },
    {
      "cell_type": "markdown",
      "metadata": {},
      "source": [
        "### Summary pour se donner une vue globale"
      ]
    },
    {
      "cell_type": "code",
      "execution_count": 2,
      "metadata": {},
      "outputs": [
        {
          "data": {
            "text/plain": [
              "    claim_id         customer_id            age          gender   \n",
              " Min.   :   26832   Min.   :  154557   Min.   :18.0   Female:541  \n",
              " 1st Qu.:23815805   1st Qu.:26791756   1st Qu.:33.0   Male  :559  \n",
              " Median :48539331   Median :49855152   Median :47.0               \n",
              " Mean   :48838190   Mean   :50874698   Mean   :47.8               \n",
              " 3rd Qu.:74074466   3rd Qu.:75949511   3rd Qu.:63.0               \n",
              " Max.   :99775483   Max.   :99961993   Max.   :79.0               \n",
              "            incident_cause days_to_incident  claim_area police_report\n",
              " Crime             :110    Min.   :    2.0   Auto:985   No     :630  \n",
              " Driver error      :262    1st Qu.:  635.5   Home:115   Unknown:300  \n",
              " Natural causes    :189    Median : 2042.5              Yes    :170  \n",
              " Other causes      :290    Mean   : 2814.1                           \n",
              " Other driver error:249    3rd Qu.: 4153.5                           \n",
              "                           Max.   :14991.0                           \n",
              "               claim_type   claim_amount   total_policy_claims fraudulent\n",
              " Injury only        :196   Min.   : 1000   Min.   :1.000       No :846   \n",
              " Material and injury:241   1st Qu.: 1880   1st Qu.:1.000       Yes:254   \n",
              " Material only      :663   Median : 2750   Median :1.000                 \n",
              "                           Mean   :12318   Mean   :1.596                 \n",
              "                           3rd Qu.:23965   3rd Qu.:2.000                 \n",
              "                           Max.   :48151   Max.   :8.000                 "
            ]
          },
          "metadata": {},
          "output_type": "display_data"
        }
      ],
      "source": [
        "summary(fraudes)"
      ]
    },
    {
      "cell_type": "markdown",
      "metadata": {},
      "source": [
        "### Recherche sur l'age"
      ]
    },
    {
      "cell_type": "code",
      "execution_count": 3,
      "metadata": {},
      "outputs": [
        {
          "data": {
            "image/png": "[encoded data removed]",
            "text/plain": [
              "plot without title"
            ]
          },
          "metadata": {
            "image/png": {
              "height": 420,
              "width": 420
            }
          },
          "output_type": "display_data"
        }
      ],
      "source": [
        "boxplot(age~fraudulent, data=fraudes)"
      ]
    },
    {
      "cell_type": "markdown",
      "metadata": {},
      "source": [
        "On peut constater que les déclarations frauduleuses concernent un publique plus jeune que celles qui ne le sont pas."
      ]
    },
    {
      "cell_type": "markdown",
      "metadata": {},
      "source": [
        "### Recherche par rapport au montant déclaré"
      ]
    },
    {
      "cell_type": "code",
      "execution_count": 4,
      "metadata": {},
      "outputs": [
        {
          "data": {
            "image/png": "[encoded data removed]",
            "text/plain": [
              "plot without title"
            ]
          },
          "metadata": {
            "image/png": {
              "height": 420,
              "width": 420
            }
          },
          "output_type": "display_data"
        }
      ],
      "source": [
        "library(ggplot2)\n",
        "qplot(claim_amount, data=fraudes, color=fraudulent, fill=fraudulent,bins = 30)"
      ]
    },
    {
      "cell_type": "markdown",
      "metadata": {},
      "source": [
        "On décide de séparer les claim_amount (supérieur et inférieur à 10000) pour mieux visualiser les tendances."
      ]
    },
    {
      "cell_type": "code",
      "execution_count": 5,
      "metadata": {},
      "outputs": [
        {
          "data": {
            "image/png": "[encoded data removed]",
            "text/plain": [
              "plot without title"
            ]
          },
          "metadata": {
            "image/png": {
              "height": 420,
              "width": 420
            }
          },
          "output_type": "display_data"
        }
      ],
      "source": [
        "library(ggplot2)\n",
        "qplot(claim_amount, data=fraudes[fraudes$claim_amount>10000,], color=fraudulent, fill=fraudulent, bins = 30)"
      ]
    },
    {
      "cell_type": "markdown",
      "metadata": {},
      "source": [
        "On remarque qu'au dessus de 43k, toutes les ransactions sont frauduleuses. Nous décidons d'enlever les valeurs au dessus de 43k lors du pré traitement des données, car notre arbre fera inéluctablement une corrélation qui nous semble plus lié au jeu de donnée qu'à une représentation de la réalité.\n",
        "\n",
        "Pour confirmer notre raisonnement on compte le nombre de transactions concernées, et on se rend compte que c'est assez faible (15/1100)"
      ]
    },
    {
      "cell_type": "code",
      "execution_count": 6,
      "metadata": {},
      "outputs": [
        {
          "data": {
            "text/html": [
              "1100"
            ],
            "text/latex": [
              "1100"
            ],
            "text/markdown": [
              "1100"
            ],
            "text/plain": [
              "[1] 1100"
            ]
          },
          "metadata": {},
          "output_type": "display_data"
        },
        {
          "data": {
            "text/html": [
              "15"
            ],
            "text/latex": [
              "15"
            ],
            "text/markdown": [
              "15"
            ],
            "text/plain": [
              "[1] 15"
            ]
          },
          "metadata": {},
          "output_type": "display_data"
        }
      ],
      "source": [
        "nrow(fraudes)\n",
        "nrow(fraudes[fraudes$claim_amount>43000,])"
      ]
    },
    {
      "cell_type": "code",
      "execution_count": 7,
      "metadata": {},
      "outputs": [
        {
          "data": {
            "image/png": "[encoded data removed]",
            "text/plain": [
              "plot without title"
            ]
          },
          "metadata": {
            "image/png": {
              "height": 420,
              "width": 420
            }
          },
          "output_type": "display_data"
        }
      ],
      "source": [
        "qplot(claim_amount, data=fraudes[fraudes$claim_amount<10000,], color=fraudulent, fill=fraudulent, bins = 30)"
      ]
    },
    {
      "cell_type": "markdown",
      "metadata": {},
      "source": [
        "### Recherche par rapport au genre\n",
        "\n",
        "On se permet de comparer car grâce à la summarization on a pu constater que le nombre d'échantillon pour chaque sexe était relativement le même."
      ]
    },
    {
      "cell_type": "code",
      "execution_count": 8,
      "metadata": {},
      "outputs": [
        {
          "data": {
            "image/png": "[encoded data removed]",
            "text/plain": [
              "plot without title"
            ]
          },
          "metadata": {
            "image/png": {
              "height": 420,
              "width": 420
            }
          },
          "output_type": "display_data"
        }
      ],
      "source": [
        "qplot(gender, data=fraudes, color=fraudulent, fill=fraudulent)"
      ]
    },
    {
      "cell_type": "markdown",
      "metadata": {},
      "source": [
        "On constate que le genre n'influe pas du tout sur le caractère frauduleux d'une transaction"
      ]
    },
    {
      "cell_type": "markdown",
      "metadata": {},
      "source": [
        "### La cause de l'incident"
      ]
    },
    {
      "cell_type": "code",
      "execution_count": 9,
      "metadata": {},
      "outputs": [
        {
          "data": {
            "image/png": "[encoded data removed]",
            "text/plain": [
              "plot without title"
            ]
          },
          "metadata": {
            "image/png": {
              "height": 420,
              "width": 420
            }
          },
          "output_type": "display_data"
        }
      ],
      "source": [
        "qplot(incident_cause, data=fraudes, color=fraudulent, fill=fraudulent)"
      ]
    },
    {
      "cell_type": "markdown",
      "metadata": {},
      "source": [
        "On constate que la cause de l'incident ne joue pas beaucoup non plus sur le caractère frauduleux"
      ]
    },
    {
      "cell_type": "markdown",
      "metadata": {},
      "source": [
        "### Nombre de jours passés entre l'incident et la déclaration"
      ]
    },
    {
      "cell_type": "code",
      "execution_count": 10,
      "metadata": {},
      "outputs": [
        {
          "name": "stderr",
          "output_type": "stream",
          "text": [
            "`stat_bin()` using `bins = 30`. Pick better value with `binwidth`.\n",
            "\n"
          ]
        },
        {
          "data": {
            "image/png": "[encoded data removed]",
            "text/plain": [
              "plot without title"
            ]
          },
          "metadata": {
            "image/png": {
              "height": 420,
              "width": 420
            }
          },
          "output_type": "display_data"
        }
      ],
      "source": [
        "qplot(days_to_incident, data=fraudes, color=fraudulent, fill=fraudulent)"
      ]
    },
    {
      "cell_type": "markdown",
      "metadata": {},
      "source": [
        "On remarque qu'il y a une proportion de fraudes plus élevée pour les incidents déclarés immédiatements. On confirme :"
      ]
    },
    {
      "cell_type": "code",
      "execution_count": 11,
      "metadata": {},
      "outputs": [
        {
          "name": "stderr",
          "output_type": "stream",
          "text": [
            "`stat_bin()` using `bins = 30`. Pick better value with `binwidth`.\n",
            "\n"
          ]
        },
        {
          "data": {
            "image/png": "[encoded data removed]",
            "text/plain": [
              "plot without title"
            ]
          },
          "metadata": {
            "image/png": {
              "height": 420,
              "width": 420
            }
          },
          "output_type": "display_data"
        }
      ],
      "source": [
        "qplot(days_to_incident, data=fraudes[fraudes$days_to_incident<10,], color=fraudulent, fill=fraudulent)"
      ]
    },
    {
      "cell_type": "code",
      "execution_count": 12,
      "metadata": {},
      "outputs": [
        {
          "name": "stdout",
          "output_type": "stream",
          "text": [
            "[1] 0.4680851\n",
            "[1] 0.2309091\n"
          ]
        }
      ],
      "source": [
        "print(nrow(fraudes[fraudes$days_to_incident<10 & fraudes$fraudulent=='Yes',])/nrow(fraudes[fraudes$days_to_incident<10,]))\n",
        "print(nrow(fraudes[fraudes$fraudulent=='Yes',])/nrow(fraudes))"
      ]
    },
    {
      "cell_type": "markdown",
      "metadata": {},
      "source": [
        "Cela veut dire que pour des déclarations faites à moins de 10 jours on a 46% de fraude ce qui est nettement superieur à l'ensemble global (23%). Ce critère sera donc très intéressant pour notre modèle."
      ]
    },
    {
      "cell_type": "markdown",
      "metadata": {},
      "source": [
        "### La zone de déclaration"
      ]
    },
    {
      "cell_type": "code",
      "execution_count": 13,
      "metadata": {},
      "outputs": [
        {
          "data": {
            "image/png": "[encoded data removed]",
            "text/plain": [
              "plot without title"
            ]
          },
          "metadata": {
            "image/png": {
              "height": 420,
              "width": 420
            }
          },
          "output_type": "display_data"
        }
      ],
      "source": [
        "qplot(claim_area, data=fraudes, color=fraudulent, fill=fraudulent)"
      ]
    },
    {
      "cell_type": "markdown",
      "metadata": {},
      "source": [
        "### Un rapport de police"
      ]
    },
    {
      "cell_type": "code",
      "execution_count": 14,
      "metadata": {},
      "outputs": [
        {
          "data": {
            "image/png": "[encoded data removed]",
            "text/plain": [
              "plot without title"
            ]
          },
          "metadata": {
            "image/png": {
              "height": 420,
              "width": 420
            }
          },
          "output_type": "display_data"
        }
      ],
      "source": [
        "qplot(police_report, data=fraudes, color=fraudulent, fill=fraudulent)"
      ]
    },
    {
      "cell_type": "markdown",
      "metadata": {},
      "source": [
        "On présent une information intéressante, on compare donc les 3 cas (avec le global qui est de 23%)"
      ]
    },
    {
      "cell_type": "code",
      "execution_count": 15,
      "metadata": {},
      "outputs": [
        {
          "name": "stdout",
          "output_type": "stream",
          "text": [
            "[1] 0.1\n",
            "[1] 0.2766667\n",
            "[1] 0.2444444\n"
          ]
        }
      ],
      "source": [
        "print(nrow(fraudes[fraudes$police_report=='Yes' & fraudes$fraudulent=='Yes',])/nrow(fraudes[fraudes$police_report=='Yes',])) # Rapport\n",
        "print(nrow(fraudes[fraudes$police_report=='Unknown' & fraudes$fraudulent=='Yes',])/nrow(fraudes[fraudes$police_report=='Unknown',])) # Unknown\n",
        "print(nrow(fraudes[fraudes$police_report=='No' & fraudes$fraudulent=='Yes',])/nrow(fraudes[fraudes$police_report=='No',])) # No Report"
      ]
    },
    {
      "cell_type": "markdown",
      "metadata": {},
      "source": [
        "On constate que lors de la réalisation d'un rapport il n'y a que 10% de fraudes, ça influe donc très négativement (positivement pour l'assureur) sur les fraudes."
      ]
    },
    {
      "cell_type": "markdown",
      "metadata": {},
      "source": [
        "### Le type de déclaration"
      ]
    },
    {
      "cell_type": "code",
      "execution_count": 16,
      "metadata": {},
      "outputs": [
        {
          "data": {
            "image/png": "[encoded data removed]",
            "text/plain": [
              "plot without title"
            ]
          },
          "metadata": {
            "image/png": {
              "height": 420,
              "width": 420
            }
          },
          "output_type": "display_data"
        }
      ],
      "source": [
        "qplot(claim_type, data=fraudes, color=fraudulent, fill=fraudulent)"
      ]
    },
    {
      "cell_type": "markdown",
      "metadata": {},
      "source": [
        "### Nombre d'incidents déclarés"
      ]
    },
    {
      "cell_type": "code",
      "execution_count": 17,
      "metadata": {},
      "outputs": [
        {
          "name": "stderr",
          "output_type": "stream",
          "text": [
            "`stat_bin()` using `bins = 30`. Pick better value with `binwidth`.\n",
            "\n"
          ]
        },
        {
          "data": {
            "image/png": "[encoded data removed]",
            "text/plain": [
              "plot without title"
            ]
          },
          "metadata": {
            "image/png": {
              "height": 420,
              "width": 420
            }
          },
          "output_type": "display_data"
        }
      ],
      "source": [
        "qplot(total_policy_claims, data=fraudes, color=fraudulent, fill=fraudulent) "
      ]
    },
    {
      "cell_type": "code",
      "execution_count": 18,
      "metadata": {},
      "outputs": [
        {
          "name": "stdout",
          "output_type": "stream",
          "text": [
            "[1] 0.1962617\n"
          ]
        },
        {
          "data": {
            "text/html": [
              "799"
            ],
            "text/latex": [
              "799"
            ],
            "text/markdown": [
              "799"
            ],
            "text/plain": [
              "[1] 799"
            ]
          },
          "metadata": {},
          "output_type": "display_data"
        },
        {
          "name": "stdout",
          "output_type": "stream",
          "text": [
            "[1] \"------\"\n",
            "[1] 799\n",
            "[1] 21.77722\n",
            "[1] \"------\"\n",
            "[1] 107\n",
            "[1] 19.62617\n",
            "[1] \"------\"\n",
            "[1] 91\n",
            "[1] 24.17582\n",
            "[1] \"------\"\n",
            "[1] 62\n",
            "[1] 41.93548\n",
            "[1] \"------\"\n",
            "[1] 28\n",
            "[1] 28.57143\n",
            "[1] \"------\"\n",
            "[1] 10\n",
            "[1] 10\n",
            "[1] \"------\"\n",
            "[1] 2\n",
            "[1] 50\n",
            "[1] \"------\"\n",
            "[1] 1\n",
            "[1] 100\n"
          ]
        }
      ],
      "source": [
        "print(nrow(fraudes[fraudes$total_policy_claims==2 & fraudes$fraudulent=='Yes',])/nrow(fraudes[fraudes$total_policy_claims==2,])) \n",
        "nrow(fraudes[fraudes$total_policy_claims==1,])\n",
        "\n",
        "for (x in 1:8) {\n",
        "    print(\"------\")\n",
        "    print(nrow(fraudes[fraudes$total_policy_claims==x,]))\n",
        "    pct <- nrow(fraudes[fraudes$total_policy_claims==x & fraudes$fraudulent=='Yes',])/nrow(fraudes[fraudes$total_policy_claims==x,])*100\n",
        "    print(pct)\n",
        "} "
      ]
    },
    {
      "cell_type": "code",
      "execution_count": 19,
      "metadata": {},
      "outputs": [
        {
          "name": "stdout",
          "output_type": "stream",
          "text": [
            "    claim_id customer_id age gender     incident_cause days_to_incident\n",
            "52  39647651    18361978  73 Female       Other causes             4770\n",
            "820 42530425    46129941  29 Female              Crime             1274\n",
            "875 32759962    77116501  68 Female Other driver error             2820\n",
            "    claim_area police_report          claim_type claim_amount\n",
            "52        Auto       Unknown Material and injury      25576.0\n",
            "820       Auto            No       Material only       3277.5\n",
            "875       Auto       Unknown         Injury only      20490.0\n",
            "    total_policy_claims fraudulent\n",
            "52                    7        Yes\n",
            "820                   8        Yes\n",
            "875                   7         No\n"
          ]
        }
      ],
      "source": [
        "print(fraudes[fraudes$total_policy_claims>6,])"
      ]
    },
    {
      "cell_type": "markdown",
      "metadata": {},
      "source": [
        "Il n'y a que très peu de données pour les policy claims == 7 ou 8, on décidera donc de les enlever"
      ]
    },
    {
      "cell_type": "markdown",
      "metadata": {},
      "source": [
        "## Pré traitement des données"
      ]
    },
    {
      "cell_type": "markdown",
      "metadata": {},
      "source": [
        "On sait que deux variables ne sont pas pertinentes dans la prédiction, l'ID de la transaction *claim_id* puisqu'il est unique et le numéro d'utilisateur *customer_id*. On pourrait établir un modèle qui prend en compte le *customer_id* pour \"suspecter\" ceux qui ont déjà fraudé. Mais dans ce cas de la détection de nouvelles fraudes l'utilisateur sera très probablement nouveau, il ne faut pas que cela altère le jugement du modèle, qui doit se méfier de tout le monde, sans distinction."
      ]
    },
    {
      "cell_type": "code",
      "execution_count": 58,
      "metadata": {},
      "outputs": [
        {
          "data": {
            "text/html": [
              "<table class=\"dataframe\">\n",
              "<caption>A data.frame: 6 × 10</caption>\n",
              "<thead>\n",
              "\t<tr><th></th><th scope=col>age</th><th scope=col>gender</th><th scope=col>incident_cause</th><th scope=col>days_to_incident</th><th scope=col>claim_area</th><th scope=col>police_report</th><th scope=col>claim_type</th><th scope=col>claim_amount</th><th scope=col>total_policy_claims</th><th scope=col>fraudulent</th></tr>\n",
              "\t<tr><th></th><th scope=col>&lt;int&gt;</th><th scope=col>&lt;fct&gt;</th><th scope=col>&lt;fct&gt;</th><th scope=col>&lt;int&gt;</th><th scope=col>&lt;fct&gt;</th><th scope=col>&lt;fct&gt;</th><th scope=col>&lt;fct&gt;</th><th scope=col>&lt;dbl&gt;</th><th scope=col>&lt;int&gt;</th><th scope=col>&lt;fct&gt;</th></tr>\n",
              "</thead>\n",
              "<tbody>\n",
              "\t<tr><th scope=row>4</th><td>39</td><td>Female</td><td>Natural causes    </td><td>5278</td><td>Auto</td><td>No     </td><td>Material only</td><td> 1680.0</td><td>1</td><td>No </td></tr>\n",
              "\t<tr><th scope=row>5</th><td>47</td><td>Male  </td><td>Crime             </td><td>2335</td><td>Auto</td><td>No     </td><td>Material only</td><td> 2680.0</td><td>1</td><td>No </td></tr>\n",
              "\t<tr><th scope=row>6</th><td>36</td><td>Male  </td><td>Other driver error</td><td>2116</td><td>Auto</td><td>No     </td><td>Injury only  </td><td>38306.5</td><td>3</td><td>Yes</td></tr>\n",
              "\t<tr><th scope=row>7</th><td>73</td><td>Male  </td><td>Driver error      </td><td>4196</td><td>Auto</td><td>No     </td><td>Material only</td><td> 1730.0</td><td>4</td><td>No </td></tr>\n",
              "\t<tr><th scope=row>8</th><td>55</td><td>Male  </td><td>Natural causes    </td><td> 622</td><td>Auto</td><td>No     </td><td>Material only</td><td> 1160.0</td><td>3</td><td>No </td></tr>\n",
              "\t<tr><th scope=row>9</th><td>67</td><td>Male  </td><td>Crime             </td><td>3386</td><td>Auto</td><td>Unknown</td><td>Material only</td><td> 2620.0</td><td>1</td><td>No </td></tr>\n",
              "</tbody>\n",
              "</table>\n"
            ],
            "text/latex": [
              "A data.frame: 6 × 10\n",
              "\\begin{tabular}{r|llllllllll}\n",
              "  & age & gender & incident\\_cause & days\\_to\\_incident & claim\\_area & police\\_report & claim\\_type & claim\\_amount & total\\_policy\\_claims & fraudulent\\\\\n",
              "  & <int> & <fct> & <fct> & <int> & <fct> & <fct> & <fct> & <dbl> & <int> & <fct>\\\\\n",
              "\\hline\n",
              "\t4 & 39 & Female & Natural causes     & 5278 & Auto & No      & Material only &  1680.0 & 1 & No \\\\\n",
              "\t5 & 47 & Male   & Crime              & 2335 & Auto & No      & Material only &  2680.0 & 1 & No \\\\\n",
              "\t6 & 36 & Male   & Other driver error & 2116 & Auto & No      & Injury only   & 38306.5 & 3 & Yes\\\\\n",
              "\t7 & 73 & Male   & Driver error       & 4196 & Auto & No      & Material only &  1730.0 & 4 & No \\\\\n",
              "\t8 & 55 & Male   & Natural causes     &  622 & Auto & No      & Material only &  1160.0 & 3 & No \\\\\n",
              "\t9 & 67 & Male   & Crime              & 3386 & Auto & Unknown & Material only &  2620.0 & 1 & No \\\\\n",
              "\\end{tabular}\n"
            ],
            "text/markdown": [
              "\n",
              "A data.frame: 6 × 10\n",
              "\n",
              "| <!--/--> | age &lt;int&gt; | gender &lt;fct&gt; | incident_cause &lt;fct&gt; | days_to_incident &lt;int&gt; | claim_area &lt;fct&gt; | police_report &lt;fct&gt; | claim_type &lt;fct&gt; | claim_amount &lt;dbl&gt; | total_policy_claims &lt;int&gt; | fraudulent &lt;fct&gt; |\n",
              "|---|---|---|---|---|---|---|---|---|---|---|\n",
              "| 4 | 39 | Female | Natural causes     | 5278 | Auto | No      | Material only |  1680.0 | 1 | No  |\n",
              "| 5 | 47 | Male   | Crime              | 2335 | Auto | No      | Material only |  2680.0 | 1 | No  |\n",
              "| 6 | 36 | Male   | Other driver error | 2116 | Auto | No      | Injury only   | 38306.5 | 3 | Yes |\n",
              "| 7 | 73 | Male   | Driver error       | 4196 | Auto | No      | Material only |  1730.0 | 4 | No  |\n",
              "| 8 | 55 | Male   | Natural causes     |  622 | Auto | No      | Material only |  1160.0 | 3 | No  |\n",
              "| 9 | 67 | Male   | Crime              | 3386 | Auto | Unknown | Material only |  2620.0 | 1 | No  |\n",
              "\n"
            ],
            "text/plain": [
              "  age gender incident_cause     days_to_incident claim_area police_report\n",
              "4 39  Female Natural causes     5278             Auto       No           \n",
              "5 47  Male   Crime              2335             Auto       No           \n",
              "6 36  Male   Other driver error 2116             Auto       No           \n",
              "7 73  Male   Driver error       4196             Auto       No           \n",
              "8 55  Male   Natural causes      622             Auto       No           \n",
              "9 67  Male   Crime              3386             Auto       Unknown      \n",
              "  claim_type    claim_amount total_policy_claims fraudulent\n",
              "4 Material only  1680.0      1                   No        \n",
              "5 Material only  2680.0      1                   No        \n",
              "6 Injury only   38306.5      3                   Yes       \n",
              "7 Material only  1730.0      4                   No        \n",
              "8 Material only  1160.0      3                   No        \n",
              "9 Material only  2620.0      1                   No        "
            ]
          },
          "metadata": {},
          "output_type": "display_data"
        }
      ],
      "source": [
        "# On essaye de réaliser l'arbre avec les features que nous avons trouvé pertinentes\n",
        "featuresPertinentes <- c('age', 'claim_amount', 'days_to_incident', 'police_report', 'total_policy_claims', 'fraudulent')\n",
        "\n",
        "# On filtre selon ce qu'on avait décidé sur le claim_amount\n",
        "fraudes <- fraudes[fraudes$claim_amount<43000,]\n",
        "# On supprime le claim_id et le customer_id\n",
        "fraudes <- fraudes[,-c(1:2)]\n",
        "head(fraudes)\n"
      ]
    },
    {
      "cell_type": "markdown",
      "metadata": {},
      "source": [
        "## Définition de la méthode d'évaluation des classifieurs\n",
        "\n",
        "Nous allons utiliser les 3 arbres vus en cours (tree, C5.0 et rpart) et nous allons essayer avec toutes les features, puis seulement avec celles que nous pensons pertinentes.\n",
        "\n",
        "fraudes -> toutes\n",
        "\n",
        "fraudesP -> seulement celles pertinentes"
      ]
    },
    {
      "cell_type": "markdown",
      "metadata": {},
      "source": [
        "## Définition des données d'apprentissage et de test"
      ]
    },
    {
      "cell_type": "code",
      "execution_count": 71,
      "metadata": {},
      "outputs": [],
      "source": [
        "# First 400 rows (2/3) apprentissage\n",
        "fraudes_EA <- fraudes[1:730,-1]\n",
        "fraudesP_EA <- fraudes[1:400,featuresPertinentes]\n",
        "\n",
        "# Last 200 rows (1/3) test\n",
        "fraudes_ET <- fraudes[730:1082,-1]\n",
        "fraudesP_ET <- fraudes[401:600,featuresPertinentes]"
      ]
    },
    {
      "cell_type": "markdown",
      "metadata": {},
      "source": [
        "## Construction et évaluation du classifieur"
      ]
    },
    {
      "cell_type": "markdown",
      "metadata": {},
      "source": [
        "### Analyse avec toutes les features"
      ]
    },
    {
      "cell_type": "code",
      "execution_count": 72,
      "metadata": {},
      "outputs": [],
      "source": [
        "library(rpart)\n",
        "library(C50)\n",
        "library(tree)"
      ]
    },
    {
      "cell_type": "code",
      "execution_count": 73,
      "metadata": {},
      "outputs": [],
      "source": [
        "tree1 <- rpart(fraudulent ~ ., fraudes_EA)\n",
        "tree2 <- C5.0(fraudulent ~ ., fraudes_EA)\n",
        "tree3 <- tree(fraudulent ~ ., fraudes_EA)"
      ]
    },
    {
      "cell_type": "code",
      "execution_count": 74,
      "metadata": {},
      "outputs": [
        {
          "data": {
            "image/png": "[encoded data removed]",
            "text/plain": [
              "plot without title"
            ]
          },
          "metadata": {
            "image/png": {
              "height": 420,
              "width": 420
            }
          },
          "output_type": "display_data"
        }
      ],
      "source": [
        "plot(tree1)\n",
        "text(tree1, pretty=0)"
      ]
    },
    {
      "cell_type": "code",
      "execution_count": 75,
      "metadata": {},
      "outputs": [
        {
          "data": {
            "text/plain": [
              "test_tree1\n",
              " No Yes \n",
              "322  31 "
            ]
          },
          "metadata": {},
          "output_type": "display_data"
        },
        {
          "data": {
            "text/plain": [
              "test_tree2\n",
              " No Yes \n",
              "323  30 "
            ]
          },
          "metadata": {},
          "output_type": "display_data"
        },
        {
          "data": {
            "text/plain": [
              "test_tree3\n",
              " No Yes \n",
              "353   0 "
            ]
          },
          "metadata": {},
          "output_type": "display_data"
        }
      ],
      "source": [
        "test_tree1 <- predict(tree1, fraudes_ET, type=\"class\")\n",
        "table(test_tree1)\n",
        "test_tree2 <- predict(tree2, fraudes_ET, type=\"class\")\n",
        "table(test_tree2)\n",
        "test_tree3 <- predict(tree3, fraudes_ET, type=\"class\")\n",
        "table(test_tree3)"
      ]
    },
    {
      "cell_type": "markdown",
      "metadata": {},
      "source": [
        "Matrices de confusion"
      ]
    },
    {
      "cell_type": "code",
      "execution_count": 91,
      "metadata": {},
      "outputs": [
        {
          "name": "stdout",
          "output_type": "stream",
          "text": [
            "     test_tree1\n",
            "       No Yes\n",
            "  No  253  20\n",
            "  Yes  69  11\n",
            "     test_tree2\n",
            "       No Yes\n",
            "  No  259  14\n",
            "  Yes  64  16\n",
            "     test_tree3\n",
            "       No Yes\n",
            "  No  273   0\n",
            "  Yes  80   0\n"
          ]
        }
      ],
      "source": [
        "mc_tree1 = table(fraudes_ET$fraudulent, test_tree1)\n",
        "mc_tree2 = table(fraudes_ET$fraudulent, test_tree2)\n",
        "mc_tree3 = table(fraudes_ET$fraudulent, test_tree3)\n",
        "print(mc_tree1)\n",
        "print(mc_tree2)\n",
        "print(mc_tree3)"
      ]
    },
    {
      "cell_type": "code",
      "execution_count": 79,
      "metadata": {},
      "outputs": [
        {
          "data": {
            "text/html": [
              "<table class=\"dataframe\">\n",
              "<caption>A data.frame: 353 × 10</caption>\n",
              "<thead>\n",
              "\t<tr><th></th><th scope=col>Prediction2</th><th scope=col>claim_type</th><th scope=col>total_policy_claims</th><th scope=col>fraudulent</th><th scope=col>claim_area</th><th scope=col>police_report</th><th scope=col>days_to_incident</th><th scope=col>Prediction1</th><th scope=col>incident_cause</th><th scope=col>claim_amount</th></tr>\n",
              "\t<tr><th></th><th scope=col>&lt;fct&gt;</th><th scope=col>&lt;fct&gt;</th><th scope=col>&lt;int&gt;</th><th scope=col>&lt;fct&gt;</th><th scope=col>&lt;fct&gt;</th><th scope=col>&lt;fct&gt;</th><th scope=col>&lt;int&gt;</th><th scope=col>&lt;fct&gt;</th><th scope=col>&lt;fct&gt;</th><th scope=col>&lt;dbl&gt;</th></tr>\n",
              "</thead>\n",
              "<tbody>\n",
              "\t<tr><th scope=row>743</th><td>No </td><td>Material only      </td><td>3</td><td>No </td><td>Auto</td><td>No     </td><td> 2040</td><td>No </td><td>Driver error      </td><td> 1120.0</td></tr>\n",
              "\t<tr><th scope=row>744</th><td>No </td><td>Material and injury</td><td>1</td><td>No </td><td>Auto</td><td>No     </td><td> 1455</td><td>No </td><td>Natural causes    </td><td>14220.0</td></tr>\n",
              "\t<tr><th scope=row>745</th><td>No </td><td>Injury only        </td><td>1</td><td>No </td><td>Auto</td><td>Yes    </td><td> 1248</td><td>No </td><td>Other driver error</td><td>18650.0</td></tr>\n",
              "\t<tr><th scope=row>746</th><td>Yes</td><td>Material only      </td><td>1</td><td>Yes</td><td>Auto</td><td>No     </td><td> 2396</td><td>No </td><td>Other driver error</td><td> 3415.5</td></tr>\n",
              "\t<tr><th scope=row>747</th><td>No </td><td>Injury only        </td><td>1</td><td>No </td><td>Auto</td><td>Yes    </td><td> 2114</td><td>No </td><td>Other driver error</td><td>19400.0</td></tr>\n",
              "\t<tr><th scope=row>748</th><td>No </td><td>Material only      </td><td>1</td><td>No </td><td>Home</td><td>No     </td><td> 6138</td><td>No </td><td>Driver error      </td><td> 2310.0</td></tr>\n",
              "\t<tr><th scope=row>749</th><td>No </td><td>Material and injury</td><td>1</td><td>Yes</td><td>Auto</td><td>Unknown</td><td>  394</td><td>No </td><td>Other causes      </td><td>24621.5</td></tr>\n",
              "\t<tr><th scope=row>750</th><td>No </td><td>Material only      </td><td>1</td><td>Yes</td><td>Auto</td><td>No     </td><td>   64</td><td>No </td><td>Natural causes    </td><td> 3128.0</td></tr>\n",
              "\t<tr><th scope=row>751</th><td>Yes</td><td>Material only      </td><td>1</td><td>Yes</td><td>Auto</td><td>Unknown</td><td>  103</td><td>No </td><td>Crime             </td><td> 3369.5</td></tr>\n",
              "\t<tr><th scope=row>752</th><td>No </td><td>Material only      </td><td>1</td><td>No </td><td>Auto</td><td>Unknown</td><td>12398</td><td>No </td><td>Driver error      </td><td> 2970.0</td></tr>\n",
              "\t<tr><th scope=row>753</th><td>No </td><td>Material and injury</td><td>1</td><td>No </td><td>Auto</td><td>Unknown</td><td> 4537</td><td>No </td><td>Other driver error</td><td>27370.0</td></tr>\n",
              "\t<tr><th scope=row>754</th><td>No </td><td>Injury only        </td><td>1</td><td>No </td><td>Auto</td><td>Yes    </td><td> 1211</td><td>No </td><td>Crime             </td><td>34460.0</td></tr>\n",
              "\t<tr><th scope=row>755</th><td>No </td><td>Material and injury</td><td>1</td><td>No </td><td>Auto</td><td>Unknown</td><td> 2439</td><td>No </td><td>Other causes      </td><td>37740.0</td></tr>\n",
              "\t<tr><th scope=row>756</th><td>No </td><td>Material only      </td><td>1</td><td>Yes</td><td>Auto</td><td>No     </td><td> 1068</td><td>No </td><td>Natural causes    </td><td> 2357.5</td></tr>\n",
              "\t<tr><th scope=row>757</th><td>No </td><td>Injury only        </td><td>1</td><td>Yes</td><td>Auto</td><td>No     </td><td> 5538</td><td>No </td><td>Other driver error</td><td>33522.5</td></tr>\n",
              "\t<tr><th scope=row>758</th><td>No </td><td>Material only      </td><td>1</td><td>No </td><td>Auto</td><td>Unknown</td><td>  814</td><td>No </td><td>Crime             </td><td> 2110.0</td></tr>\n",
              "\t<tr><th scope=row>759</th><td>No </td><td>Injury only        </td><td>1</td><td>Yes</td><td>Auto</td><td>No     </td><td> 7757</td><td>No </td><td>Driver error      </td><td>33752.5</td></tr>\n",
              "\t<tr><th scope=row>760</th><td>Yes</td><td>Material only      </td><td>3</td><td>No </td><td>Auto</td><td>No     </td><td>   84</td><td>Yes</td><td>Other driver error</td><td> 1070.0</td></tr>\n",
              "\t<tr><th scope=row>761</th><td>No </td><td>Injury only        </td><td>1</td><td>Yes</td><td>Auto</td><td>Unknown</td><td>  420</td><td>No </td><td>Other causes      </td><td>33465.0</td></tr>\n",
              "\t<tr><th scope=row>762</th><td>No </td><td>Injury only        </td><td>3</td><td>No </td><td>Auto</td><td>Yes    </td><td>  579</td><td>No </td><td>Crime             </td><td>16480.0</td></tr>\n",
              "\t<tr><th scope=row>763</th><td>No </td><td>Injury only        </td><td>1</td><td>No </td><td>Auto</td><td>Unknown</td><td> 7284</td><td>No </td><td>Driver error      </td><td>13820.0</td></tr>\n",
              "\t<tr><th scope=row>764</th><td>No </td><td>Material only      </td><td>1</td><td>No </td><td>Auto</td><td>No     </td><td> 3544</td><td>No </td><td>Other causes      </td><td> 2880.0</td></tr>\n",
              "\t<tr><th scope=row>765</th><td>No </td><td>Material only      </td><td>1</td><td>No </td><td>Auto</td><td>No     </td><td> 1742</td><td>No </td><td>Other driver error</td><td> 1640.0</td></tr>\n",
              "\t<tr><th scope=row>766</th><td>No </td><td>Material only      </td><td>1</td><td>No </td><td>Auto</td><td>No     </td><td>  575</td><td>No </td><td>Driver error      </td><td> 2550.0</td></tr>\n",
              "\t<tr><th scope=row>767</th><td>No </td><td>Material only      </td><td>5</td><td>No </td><td>Auto</td><td>No     </td><td>  247</td><td>Yes</td><td>Other causes      </td><td> 2220.0</td></tr>\n",
              "\t<tr><th scope=row>768</th><td>No </td><td>Material only      </td><td>1</td><td>No </td><td>Auto</td><td>No     </td><td> 6764</td><td>No </td><td>Natural causes    </td><td> 2370.0</td></tr>\n",
              "\t<tr><th scope=row>769</th><td>No </td><td>Material only      </td><td>1</td><td>No </td><td>Auto</td><td>No     </td><td> 8559</td><td>No </td><td>Crime             </td><td> 1120.0</td></tr>\n",
              "\t<tr><th scope=row>770</th><td>No </td><td>Material and injury</td><td>1</td><td>No </td><td>Auto</td><td>Yes    </td><td> 6187</td><td>No </td><td>Other causes      </td><td>20610.0</td></tr>\n",
              "\t<tr><th scope=row>771</th><td>No </td><td>Material and injury</td><td>1</td><td>No </td><td>Auto</td><td>No     </td><td> 4072</td><td>No </td><td>Other causes      </td><td>34200.0</td></tr>\n",
              "\t<tr><th scope=row>772</th><td>No </td><td>Material only      </td><td>1</td><td>No </td><td>Home</td><td>No     </td><td>   14</td><td>No </td><td>Driver error      </td><td> 2580.0</td></tr>\n",
              "\t<tr><th scope=row>...</th><td>...</td><td>...</td><td>...</td><td>...</td><td>...</td><td>...</td><td>...</td><td>...</td><td>...</td><td>...</td></tr>\n",
              "\t<tr><th scope=row>1071</th><td>No </td><td>Material only      </td><td>1</td><td>No </td><td>Auto</td><td>No     </td><td> 445</td><td>No </td><td>Other causes      </td><td> 2070.0</td></tr>\n",
              "\t<tr><th scope=row>1072</th><td>No </td><td>Material only      </td><td>1</td><td>No </td><td>Auto</td><td>Unknown</td><td>2749</td><td>No </td><td>Natural causes    </td><td> 1050.0</td></tr>\n",
              "\t<tr><th scope=row>1073</th><td>No </td><td>Injury only        </td><td>1</td><td>No </td><td>Home</td><td>Yes    </td><td>2850</td><td>No </td><td>Other causes      </td><td>38950.0</td></tr>\n",
              "\t<tr><th scope=row>1074</th><td>No </td><td>Material only      </td><td>3</td><td>No </td><td>Auto</td><td>No     </td><td>4956</td><td>No </td><td>Driver error      </td><td> 2730.0</td></tr>\n",
              "\t<tr><th scope=row>1075</th><td>No </td><td>Injury only        </td><td>2</td><td>No </td><td>Auto</td><td>Unknown</td><td>3143</td><td>No </td><td>Driver error      </td><td>33330.0</td></tr>\n",
              "\t<tr><th scope=row>1076</th><td>No </td><td>Material only      </td><td>1</td><td>No </td><td>Auto</td><td>No     </td><td> 728</td><td>No </td><td>Driver error      </td><td> 2780.0</td></tr>\n",
              "\t<tr><th scope=row>1077</th><td>No </td><td>Material only      </td><td>3</td><td>No </td><td>Home</td><td>No     </td><td> 364</td><td>No </td><td>Crime             </td><td> 1380.0</td></tr>\n",
              "\t<tr><th scope=row>1078</th><td>No </td><td>Material only      </td><td>1</td><td>No </td><td>Auto</td><td>No     </td><td>3946</td><td>No </td><td>Natural causes    </td><td> 2290.0</td></tr>\n",
              "\t<tr><th scope=row>1079</th><td>No </td><td>Material only      </td><td>3</td><td>No </td><td>Auto</td><td>No     </td><td>2570</td><td>No </td><td>Driver error      </td><td> 2320.0</td></tr>\n",
              "\t<tr><th scope=row>1080</th><td>No </td><td>Material only      </td><td>1</td><td>Yes</td><td>Auto</td><td>Yes    </td><td>1079</td><td>No </td><td>Other causes      </td><td> 2173.5</td></tr>\n",
              "\t<tr><th scope=row>1081</th><td>No </td><td>Material only      </td><td>1</td><td>No </td><td>Auto</td><td>Yes    </td><td>6665</td><td>No </td><td>Other driver error</td><td> 1770.0</td></tr>\n",
              "\t<tr><th scope=row>1082</th><td>No </td><td>Material only      </td><td>1</td><td>No </td><td>Home</td><td>No     </td><td>1087</td><td>No </td><td>Other causes      </td><td> 2800.0</td></tr>\n",
              "\t<tr><th scope=row>1083</th><td>No </td><td>Injury only        </td><td>2</td><td>No </td><td>Auto</td><td>Yes    </td><td>7287</td><td>No </td><td>Other driver error</td><td>33080.0</td></tr>\n",
              "\t<tr><th scope=row>1084</th><td>No </td><td>Material only      </td><td>4</td><td>No </td><td>Auto</td><td>No     </td><td>3821</td><td>No </td><td>Other driver error</td><td> 2840.0</td></tr>\n",
              "\t<tr><th scope=row>1085</th><td>No </td><td>Material only      </td><td>1</td><td>No </td><td>Auto</td><td>No     </td><td>2032</td><td>No </td><td>Natural causes    </td><td> 1490.0</td></tr>\n",
              "\t<tr><th scope=row>1086</th><td>Yes</td><td>Material only      </td><td>1</td><td>No </td><td>Auto</td><td>No     </td><td>   8</td><td>No </td><td>Other causes      </td><td> 2080.0</td></tr>\n",
              "\t<tr><th scope=row>1087</th><td>No </td><td>Material only      </td><td>1</td><td>Yes</td><td>Auto</td><td>No     </td><td> 853</td><td>No </td><td>Natural causes    </td><td> 2875.0</td></tr>\n",
              "\t<tr><th scope=row>1088</th><td>No </td><td>Injury only        </td><td>1</td><td>No </td><td>Auto</td><td>No     </td><td>   5</td><td>Yes</td><td>Driver error      </td><td>29010.0</td></tr>\n",
              "\t<tr><th scope=row>1089</th><td>No </td><td>Material only      </td><td>1</td><td>No </td><td>Auto</td><td>No     </td><td>1029</td><td>No </td><td>Other causes      </td><td> 1710.0</td></tr>\n",
              "\t<tr><th scope=row>1090</th><td>No </td><td>Material only      </td><td>4</td><td>No </td><td>Auto</td><td>Unknown</td><td> 390</td><td>Yes</td><td>Natural causes    </td><td> 1030.0</td></tr>\n",
              "\t<tr><th scope=row>1091</th><td>Yes</td><td>Material only      </td><td>1</td><td>Yes</td><td>Auto</td><td>Unknown</td><td>   2</td><td>No </td><td>Other driver error</td><td> 2288.5</td></tr>\n",
              "\t<tr><th scope=row>1092</th><td>Yes</td><td>Material only      </td><td>3</td><td>Yes</td><td>Auto</td><td>No     </td><td>3501</td><td>No </td><td>Crime             </td><td> 3346.5</td></tr>\n",
              "\t<tr><th scope=row>1093</th><td>No </td><td>Material only      </td><td>1</td><td>Yes</td><td>Auto</td><td>Unknown</td><td> 935</td><td>No </td><td>Crime             </td><td> 1805.5</td></tr>\n",
              "\t<tr><th scope=row>1094</th><td>No </td><td>Material only      </td><td>3</td><td>No </td><td>Auto</td><td>No     </td><td>2171</td><td>No </td><td>Other causes      </td><td> 1610.0</td></tr>\n",
              "\t<tr><th scope=row>1095</th><td>No </td><td>Material and injury</td><td>1</td><td>No </td><td>Auto</td><td>Yes    </td><td> 713</td><td>No </td><td>Other causes      </td><td>24850.0</td></tr>\n",
              "\t<tr><th scope=row>1096</th><td>Yes</td><td>Material only      </td><td>4</td><td>Yes</td><td>Auto</td><td>No     </td><td>8669</td><td>No </td><td>Other driver error</td><td> 3059.0</td></tr>\n",
              "\t<tr><th scope=row>1097</th><td>No </td><td>Material only      </td><td>2</td><td>No </td><td>Auto</td><td>No     </td><td> 160</td><td>No </td><td>Natural causes    </td><td> 1520.0</td></tr>\n",
              "\t<tr><th scope=row>1098</th><td>No </td><td>Material and injury</td><td>2</td><td>Yes</td><td>Auto</td><td>No     </td><td>8447</td><td>No </td><td>Other driver error</td><td>23575.0</td></tr>\n",
              "\t<tr><th scope=row>1099</th><td>No </td><td>Material and injury</td><td>1</td><td>No </td><td>Auto</td><td>Unknown</td><td>2981</td><td>No </td><td>Other causes      </td><td>25120.0</td></tr>\n",
              "\t<tr><th scope=row>1100</th><td>No </td><td>Material and injury</td><td>3</td><td>Yes</td><td>Auto</td><td>Yes    </td><td>4595</td><td>No </td><td>Other driver error</td><td>36685.0</td></tr>\n",
              "</tbody>\n",
              "</table>\n"
            ],
            "text/latex": [
              "A data.frame: 353 × 10\n",
              "\\begin{tabular}{r|llllllllll}\n",
              "  & Prediction2 & claim\\_type & total\\_policy\\_claims & fraudulent & claim\\_area & police\\_report & days\\_to\\_incident & Prediction1 & incident\\_cause & claim\\_amount\\\\\n",
              "  & <fct> & <fct> & <int> & <fct> & <fct> & <fct> & <int> & <fct> & <fct> & <dbl>\\\\\n",
              "\\hline\n",
              "\t743 & No  & Material only       & 3 & No  & Auto & No      &  2040 & No  & Driver error       &  1120.0\\\\\n",
              "\t744 & No  & Material and injury & 1 & No  & Auto & No      &  1455 & No  & Natural causes     & 14220.0\\\\\n",
              "\t745 & No  & Injury only         & 1 & No  & Auto & Yes     &  1248 & No  & Other driver error & 18650.0\\\\\n",
              "\t746 & Yes & Material only       & 1 & Yes & Auto & No      &  2396 & No  & Other driver error &  3415.5\\\\\n",
              "\t747 & No  & Injury only         & 1 & No  & Auto & Yes     &  2114 & No  & Other driver error & 19400.0\\\\\n",
              "\t748 & No  & Material only       & 1 & No  & Home & No      &  6138 & No  & Driver error       &  2310.0\\\\\n",
              "\t749 & No  & Material and injury & 1 & Yes & Auto & Unknown &   394 & No  & Other causes       & 24621.5\\\\\n",
              "\t750 & No  & Material only       & 1 & Yes & Auto & No      &    64 & No  & Natural causes     &  3128.0\\\\\n",
              "\t751 & Yes & Material only       & 1 & Yes & Auto & Unknown &   103 & No  & Crime              &  3369.5\\\\\n",
              "\t752 & No  & Material only       & 1 & No  & Auto & Unknown & 12398 & No  & Driver error       &  2970.0\\\\\n",
              "\t753 & No  & Material and injury & 1 & No  & Auto & Unknown &  4537 & No  & Other driver error & 27370.0\\\\\n",
              "\t754 & No  & Injury only         & 1 & No  & Auto & Yes     &  1211 & No  & Crime              & 34460.0\\\\\n",
              "\t755 & No  & Material and injury & 1 & No  & Auto & Unknown &  2439 & No  & Other causes       & 37740.0\\\\\n",
              "\t756 & No  & Material only       & 1 & Yes & Auto & No      &  1068 & No  & Natural causes     &  2357.5\\\\\n",
              "\t757 & No  & Injury only         & 1 & Yes & Auto & No      &  5538 & No  & Other driver error & 33522.5\\\\\n",
              "\t758 & No  & Material only       & 1 & No  & Auto & Unknown &   814 & No  & Crime              &  2110.0\\\\\n",
              "\t759 & No  & Injury only         & 1 & Yes & Auto & No      &  7757 & No  & Driver error       & 33752.5\\\\\n",
              "\t760 & Yes & Material only       & 3 & No  & Auto & No      &    84 & Yes & Other driver error &  1070.0\\\\\n",
              "\t761 & No  & Injury only         & 1 & Yes & Auto & Unknown &   420 & No  & Other causes       & 33465.0\\\\\n",
              "\t762 & No  & Injury only         & 3 & No  & Auto & Yes     &   579 & No  & Crime              & 16480.0\\\\\n",
              "\t763 & No  & Injury only         & 1 & No  & Auto & Unknown &  7284 & No  & Driver error       & 13820.0\\\\\n",
              "\t764 & No  & Material only       & 1 & No  & Auto & No      &  3544 & No  & Other causes       &  2880.0\\\\\n",
              "\t765 & No  & Material only       & 1 & No  & Auto & No      &  1742 & No  & Other driver error &  1640.0\\\\\n",
              "\t766 & No  & Material only       & 1 & No  & Auto & No      &   575 & No  & Driver error       &  2550.0\\\\\n",
              "\t767 & No  & Material only       & 5 & No  & Auto & No      &   247 & Yes & Other causes       &  2220.0\\\\\n",
              "\t768 & No  & Material only       & 1 & No  & Auto & No      &  6764 & No  & Natural causes     &  2370.0\\\\\n",
              "\t769 & No  & Material only       & 1 & No  & Auto & No      &  8559 & No  & Crime              &  1120.0\\\\\n",
              "\t770 & No  & Material and injury & 1 & No  & Auto & Yes     &  6187 & No  & Other causes       & 20610.0\\\\\n",
              "\t771 & No  & Material and injury & 1 & No  & Auto & No      &  4072 & No  & Other causes       & 34200.0\\\\\n",
              "\t772 & No  & Material only       & 1 & No  & Home & No      &    14 & No  & Driver error       &  2580.0\\\\\n",
              "\t... & ... & ... & ... & ... & ... & ... & ... & ... & ... & ...\\\\\n",
              "\t1071 & No  & Material only       & 1 & No  & Auto & No      &  445 & No  & Other causes       &  2070.0\\\\\n",
              "\t1072 & No  & Material only       & 1 & No  & Auto & Unknown & 2749 & No  & Natural causes     &  1050.0\\\\\n",
              "\t1073 & No  & Injury only         & 1 & No  & Home & Yes     & 2850 & No  & Other causes       & 38950.0\\\\\n",
              "\t1074 & No  & Material only       & 3 & No  & Auto & No      & 4956 & No  & Driver error       &  2730.0\\\\\n",
              "\t1075 & No  & Injury only         & 2 & No  & Auto & Unknown & 3143 & No  & Driver error       & 33330.0\\\\\n",
              "\t1076 & No  & Material only       & 1 & No  & Auto & No      &  728 & No  & Driver error       &  2780.0\\\\\n",
              "\t1077 & No  & Material only       & 3 & No  & Home & No      &  364 & No  & Crime              &  1380.0\\\\\n",
              "\t1078 & No  & Material only       & 1 & No  & Auto & No      & 3946 & No  & Natural causes     &  2290.0\\\\\n",
              "\t1079 & No  & Material only       & 3 & No  & Auto & No      & 2570 & No  & Driver error       &  2320.0\\\\\n",
              "\t1080 & No  & Material only       & 1 & Yes & Auto & Yes     & 1079 & No  & Other causes       &  2173.5\\\\\n",
              "\t1081 & No  & Material only       & 1 & No  & Auto & Yes     & 6665 & No  & Other driver error &  1770.0\\\\\n",
              "\t1082 & No  & Material only       & 1 & No  & Home & No      & 1087 & No  & Other causes       &  2800.0\\\\\n",
              "\t1083 & No  & Injury only         & 2 & No  & Auto & Yes     & 7287 & No  & Other driver error & 33080.0\\\\\n",
              "\t1084 & No  & Material only       & 4 & No  & Auto & No      & 3821 & No  & Other driver error &  2840.0\\\\\n",
              "\t1085 & No  & Material only       & 1 & No  & Auto & No      & 2032 & No  & Natural causes     &  1490.0\\\\\n",
              "\t1086 & Yes & Material only       & 1 & No  & Auto & No      &    8 & No  & Other causes       &  2080.0\\\\\n",
              "\t1087 & No  & Material only       & 1 & Yes & Auto & No      &  853 & No  & Natural causes     &  2875.0\\\\\n",
              "\t1088 & No  & Injury only         & 1 & No  & Auto & No      &    5 & Yes & Driver error       & 29010.0\\\\\n",
              "\t1089 & No  & Material only       & 1 & No  & Auto & No      & 1029 & No  & Other causes       &  1710.0\\\\\n",
              "\t1090 & No  & Material only       & 4 & No  & Auto & Unknown &  390 & Yes & Natural causes     &  1030.0\\\\\n",
              "\t1091 & Yes & Material only       & 1 & Yes & Auto & Unknown &    2 & No  & Other driver error &  2288.5\\\\\n",
              "\t1092 & Yes & Material only       & 3 & Yes & Auto & No      & 3501 & No  & Crime              &  3346.5\\\\\n",
              "\t1093 & No  & Material only       & 1 & Yes & Auto & Unknown &  935 & No  & Crime              &  1805.5\\\\\n",
              "\t1094 & No  & Material only       & 3 & No  & Auto & No      & 2171 & No  & Other causes       &  1610.0\\\\\n",
              "\t1095 & No  & Material and injury & 1 & No  & Auto & Yes     &  713 & No  & Other causes       & 24850.0\\\\\n",
              "\t1096 & Yes & Material only       & 4 & Yes & Auto & No      & 8669 & No  & Other driver error &  3059.0\\\\\n",
              "\t1097 & No  & Material only       & 2 & No  & Auto & No      &  160 & No  & Natural causes     &  1520.0\\\\\n",
              "\t1098 & No  & Material and injury & 2 & Yes & Auto & No      & 8447 & No  & Other driver error & 23575.0\\\\\n",
              "\t1099 & No  & Material and injury & 1 & No  & Auto & Unknown & 2981 & No  & Other causes       & 25120.0\\\\\n",
              "\t1100 & No  & Material and injury & 3 & Yes & Auto & Yes     & 4595 & No  & Other driver error & 36685.0\\\\\n",
              "\\end{tabular}\n"
            ],
            "text/markdown": [
              "\n",
              "A data.frame: 353 × 10\n",
              "\n",
              "| <!--/--> | Prediction2 &lt;fct&gt; | claim_type &lt;fct&gt; | total_policy_claims &lt;int&gt; | fraudulent &lt;fct&gt; | claim_area &lt;fct&gt; | police_report &lt;fct&gt; | days_to_incident &lt;int&gt; | Prediction1 &lt;fct&gt; | incident_cause &lt;fct&gt; | claim_amount &lt;dbl&gt; |\n",
              "|---|---|---|---|---|---|---|---|---|---|---|\n",
              "| 743 | No  | Material only       | 3 | No  | Auto | No      |  2040 | No  | Driver error       |  1120.0 |\n",
              "| 744 | No  | Material and injury | 1 | No  | Auto | No      |  1455 | No  | Natural causes     | 14220.0 |\n",
              "| 745 | No  | Injury only         | 1 | No  | Auto | Yes     |  1248 | No  | Other driver error | 18650.0 |\n",
              "| 746 | Yes | Material only       | 1 | Yes | Auto | No      |  2396 | No  | Other driver error |  3415.5 |\n",
              "| 747 | No  | Injury only         | 1 | No  | Auto | Yes     |  2114 | No  | Other driver error | 19400.0 |\n",
              "| 748 | No  | Material only       | 1 | No  | Home | No      |  6138 | No  | Driver error       |  2310.0 |\n",
              "| 749 | No  | Material and injury | 1 | Yes | Auto | Unknown |   394 | No  | Other causes       | 24621.5 |\n",
              "| 750 | No  | Material only       | 1 | Yes | Auto | No      |    64 | No  | Natural causes     |  3128.0 |\n",
              "| 751 | Yes | Material only       | 1 | Yes | Auto | Unknown |   103 | No  | Crime              |  3369.5 |\n",
              "| 752 | No  | Material only       | 1 | No  | Auto | Unknown | 12398 | No  | Driver error       |  2970.0 |\n",
              "| 753 | No  | Material and injury | 1 | No  | Auto | Unknown |  4537 | No  | Other driver error | 27370.0 |\n",
              "| 754 | No  | Injury only         | 1 | No  | Auto | Yes     |  1211 | No  | Crime              | 34460.0 |\n",
              "| 755 | No  | Material and injury | 1 | No  | Auto | Unknown |  2439 | No  | Other causes       | 37740.0 |\n",
              "| 756 | No  | Material only       | 1 | Yes | Auto | No      |  1068 | No  | Natural causes     |  2357.5 |\n",
              "| 757 | No  | Injury only         | 1 | Yes | Auto | No      |  5538 | No  | Other driver error | 33522.5 |\n",
              "| 758 | No  | Material only       | 1 | No  | Auto | Unknown |   814 | No  | Crime              |  2110.0 |\n",
              "| 759 | No  | Injury only         | 1 | Yes | Auto | No      |  7757 | No  | Driver error       | 33752.5 |\n",
              "| 760 | Yes | Material only       | 3 | No  | Auto | No      |    84 | Yes | Other driver error |  1070.0 |\n",
              "| 761 | No  | Injury only         | 1 | Yes | Auto | Unknown |   420 | No  | Other causes       | 33465.0 |\n",
              "| 762 | No  | Injury only         | 3 | No  | Auto | Yes     |   579 | No  | Crime              | 16480.0 |\n",
              "| 763 | No  | Injury only         | 1 | No  | Auto | Unknown |  7284 | No  | Driver error       | 13820.0 |\n",
              "| 764 | No  | Material only       | 1 | No  | Auto | No      |  3544 | No  | Other causes       |  2880.0 |\n",
              "| 765 | No  | Material only       | 1 | No  | Auto | No      |  1742 | No  | Other driver error |  1640.0 |\n",
              "| 766 | No  | Material only       | 1 | No  | Auto | No      |   575 | No  | Driver error       |  2550.0 |\n",
              "| 767 | No  | Material only       | 5 | No  | Auto | No      |   247 | Yes | Other causes       |  2220.0 |\n",
              "| 768 | No  | Material only       | 1 | No  | Auto | No      |  6764 | No  | Natural causes     |  2370.0 |\n",
              "| 769 | No  | Material only       | 1 | No  | Auto | No      |  8559 | No  | Crime              |  1120.0 |\n",
              "| 770 | No  | Material and injury | 1 | No  | Auto | Yes     |  6187 | No  | Other causes       | 20610.0 |\n",
              "| 771 | No  | Material and injury | 1 | No  | Auto | No      |  4072 | No  | Other causes       | 34200.0 |\n",
              "| 772 | No  | Material only       | 1 | No  | Home | No      |    14 | No  | Driver error       |  2580.0 |\n",
              "| ... | ... | ... | ... | ... | ... | ... | ... | ... | ... | ... |\n",
              "| 1071 | No  | Material only       | 1 | No  | Auto | No      |  445 | No  | Other causes       |  2070.0 |\n",
              "| 1072 | No  | Material only       | 1 | No  | Auto | Unknown | 2749 | No  | Natural causes     |  1050.0 |\n",
              "| 1073 | No  | Injury only         | 1 | No  | Home | Yes     | 2850 | No  | Other causes       | 38950.0 |\n",
              "| 1074 | No  | Material only       | 3 | No  | Auto | No      | 4956 | No  | Driver error       |  2730.0 |\n",
              "| 1075 | No  | Injury only         | 2 | No  | Auto | Unknown | 3143 | No  | Driver error       | 33330.0 |\n",
              "| 1076 | No  | Material only       | 1 | No  | Auto | No      |  728 | No  | Driver error       |  2780.0 |\n",
              "| 1077 | No  | Material only       | 3 | No  | Home | No      |  364 | No  | Crime              |  1380.0 |\n",
              "| 1078 | No  | Material only       | 1 | No  | Auto | No      | 3946 | No  | Natural causes     |  2290.0 |\n",
              "| 1079 | No  | Material only       | 3 | No  | Auto | No      | 2570 | No  | Driver error       |  2320.0 |\n",
              "| 1080 | No  | Material only       | 1 | Yes | Auto | Yes     | 1079 | No  | Other causes       |  2173.5 |\n",
              "| 1081 | No  | Material only       | 1 | No  | Auto | Yes     | 6665 | No  | Other driver error |  1770.0 |\n",
              "| 1082 | No  | Material only       | 1 | No  | Home | No      | 1087 | No  | Other causes       |  2800.0 |\n",
              "| 1083 | No  | Injury only         | 2 | No  | Auto | Yes     | 7287 | No  | Other driver error | 33080.0 |\n",
              "| 1084 | No  | Material only       | 4 | No  | Auto | No      | 3821 | No  | Other driver error |  2840.0 |\n",
              "| 1085 | No  | Material only       | 1 | No  | Auto | No      | 2032 | No  | Natural causes     |  1490.0 |\n",
              "| 1086 | Yes | Material only       | 1 | No  | Auto | No      |    8 | No  | Other causes       |  2080.0 |\n",
              "| 1087 | No  | Material only       | 1 | Yes | Auto | No      |  853 | No  | Natural causes     |  2875.0 |\n",
              "| 1088 | No  | Injury only         | 1 | No  | Auto | No      |    5 | Yes | Driver error       | 29010.0 |\n",
              "| 1089 | No  | Material only       | 1 | No  | Auto | No      | 1029 | No  | Other causes       |  1710.0 |\n",
              "| 1090 | No  | Material only       | 4 | No  | Auto | Unknown |  390 | Yes | Natural causes     |  1030.0 |\n",
              "| 1091 | Yes | Material only       | 1 | Yes | Auto | Unknown |    2 | No  | Other driver error |  2288.5 |\n",
              "| 1092 | Yes | Material only       | 3 | Yes | Auto | No      | 3501 | No  | Crime              |  3346.5 |\n",
              "| 1093 | No  | Material only       | 1 | Yes | Auto | Unknown |  935 | No  | Crime              |  1805.5 |\n",
              "| 1094 | No  | Material only       | 3 | No  | Auto | No      | 2171 | No  | Other causes       |  1610.0 |\n",
              "| 1095 | No  | Material and injury | 1 | No  | Auto | Yes     |  713 | No  | Other causes       | 24850.0 |\n",
              "| 1096 | Yes | Material only       | 4 | Yes | Auto | No      | 8669 | No  | Other driver error |  3059.0 |\n",
              "| 1097 | No  | Material only       | 2 | No  | Auto | No      |  160 | No  | Natural causes     |  1520.0 |\n",
              "| 1098 | No  | Material and injury | 2 | Yes | Auto | No      | 8447 | No  | Other driver error | 23575.0 |\n",
              "| 1099 | No  | Material and injury | 1 | No  | Auto | Unknown | 2981 | No  | Other causes       | 25120.0 |\n",
              "| 1100 | No  | Material and injury | 3 | Yes | Auto | Yes     | 4595 | No  | Other driver error | 36685.0 |\n",
              "\n"
            ],
            "text/plain": [
              "     Prediction2 claim_type          total_policy_claims fraudulent claim_area\n",
              "743  No          Material only       3                   No         Auto      \n",
              "744  No          Material and injury 1                   No         Auto      \n",
              "745  No          Injury only         1                   No         Auto      \n",
              "746  Yes         Material only       1                   Yes        Auto      \n",
              "747  No          Injury only         1                   No         Auto      \n",
              "748  No          Material only       1                   No         Home      \n",
              "749  No          Material and injury 1                   Yes        Auto      \n",
              "750  No          Material only       1                   Yes        Auto      \n",
              "751  Yes         Material only       1                   Yes        Auto      \n",
              "752  No          Material only       1                   No         Auto      \n",
              "753  No          Material and injury 1                   No         Auto      \n",
              "754  No          Injury only         1                   No         Auto      \n",
              "755  No          Material and injury 1                   No         Auto      \n",
              "756  No          Material only       1                   Yes        Auto      \n",
              "757  No          Injury only         1                   Yes        Auto      \n",
              "758  No          Material only       1                   No         Auto      \n",
              "759  No          Injury only         1                   Yes        Auto      \n",
              "760  Yes         Material only       3                   No         Auto      \n",
              "761  No          Injury only         1                   Yes        Auto      \n",
              "762  No          Injury only         3                   No         Auto      \n",
              "763  No          Injury only         1                   No         Auto      \n",
              "764  No          Material only       1                   No         Auto      \n",
              "765  No          Material only       1                   No         Auto      \n",
              "766  No          Material only       1                   No         Auto      \n",
              "767  No          Material only       5                   No         Auto      \n",
              "768  No          Material only       1                   No         Auto      \n",
              "769  No          Material only       1                   No         Auto      \n",
              "770  No          Material and injury 1                   No         Auto      \n",
              "771  No          Material and injury 1                   No         Auto      \n",
              "772  No          Material only       1                   No         Home      \n",
              "...  ...         ...                 ...                 ...        ...       \n",
              "1071 No          Material only       1                   No         Auto      \n",
              "1072 No          Material only       1                   No         Auto      \n",
              "1073 No          Injury only         1                   No         Home      \n",
              "1074 No          Material only       3                   No         Auto      \n",
              "1075 No          Injury only         2                   No         Auto      \n",
              "1076 No          Material only       1                   No         Auto      \n",
              "1077 No          Material only       3                   No         Home      \n",
              "1078 No          Material only       1                   No         Auto      \n",
              "1079 No          Material only       3                   No         Auto      \n",
              "1080 No          Material only       1                   Yes        Auto      \n",
              "1081 No          Material only       1                   No         Auto      \n",
              "1082 No          Material only       1                   No         Home      \n",
              "1083 No          Injury only         2                   No         Auto      \n",
              "1084 No          Material only       4                   No         Auto      \n",
              "1085 No          Material only       1                   No         Auto      \n",
              "1086 Yes         Material only       1                   No         Auto      \n",
              "1087 No          Material only       1                   Yes        Auto      \n",
              "1088 No          Injury only         1                   No         Auto      \n",
              "1089 No          Material only       1                   No         Auto      \n",
              "1090 No          Material only       4                   No         Auto      \n",
              "1091 Yes         Material only       1                   Yes        Auto      \n",
              "1092 Yes         Material only       3                   Yes        Auto      \n",
              "1093 No          Material only       1                   Yes        Auto      \n",
              "1094 No          Material only       3                   No         Auto      \n",
              "1095 No          Material and injury 1                   No         Auto      \n",
              "1096 Yes         Material only       4                   Yes        Auto      \n",
              "1097 No          Material only       2                   No         Auto      \n",
              "1098 No          Material and injury 2                   Yes        Auto      \n",
              "1099 No          Material and injury 1                   No         Auto      \n",
              "1100 No          Material and injury 3                   Yes        Auto      \n",
              "     police_report days_to_incident Prediction1 incident_cause     claim_amount\n",
              "743  No             2040            No          Driver error        1120.0     \n",
              "744  No             1455            No          Natural causes     14220.0     \n",
              "745  Yes            1248            No          Other driver error 18650.0     \n",
              "746  No             2396            No          Other driver error  3415.5     \n",
              "747  Yes            2114            No          Other driver error 19400.0     \n",
              "748  No             6138            No          Driver error        2310.0     \n",
              "749  Unknown         394            No          Other causes       24621.5     \n",
              "750  No               64            No          Natural causes      3128.0     \n",
              "751  Unknown         103            No          Crime               3369.5     \n",
              "752  Unknown       12398            No          Driver error        2970.0     \n",
              "753  Unknown        4537            No          Other driver error 27370.0     \n",
              "754  Yes            1211            No          Crime              34460.0     \n",
              "755  Unknown        2439            No          Other causes       37740.0     \n",
              "756  No             1068            No          Natural causes      2357.5     \n",
              "757  No             5538            No          Other driver error 33522.5     \n",
              "758  Unknown         814            No          Crime               2110.0     \n",
              "759  No             7757            No          Driver error       33752.5     \n",
              "760  No               84            Yes         Other driver error  1070.0     \n",
              "761  Unknown         420            No          Other causes       33465.0     \n",
              "762  Yes             579            No          Crime              16480.0     \n",
              "763  Unknown        7284            No          Driver error       13820.0     \n",
              "764  No             3544            No          Other causes        2880.0     \n",
              "765  No             1742            No          Other driver error  1640.0     \n",
              "766  No              575            No          Driver error        2550.0     \n",
              "767  No              247            Yes         Other causes        2220.0     \n",
              "768  No             6764            No          Natural causes      2370.0     \n",
              "769  No             8559            No          Crime               1120.0     \n",
              "770  Yes            6187            No          Other causes       20610.0     \n",
              "771  No             4072            No          Other causes       34200.0     \n",
              "772  No               14            No          Driver error        2580.0     \n",
              "...  ...           ...              ...         ...                ...         \n",
              "1071 No             445             No          Other causes        2070.0     \n",
              "1072 Unknown       2749             No          Natural causes      1050.0     \n",
              "1073 Yes           2850             No          Other causes       38950.0     \n",
              "1074 No            4956             No          Driver error        2730.0     \n",
              "1075 Unknown       3143             No          Driver error       33330.0     \n",
              "1076 No             728             No          Driver error        2780.0     \n",
              "1077 No             364             No          Crime               1380.0     \n",
              "1078 No            3946             No          Natural causes      2290.0     \n",
              "1079 No            2570             No          Driver error        2320.0     \n",
              "1080 Yes           1079             No          Other causes        2173.5     \n",
              "1081 Yes           6665             No          Other driver error  1770.0     \n",
              "1082 No            1087             No          Other causes        2800.0     \n",
              "1083 Yes           7287             No          Other driver error 33080.0     \n",
              "1084 No            3821             No          Other driver error  2840.0     \n",
              "1085 No            2032             No          Natural causes      1490.0     \n",
              "1086 No               8             No          Other causes        2080.0     \n",
              "1087 No             853             No          Natural causes      2875.0     \n",
              "1088 No               5             Yes         Driver error       29010.0     \n",
              "1089 No            1029             No          Other causes        1710.0     \n",
              "1090 Unknown        390             Yes         Natural causes      1030.0     \n",
              "1091 Unknown          2             No          Other driver error  2288.5     \n",
              "1092 No            3501             No          Crime               3346.5     \n",
              "1093 Unknown        935             No          Crime               1805.5     \n",
              "1094 No            2171             No          Other causes        1610.0     \n",
              "1095 Yes            713             No          Other causes       24850.0     \n",
              "1096 No            8669             No          Other driver error  3059.0     \n",
              "1097 No             160             No          Natural causes      1520.0     \n",
              "1098 No            8447             No          Other driver error 23575.0     \n",
              "1099 Unknown       2981             No          Other causes       25120.0     \n",
              "1100 Yes           4595             No          Other driver error 36685.0     "
            ]
          },
          "metadata": {},
          "output_type": "display_data"
        }
      ],
      "source": [
        "fraudes_ET$Prediction1 <- test_tree1\n",
        "fraudes_ET$Prediction2 <- test_tree2\n",
        "fraudes_ET$Prediction3 <- test_tree3\n",
        "sample(fraudes_ET, 10)"
      ]
    },
    {
      "cell_type": "code",
      "execution_count": 90,
      "metadata": {},
      "outputs": [
        {
          "data": {
            "text/html": [
              "13.75"
            ],
            "text/latex": [
              "13.75"
            ],
            "text/markdown": [
              "13.75"
            ],
            "text/plain": [
              "[1] 13.75"
            ]
          },
          "metadata": {},
          "output_type": "display_data"
        },
        {
          "data": {
            "text/html": [
              "20"
            ],
            "text/latex": [
              "20"
            ],
            "text/markdown": [
              "20"
            ],
            "text/plain": [
              "[1] 20"
            ]
          },
          "metadata": {},
          "output_type": "display_data"
        },
        {
          "data": {
            "text/html": [
              "0"
            ],
            "text/latex": [
              "0"
            ],
            "text/markdown": [
              "0"
            ],
            "text/plain": [
              "[1] 0"
            ]
          },
          "metadata": {},
          "output_type": "display_data"
        }
      ],
      "source": [
        "# Success rate\n",
        "\n",
        "nbr_success <- nrow(fraudes_ET[fraudes_ET$fraudulent=='Yes' & fraudes_ET$Prediction1=='Yes', ])\n",
        "taux_success1 = nbr_success/nrow(fraudes_ET[fraudes_ET$fraudulent=='Yes',])*100\n",
        "taux_success1\n",
        "\n",
        "nbr_success <- nrow(fraudes_ET[fraudes_ET$fraudulent=='Yes' & fraudes_ET$Prediction2=='Yes', ])\n",
        "taux_success2 = nbr_success/nrow(fraudes_ET[fraudes_ET$fraudulent=='Yes',])*100\n",
        "taux_success2\n",
        "\n",
        "nbr_success <- nrow(fraudes_ET[fraudes_ET$fraudulent=='Yes' & fraudes_ET$Prediction3=='Yes', ])\n",
        "taux_success3 = nbr_success/nrow(fraudes_ET[fraudes_ET$fraudulent=='Yes',])*100\n",
        "taux_success3"
      ]
    },
    {
      "cell_type": "markdown",
      "metadata": {},
      "source": [
        "## Choix du classifieur le plus performant"
      ]
    },
    {
      "cell_type": "markdown",
      "metadata": {},
      "source": [
        "## Application du classifieur aux données à prédire"
      ]
    },
    {
      "cell_type": "markdown",
      "metadata": {},
      "source": [
        "/!\\ Il y a (logiquement) beaucoup plus de No que de Yes, vérifier si on ne doit pas corriger ça (mieux répatir...)"
      ]
    }
  ],
  "metadata": {
    "kernel_info": {
      "name": "ir"
    },
    "kernelspec": {
      "display_name": "R",
      "language": "R",
      "name": "ir"
    },
    "language_info": {
      "codemirror_mode": "r",
      "file_extension": ".r",
      "mimetype": "text/x-r-source",
      "name": "R",
      "pygments_lexer": "r",
      "version": "3.6.3"
    },
    "nteract": {
      "version": "nteract-front-end@1.0.0"
    },
    "orig_nbformat": 4
  },
  "nbformat": 4,
  "nbformat_minor": 2
}
