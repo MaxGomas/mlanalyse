{
  "cells": [
    {
      "cell_type": "markdown",
      "metadata": {},
      "source": [
        "# Projet d'analyse de fraude\n",
        "\n",
        "Par Théo DESLAGE et Maximilien GOMAS"
      ]
    },
    {
      "cell_type": "markdown",
      "metadata": {},
      "source": [
        "## Exploration et visualisation des données\n",
        "\n",
        "On peut constater que les données sont divisées en deux ensembles :\n",
        "- Le premier, labelisé, servira à l'apprentissage supervisé (Entrainement et test)\n",
        "- Le second, inconnu, représente une situation réelle dans laquelle nous devrons prédire à l'aide de notre modèle\n",
        "\n",
        "Chargeons les données"
      ]
    },
    {
      "cell_type": "code",
      "execution_count": 5,
      "metadata": {},
      "outputs": [
        {
          "data": {
            "text/html": [
              "<table class=\"dataframe\">\n",
              "<caption>A data.frame: 6 × 12</caption>\n",
              "<thead>\n",
              "\t<tr><th></th><th scope=col>claim_id</th><th scope=col>customer_id</th><th scope=col>age</th><th scope=col>gender</th><th scope=col>incident_cause</th><th scope=col>days_to_incident</th><th scope=col>claim_area</th><th scope=col>police_report</th><th scope=col>claim_type</th><th scope=col>claim_amount</th><th scope=col>total_policy_claims</th><th scope=col>fraudulent</th></tr>\n",
              "\t<tr><th></th><th scope=col>&lt;int&gt;</th><th scope=col>&lt;int&gt;</th><th scope=col>&lt;int&gt;</th><th scope=col>&lt;fct&gt;</th><th scope=col>&lt;fct&gt;</th><th scope=col>&lt;int&gt;</th><th scope=col>&lt;fct&gt;</th><th scope=col>&lt;fct&gt;</th><th scope=col>&lt;fct&gt;</th><th scope=col>&lt;dbl&gt;</th><th scope=col>&lt;int&gt;</th><th scope=col>&lt;fct&gt;</th></tr>\n",
              "</thead>\n",
              "<tbody>\n",
              "\t<tr><th scope=row>1</th><td>54004764</td><td>21868593</td><td>32</td><td>Female</td><td>Driver error      </td><td>  225</td><td>Auto</td><td>No     </td><td>Material only</td><td> 2980.0</td><td>1</td><td>No </td></tr>\n",
              "\t<tr><th scope=row>2</th><td>33985796</td><td>75740424</td><td>60</td><td>Female</td><td>Crime             </td><td>11874</td><td>Home</td><td>Unknown</td><td>Material only</td><td> 2980.0</td><td>3</td><td>No </td></tr>\n",
              "\t<tr><th scope=row>3</th><td>53522022</td><td>30308357</td><td>27</td><td>Female</td><td>Other driver error</td><td>    4</td><td>Auto</td><td>No     </td><td>Material only</td><td> 3369.5</td><td>1</td><td>Yes</td></tr>\n",
              "\t<tr><th scope=row>4</th><td>13015401</td><td>47830476</td><td>39</td><td>Female</td><td>Natural causes    </td><td> 5278</td><td>Auto</td><td>No     </td><td>Material only</td><td> 1680.0</td><td>1</td><td>No </td></tr>\n",
              "\t<tr><th scope=row>5</th><td>22890252</td><td>19269962</td><td>47</td><td>Male  </td><td>Crime             </td><td> 2335</td><td>Auto</td><td>No     </td><td>Material only</td><td> 2680.0</td><td>1</td><td>No </td></tr>\n",
              "\t<tr><th scope=row>6</th><td>24050443</td><td>21831191</td><td>36</td><td>Male  </td><td>Other driver error</td><td> 2116</td><td>Auto</td><td>No     </td><td>Injury only  </td><td>38306.5</td><td>3</td><td>Yes</td></tr>\n",
              "</tbody>\n",
              "</table>\n"
            ],
            "text/latex": [
              "A data.frame: 6 × 12\n",
              "\\begin{tabular}{r|llllllllllll}\n",
              "  & claim\\_id & customer\\_id & age & gender & incident\\_cause & days\\_to\\_incident & claim\\_area & police\\_report & claim\\_type & claim\\_amount & total\\_policy\\_claims & fraudulent\\\\\n",
              "  & <int> & <int> & <int> & <fct> & <fct> & <int> & <fct> & <fct> & <fct> & <dbl> & <int> & <fct>\\\\\n",
              "\\hline\n",
              "\t1 & 54004764 & 21868593 & 32 & Female & Driver error       &   225 & Auto & No      & Material only &  2980.0 & 1 & No \\\\\n",
              "\t2 & 33985796 & 75740424 & 60 & Female & Crime              & 11874 & Home & Unknown & Material only &  2980.0 & 3 & No \\\\\n",
              "\t3 & 53522022 & 30308357 & 27 & Female & Other driver error &     4 & Auto & No      & Material only &  3369.5 & 1 & Yes\\\\\n",
              "\t4 & 13015401 & 47830476 & 39 & Female & Natural causes     &  5278 & Auto & No      & Material only &  1680.0 & 1 & No \\\\\n",
              "\t5 & 22890252 & 19269962 & 47 & Male   & Crime              &  2335 & Auto & No      & Material only &  2680.0 & 1 & No \\\\\n",
              "\t6 & 24050443 & 21831191 & 36 & Male   & Other driver error &  2116 & Auto & No      & Injury only   & 38306.5 & 3 & Yes\\\\\n",
              "\\end{tabular}\n"
            ],
            "text/markdown": [
              "\n",
              "A data.frame: 6 × 12\n",
              "\n",
              "| <!--/--> | claim_id &lt;int&gt; | customer_id &lt;int&gt; | age &lt;int&gt; | gender &lt;fct&gt; | incident_cause &lt;fct&gt; | days_to_incident &lt;int&gt; | claim_area &lt;fct&gt; | police_report &lt;fct&gt; | claim_type &lt;fct&gt; | claim_amount &lt;dbl&gt; | total_policy_claims &lt;int&gt; | fraudulent &lt;fct&gt; |\n",
              "|---|---|---|---|---|---|---|---|---|---|---|---|---|\n",
              "| 1 | 54004764 | 21868593 | 32 | Female | Driver error       |   225 | Auto | No      | Material only |  2980.0 | 1 | No  |\n",
              "| 2 | 33985796 | 75740424 | 60 | Female | Crime              | 11874 | Home | Unknown | Material only |  2980.0 | 3 | No  |\n",
              "| 3 | 53522022 | 30308357 | 27 | Female | Other driver error |     4 | Auto | No      | Material only |  3369.5 | 1 | Yes |\n",
              "| 4 | 13015401 | 47830476 | 39 | Female | Natural causes     |  5278 | Auto | No      | Material only |  1680.0 | 1 | No  |\n",
              "| 5 | 22890252 | 19269962 | 47 | Male   | Crime              |  2335 | Auto | No      | Material only |  2680.0 | 1 | No  |\n",
              "| 6 | 24050443 | 21831191 | 36 | Male   | Other driver error |  2116 | Auto | No      | Injury only   | 38306.5 | 3 | Yes |\n",
              "\n"
            ],
            "text/plain": [
              "  claim_id customer_id age gender incident_cause     days_to_incident\n",
              "1 54004764 21868593    32  Female Driver error         225           \n",
              "2 33985796 75740424    60  Female Crime              11874           \n",
              "3 53522022 30308357    27  Female Other driver error     4           \n",
              "4 13015401 47830476    39  Female Natural causes      5278           \n",
              "5 22890252 19269962    47  Male   Crime               2335           \n",
              "6 24050443 21831191    36  Male   Other driver error  2116           \n",
              "  claim_area police_report claim_type    claim_amount total_policy_claims\n",
              "1 Auto       No            Material only  2980.0      1                  \n",
              "2 Home       Unknown       Material only  2980.0      3                  \n",
              "3 Auto       No            Material only  3369.5      1                  \n",
              "4 Auto       No            Material only  1680.0      1                  \n",
              "5 Auto       No            Material only  2680.0      1                  \n",
              "6 Auto       No            Injury only   38306.5      3                  \n",
              "  fraudulent\n",
              "1 No        \n",
              "2 No        \n",
              "3 Yes       \n",
              "4 No        \n",
              "5 No        \n",
              "6 Yes       "
            ]
          },
          "metadata": {},
          "output_type": "display_data"
        }
      ],
      "source": [
        "fraudes <- read.csv(\"./data/Data_Projet_1.csv\", header = TRUE, sep = \",\", dec = \".\", stringsAsFactors = TRUE)\n",
        "head(fraudes)"
      ]
    },
    {
      "cell_type": "markdown",
      "metadata": {},
      "source": [
        "Nous allons maintenant explorer les données et comprendre quelles features sont déterminantes pour la prédiction de la fraude."
      ]
    },
    {
      "cell_type": "code",
      "execution_count": 7,
      "metadata": {},
      "outputs": [
        {
          "data": {
            "image/png": "[encoded data removed]",
            "text/plain": [
              "plot without title"
            ]
          },
          "metadata": {
            "image/png": {
              "height": 420,
              "width": 420
            }
          },
          "output_type": "display_data"
        }
      ],
      "source": [
        "boxplot(age~fraudulent, data=fraudes)"
      ]
    },
    {
      "cell_type": "markdown",
      "metadata": {},
      "source": [
        "On peut constater que les déclarations frauduleuses concernent un publique plus jeune que celles qui ne le sont pas."
      ]
    },
    {
      "cell_type": "code",
      "execution_count": 14,
      "metadata": {},
      "outputs": [
        {
          "name": "stderr",
          "output_type": "stream",
          "text": [
            "`stat_bin()` using `bins = 30`. Pick better value with `binwidth`.\n",
            "\n"
          ]
        },
        {
          "data": {
            "image/png": "[encoded data removed]",
            "text/plain": [
              "plot without title"
            ]
          },
          "metadata": {
            "image/png": {
              "height": 420,
              "width": 420
            }
          },
          "output_type": "display_data"
        }
      ],
      "source": [
        "library(ggplot2)\n",
        "qplot(claim_amount, data=fraudes, color=fraudulent, fill=fraudulent)"
      ]
    },
    {
      "cell_type": "markdown",
      "metadata": {},
      "source": [
        "On décide de séparer les claim_amount (supérieur et inférieur à 10000) pour mieux visualiser les tendances."
      ]
    },
    {
      "cell_type": "code",
      "execution_count": 17,
      "metadata": {},
      "outputs": [
        {
          "name": "stderr",
          "output_type": "stream",
          "text": [
            "`stat_bin()` using `bins = 30`. Pick better value with `binwidth`.\n",
            "\n"
          ]
        },
        {
          "data": {
            "image/png": "[encoded data removed]",
            "text/plain": [
              "plot without title"
            ]
          },
          "metadata": {
            "image/png": {
              "height": 420,
              "width": 420
            }
          },
          "output_type": "display_data"
        }
      ],
      "source": [
        "library(ggplot2)\n",
        "qplot(claim_amount, data=fraudes[fraudes$claim_amount>10000,], color=fraudulent, fill=fraudulent)"
      ]
    },
    {
      "cell_type": "markdown",
      "metadata": {},
      "source": [
        "On remarque qu'au dessus de 43k, toutes les ransactions sont frauduleuses. Nous décidons d'enlever les valeurs au dessus de 43k lors du pré traitement des données, car notre arbre fera inéluctablement une corrélation qui nous semble plus lié au jeu de donnée qu'à une représentation de la réalité.\n",
        "\n",
        "Pour confirmer notre raisonnement on compte le nombre de transactions concernées, et on se rend compte que c'est assez faible (15/1100)"
      ]
    },
    {
      "cell_type": "code",
      "execution_count": 20,
      "metadata": {},
      "outputs": [
        {
          "data": {
            "text/html": [
              "1100"
            ],
            "text/latex": [
              "1100"
            ],
            "text/markdown": [
              "1100"
            ],
            "text/plain": [
              "[1] 1100"
            ]
          },
          "metadata": {},
          "output_type": "display_data"
        },
        {
          "data": {
            "text/html": [
              "15"
            ],
            "text/latex": [
              "15"
            ],
            "text/markdown": [
              "15"
            ],
            "text/plain": [
              "[1] 15"
            ]
          },
          "metadata": {},
          "output_type": "display_data"
        }
      ],
      "source": [
        "nrow(fraudes)\n",
        "nrow(fraudes[fraudes$claim_amount>43000,])"
      ]
    },
    {
      "cell_type": "code",
      "execution_count": 15,
      "metadata": {},
      "outputs": [
        {
          "name": "stderr",
          "output_type": "stream",
          "text": [
            "`stat_bin()` using `bins = 30`. Pick better value with `binwidth`.\n",
            "\n"
          ]
        },
        {
          "data": {
            "image/png": "[encoded data removed]",
            "text/plain": [
              "plot without title"
            ]
          },
          "metadata": {
            "image/png": {
              "height": 420,
              "width": 420
            }
          },
          "output_type": "display_data"
        }
      ],
      "source": [
        "qplot(claim_amount, data=fraudes[fraudes$claim_amount<10000,], color=fraudulent, fill=fraudulent)"
      ]
    },
    {
      "cell_type": "markdown",
      "metadata": {},
      "source": [
        "## Pré traitement des données"
      ]
    },
    {
      "cell_type": "markdown",
      "metadata": {},
      "source": [
        "On sait que deux variables ne sont pas pertinentes dans la prédiction, l'ID de la transaction *claim_id* puisqu'il est unique et le numéro d'utilisateur *customer_id*. On pourrait établir un modèle qui prend en compte le *customer_id* pour \"suspecter\" ceux qui ont déjà fraudé. Mais dans ce cas de la détection de nouvelles fraudes l'utilisateur sera très probablement nouveau, il ne faut pas que cela altère le jugement du modèle, qui doit se méfier de tout le monde, sans distinction."
      ]
    },
    {
      "cell_type": "code",
      "execution_count": null,
      "metadata": {},
      "outputs": [],
      "source": []
    },
    {
      "cell_type": "markdown",
      "metadata": {},
      "source": [
        "Comme prévu au chapitre précédent nous supprimons les transactions à plus de 43k€"
      ]
    },
    {
      "cell_type": "markdown",
      "metadata": {},
      "source": [
        "## Définition de la méthode d'évaluation des classifieurs"
      ]
    },
    {
      "cell_type": "markdown",
      "metadata": {},
      "source": [
        "## Définition des données d'apprentissage et de test"
      ]
    },
    {
      "cell_type": "markdown",
      "metadata": {},
      "source": [
        "## Construction et évaluation du classifieur"
      ]
    },
    {
      "cell_type": "markdown",
      "metadata": {},
      "source": [
        "## Choix du classifieur le plus performant"
      ]
    },
    {
      "cell_type": "markdown",
      "metadata": {},
      "source": [
        "## Application du classifieur aux données à prédire"
      ]
    }
  ],
  "metadata": {
    "kernel_info": {
      "name": "ir"
    },
    "kernelspec": {
      "display_name": "R",
      "language": "R",
      "name": "ir"
    },
    "language_info": {
      "codemirror_mode": "r",
      "file_extension": ".r",
      "mimetype": "text/x-r-source",
      "name": "R",
      "pygments_lexer": "r",
      "version": "3.6.3"
    },
    "nteract": {
      "version": "nteract-front-end@1.0.0"
    },
    "orig_nbformat": 4
  },
  "nbformat": 4,
  "nbformat_minor": 2
}
