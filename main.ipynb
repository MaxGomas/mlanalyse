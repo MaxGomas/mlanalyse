{
  "cells": [
    {
      "cell_type": "markdown",
      "metadata": {},
      "source": [
        "# Projet d'analyse de fraude\n",
        "\n",
        "Par Théo DESLAGE et Maximilien GOMAS"
      ]
    },
    {
      "cell_type": "markdown",
      "metadata": {},
      "source": [
        "## Exploration et visualisation des données\n",
        "\n",
        "On peut constater que les données sont divisées en deux ensembles :\n",
        "- Le premier, labelisé, servira à l'apprentissage supervisé (Entrainement et test)\n",
        "- Le second, inconnu, représente une situation réelle dans laquelle nous devrons prédire à l'aide de notre modèle\n",
        "\n",
        "Chargeons les données"
      ]
    },
    {
      "cell_type": "code",
      "execution_count": 30,
      "metadata": {
        "vscode": {
          "languageId": "r"
        }
      },
      "outputs": [
        {
          "data": {
            "text/html": [
              "<table class=\"dataframe\">\n",
              "<caption>A data.frame: 6 × 12</caption>\n",
              "<thead>\n",
              "\t<tr><th></th><th scope=col>claim_id</th><th scope=col>customer_id</th><th scope=col>age</th><th scope=col>gender</th><th scope=col>incident_cause</th><th scope=col>days_to_incident</th><th scope=col>claim_area</th><th scope=col>police_report</th><th scope=col>claim_type</th><th scope=col>claim_amount</th><th scope=col>total_policy_claims</th><th scope=col>fraudulent</th></tr>\n",
              "\t<tr><th></th><th scope=col>&lt;int&gt;</th><th scope=col>&lt;int&gt;</th><th scope=col>&lt;int&gt;</th><th scope=col>&lt;fct&gt;</th><th scope=col>&lt;fct&gt;</th><th scope=col>&lt;int&gt;</th><th scope=col>&lt;fct&gt;</th><th scope=col>&lt;fct&gt;</th><th scope=col>&lt;fct&gt;</th><th scope=col>&lt;dbl&gt;</th><th scope=col>&lt;int&gt;</th><th scope=col>&lt;fct&gt;</th></tr>\n",
              "</thead>\n",
              "<tbody>\n",
              "\t<tr><th scope=row>1</th><td>54004764</td><td>21868593</td><td>32</td><td>Female</td><td>Driver error      </td><td>  225</td><td>Auto</td><td>No     </td><td>Material only</td><td> 2980.0</td><td>1</td><td>No </td></tr>\n",
              "\t<tr><th scope=row>2</th><td>33985796</td><td>75740424</td><td>60</td><td>Female</td><td>Crime             </td><td>11874</td><td>Home</td><td>Unknown</td><td>Material only</td><td> 2980.0</td><td>3</td><td>No </td></tr>\n",
              "\t<tr><th scope=row>3</th><td>53522022</td><td>30308357</td><td>27</td><td>Female</td><td>Other driver error</td><td>    4</td><td>Auto</td><td>No     </td><td>Material only</td><td> 3369.5</td><td>1</td><td>Yes</td></tr>\n",
              "\t<tr><th scope=row>4</th><td>13015401</td><td>47830476</td><td>39</td><td>Female</td><td>Natural causes    </td><td> 5278</td><td>Auto</td><td>No     </td><td>Material only</td><td> 1680.0</td><td>1</td><td>No </td></tr>\n",
              "\t<tr><th scope=row>5</th><td>22890252</td><td>19269962</td><td>47</td><td>Male  </td><td>Crime             </td><td> 2335</td><td>Auto</td><td>No     </td><td>Material only</td><td> 2680.0</td><td>1</td><td>No </td></tr>\n",
              "\t<tr><th scope=row>6</th><td>24050443</td><td>21831191</td><td>36</td><td>Male  </td><td>Other driver error</td><td> 2116</td><td>Auto</td><td>No     </td><td>Injury only  </td><td>38306.5</td><td>3</td><td>Yes</td></tr>\n",
              "</tbody>\n",
              "</table>\n"
            ],
            "text/latex": [
              "A data.frame: 6 × 12\n",
              "\\begin{tabular}{r|llllllllllll}\n",
              "  & claim\\_id & customer\\_id & age & gender & incident\\_cause & days\\_to\\_incident & claim\\_area & police\\_report & claim\\_type & claim\\_amount & total\\_policy\\_claims & fraudulent\\\\\n",
              "  & <int> & <int> & <int> & <fct> & <fct> & <int> & <fct> & <fct> & <fct> & <dbl> & <int> & <fct>\\\\\n",
              "\\hline\n",
              "\t1 & 54004764 & 21868593 & 32 & Female & Driver error       &   225 & Auto & No      & Material only &  2980.0 & 1 & No \\\\\n",
              "\t2 & 33985796 & 75740424 & 60 & Female & Crime              & 11874 & Home & Unknown & Material only &  2980.0 & 3 & No \\\\\n",
              "\t3 & 53522022 & 30308357 & 27 & Female & Other driver error &     4 & Auto & No      & Material only &  3369.5 & 1 & Yes\\\\\n",
              "\t4 & 13015401 & 47830476 & 39 & Female & Natural causes     &  5278 & Auto & No      & Material only &  1680.0 & 1 & No \\\\\n",
              "\t5 & 22890252 & 19269962 & 47 & Male   & Crime              &  2335 & Auto & No      & Material only &  2680.0 & 1 & No \\\\\n",
              "\t6 & 24050443 & 21831191 & 36 & Male   & Other driver error &  2116 & Auto & No      & Injury only   & 38306.5 & 3 & Yes\\\\\n",
              "\\end{tabular}\n"
            ],
            "text/markdown": [
              "\n",
              "A data.frame: 6 × 12\n",
              "\n",
              "| <!--/--> | claim_id &lt;int&gt; | customer_id &lt;int&gt; | age &lt;int&gt; | gender &lt;fct&gt; | incident_cause &lt;fct&gt; | days_to_incident &lt;int&gt; | claim_area &lt;fct&gt; | police_report &lt;fct&gt; | claim_type &lt;fct&gt; | claim_amount &lt;dbl&gt; | total_policy_claims &lt;int&gt; | fraudulent &lt;fct&gt; |\n",
              "|---|---|---|---|---|---|---|---|---|---|---|---|---|\n",
              "| 1 | 54004764 | 21868593 | 32 | Female | Driver error       |   225 | Auto | No      | Material only |  2980.0 | 1 | No  |\n",
              "| 2 | 33985796 | 75740424 | 60 | Female | Crime              | 11874 | Home | Unknown | Material only |  2980.0 | 3 | No  |\n",
              "| 3 | 53522022 | 30308357 | 27 | Female | Other driver error |     4 | Auto | No      | Material only |  3369.5 | 1 | Yes |\n",
              "| 4 | 13015401 | 47830476 | 39 | Female | Natural causes     |  5278 | Auto | No      | Material only |  1680.0 | 1 | No  |\n",
              "| 5 | 22890252 | 19269962 | 47 | Male   | Crime              |  2335 | Auto | No      | Material only |  2680.0 | 1 | No  |\n",
              "| 6 | 24050443 | 21831191 | 36 | Male   | Other driver error |  2116 | Auto | No      | Injury only   | 38306.5 | 3 | Yes |\n",
              "\n"
            ],
            "text/plain": [
              "  claim_id customer_id age gender incident_cause     days_to_incident\n",
              "1 54004764 21868593    32  Female Driver error         225           \n",
              "2 33985796 75740424    60  Female Crime              11874           \n",
              "3 53522022 30308357    27  Female Other driver error     4           \n",
              "4 13015401 47830476    39  Female Natural causes      5278           \n",
              "5 22890252 19269962    47  Male   Crime               2335           \n",
              "6 24050443 21831191    36  Male   Other driver error  2116           \n",
              "  claim_area police_report claim_type    claim_amount total_policy_claims\n",
              "1 Auto       No            Material only  2980.0      1                  \n",
              "2 Home       Unknown       Material only  2980.0      3                  \n",
              "3 Auto       No            Material only  3369.5      1                  \n",
              "4 Auto       No            Material only  1680.0      1                  \n",
              "5 Auto       No            Material only  2680.0      1                  \n",
              "6 Auto       No            Injury only   38306.5      3                  \n",
              "  fraudulent\n",
              "1 No        \n",
              "2 No        \n",
              "3 Yes       \n",
              "4 No        \n",
              "5 No        \n",
              "6 Yes       "
            ]
          },
          "metadata": {},
          "output_type": "display_data"
        }
      ],
      "source": [
        "fraudes <- read.csv(\"./data/Data_Projet_1.csv\", header = TRUE, sep = \",\", dec = \".\", stringsAsFactors = TRUE)\n",
        "head(fraudes)"
      ]
    },
    {
      "cell_type": "markdown",
      "metadata": {},
      "source": [
        "Nous allons maintenant explorer les données et comprendre quelles features sont déterminantes pour la prédiction de la fraude."
      ]
    },
    {
      "cell_type": "markdown",
      "metadata": {},
      "source": [
        "### Summary pour se donner une vue globale"
      ]
    },
    {
      "cell_type": "code",
      "execution_count": 31,
      "metadata": {
        "vscode": {
          "languageId": "r"
        }
      },
      "outputs": [
        {
          "data": {
            "text/plain": [
              "    claim_id         customer_id            age          gender   \n",
              " Min.   :   26832   Min.   :  154557   Min.   :18.0   Female:541  \n",
              " 1st Qu.:23815805   1st Qu.:26791756   1st Qu.:33.0   Male  :559  \n",
              " Median :48539331   Median :49855152   Median :47.0               \n",
              " Mean   :48838190   Mean   :50874698   Mean   :47.8               \n",
              " 3rd Qu.:74074466   3rd Qu.:75949511   3rd Qu.:63.0               \n",
              " Max.   :99775483   Max.   :99961993   Max.   :79.0               \n",
              "            incident_cause days_to_incident  claim_area police_report\n",
              " Crime             :110    Min.   :    2.0   Auto:985   No     :630  \n",
              " Driver error      :262    1st Qu.:  635.5   Home:115   Unknown:300  \n",
              " Natural causes    :189    Median : 2042.5              Yes    :170  \n",
              " Other causes      :290    Mean   : 2814.1                           \n",
              " Other driver error:249    3rd Qu.: 4153.5                           \n",
              "                           Max.   :14991.0                           \n",
              "               claim_type   claim_amount   total_policy_claims fraudulent\n",
              " Injury only        :196   Min.   : 1000   Min.   :1.000       No :846   \n",
              " Material and injury:241   1st Qu.: 1880   1st Qu.:1.000       Yes:254   \n",
              " Material only      :663   Median : 2750   Median :1.000                 \n",
              "                           Mean   :12318   Mean   :1.596                 \n",
              "                           3rd Qu.:23965   3rd Qu.:2.000                 \n",
              "                           Max.   :48151   Max.   :8.000                 "
            ]
          },
          "metadata": {},
          "output_type": "display_data"
        }
      ],
      "source": [
        "summary(fraudes)"
      ]
    },
    {
      "cell_type": "code",
      "execution_count": 32,
      "metadata": {
        "vscode": {
          "languageId": "r"
        }
      },
      "outputs": [
        {
          "data": {
            "text/plain": [
              "\n",
              " No Yes \n",
              "846 254 "
            ]
          },
          "metadata": {},
          "output_type": "display_data"
        }
      ],
      "source": [
        "table(fraudes$fraudulent)"
      ]
    },
    {
      "cell_type": "markdown",
      "metadata": {},
      "source": [
        "On se rend compte que les fraudes sont très minoritaires il va donc falloir travailler sur ce dataset"
      ]
    },
    {
      "cell_type": "markdown",
      "metadata": {},
      "source": [
        "### Recherche sur l'age"
      ]
    },
    {
      "cell_type": "code",
      "execution_count": 33,
      "metadata": {
        "vscode": {
          "languageId": "r"
        }
      },
      "outputs": [
        {
          "data": {
            "image/png": "[encoded data removed]",
            "text/plain": [
              "plot without title"
            ]
          },
          "metadata": {
            "image/png": {
              "height": 420,
              "width": 420
            }
          },
          "output_type": "display_data"
        }
      ],
      "source": [
        "boxplot(age~fraudulent, data=fraudes)"
      ]
    },
    {
      "cell_type": "markdown",
      "metadata": {},
      "source": [
        "On peut constater que les déclarations frauduleuses concernent un publique plus jeune que celles qui ne le sont pas."
      ]
    },
    {
      "cell_type": "markdown",
      "metadata": {},
      "source": [
        "### Recherche par rapport au montant déclaré"
      ]
    },
    {
      "cell_type": "code",
      "execution_count": 34,
      "metadata": {
        "vscode": {
          "languageId": "r"
        }
      },
      "outputs": [
        {
          "data": {
            "image/png": "[encoded data removed]",
            "text/plain": [
              "plot without title"
            ]
          },
          "metadata": {
            "image/png": {
              "height": 420,
              "width": 420
            }
          },
          "output_type": "display_data"
        }
      ],
      "source": [
        "library(ggplot2)\n",
        "qplot(claim_amount, data=fraudes, color=fraudulent, fill=fraudulent,bins = 30)"
      ]
    },
    {
      "cell_type": "markdown",
      "metadata": {},
      "source": [
        "On décide de séparer les claim_amount (supérieur et inférieur à 10000) pour mieux visualiser les tendances."
      ]
    },
    {
      "cell_type": "code",
      "execution_count": 35,
      "metadata": {
        "vscode": {
          "languageId": "r"
        }
      },
      "outputs": [
        {
          "data": {
            "image/png": "[encoded data removed]",
            "text/plain": [
              "plot without title"
            ]
          },
          "metadata": {
            "image/png": {
              "height": 420,
              "width": 420
            }
          },
          "output_type": "display_data"
        }
      ],
      "source": [
        "library(ggplot2)\n",
        "qplot(claim_amount, data=fraudes[fraudes$claim_amount>10000,], color=fraudulent, fill=fraudulent, bins = 30)"
      ]
    },
    {
      "cell_type": "markdown",
      "metadata": {},
      "source": [
        "On remarque qu'au dessus de 43k, toutes les ransactions sont frauduleuses. Nous décidons d'enlever les valeurs au dessus de 43k lors du pré traitement des données, car notre arbre fera inéluctablement une corrélation qui nous semble plus lié au jeu de donnée qu'à une représentation de la réalité.\n",
        "\n",
        "Pour confirmer notre raisonnement on compte le nombre de transactions concernées, et on se rend compte que c'est assez faible (15/1100)"
      ]
    },
    {
      "cell_type": "code",
      "execution_count": 36,
      "metadata": {
        "vscode": {
          "languageId": "r"
        }
      },
      "outputs": [
        {
          "data": {
            "text/html": [
              "1100"
            ],
            "text/latex": [
              "1100"
            ],
            "text/markdown": [
              "1100"
            ],
            "text/plain": [
              "[1] 1100"
            ]
          },
          "metadata": {},
          "output_type": "display_data"
        },
        {
          "data": {
            "text/html": [
              "15"
            ],
            "text/latex": [
              "15"
            ],
            "text/markdown": [
              "15"
            ],
            "text/plain": [
              "[1] 15"
            ]
          },
          "metadata": {},
          "output_type": "display_data"
        }
      ],
      "source": [
        "nrow(fraudes)\n",
        "nrow(fraudes[fraudes$claim_amount>43000,])"
      ]
    },
    {
      "cell_type": "code",
      "execution_count": 37,
      "metadata": {
        "vscode": {
          "languageId": "r"
        }
      },
      "outputs": [
        {
          "data": {
            "image/png": "[encoded data removed]",
            "text/plain": [
              "plot without title"
            ]
          },
          "metadata": {
            "image/png": {
              "height": 420,
              "width": 420
            }
          },
          "output_type": "display_data"
        }
      ],
      "source": [
        "qplot(claim_amount, data=fraudes[fraudes$claim_amount<10000,], color=fraudulent, fill=fraudulent, bins = 30)"
      ]
    },
    {
      "cell_type": "markdown",
      "metadata": {},
      "source": [
        "### Recherche par rapport au genre\n",
        "\n",
        "On se permet de comparer car grâce à la summarization on a pu constater que le nombre d'échantillon pour chaque sexe était relativement le même."
      ]
    },
    {
      "cell_type": "code",
      "execution_count": 38,
      "metadata": {
        "vscode": {
          "languageId": "r"
        }
      },
      "outputs": [
        {
          "data": {
            "image/png": "[encoded data removed]",
            "text/plain": [
              "plot without title"
            ]
          },
          "metadata": {
            "image/png": {
              "height": 420,
              "width": 420
            }
          },
          "output_type": "display_data"
        }
      ],
      "source": [
        "qplot(gender, data=fraudes, color=fraudulent, fill=fraudulent)"
      ]
    },
    {
      "cell_type": "markdown",
      "metadata": {},
      "source": [
        "On constate que le genre n'influe pas du tout sur le caractère frauduleux d'une transaction"
      ]
    },
    {
      "cell_type": "markdown",
      "metadata": {},
      "source": [
        "### La cause de l'incident"
      ]
    },
    {
      "cell_type": "code",
      "execution_count": 39,
      "metadata": {
        "vscode": {
          "languageId": "r"
        }
      },
      "outputs": [
        {
          "data": {
            "image/png": "[encoded data removed]",
            "text/plain": [
              "plot without title"
            ]
          },
          "metadata": {
            "image/png": {
              "height": 420,
              "width": 420
            }
          },
          "output_type": "display_data"
        }
      ],
      "source": [
        "qplot(incident_cause, data=fraudes, color=fraudulent, fill=fraudulent)"
      ]
    },
    {
      "cell_type": "markdown",
      "metadata": {},
      "source": [
        "On constate que la cause de l'incident ne joue pas beaucoup non plus sur le caractère frauduleux"
      ]
    },
    {
      "cell_type": "markdown",
      "metadata": {},
      "source": [
        "### Nombre de jours passés entre l'incident et la déclaration"
      ]
    },
    {
      "cell_type": "code",
      "execution_count": 40,
      "metadata": {
        "vscode": {
          "languageId": "r"
        }
      },
      "outputs": [
        {
          "name": "stderr",
          "output_type": "stream",
          "text": [
            "`stat_bin()` using `bins = 30`. Pick better value with `binwidth`.\n",
            "\n"
          ]
        },
        {
          "data": {
            "image/png": "[encoded data removed]",
            "text/plain": [
              "plot without title"
            ]
          },
          "metadata": {
            "image/png": {
              "height": 420,
              "width": 420
            }
          },
          "output_type": "display_data"
        }
      ],
      "source": [
        "qplot(days_to_incident, data=fraudes, color=fraudulent, fill=fraudulent)"
      ]
    },
    {
      "cell_type": "markdown",
      "metadata": {},
      "source": [
        "On remarque qu'il y a une proportion de fraudes plus élevée pour les incidents déclarés immédiatements. On confirme :"
      ]
    },
    {
      "cell_type": "code",
      "execution_count": 41,
      "metadata": {
        "vscode": {
          "languageId": "r"
        }
      },
      "outputs": [
        {
          "name": "stderr",
          "output_type": "stream",
          "text": [
            "`stat_bin()` using `bins = 30`. Pick better value with `binwidth`.\n",
            "\n"
          ]
        },
        {
          "data": {
            "image/png": "[encoded data removed]",
            "text/plain": [
              "plot without title"
            ]
          },
          "metadata": {
            "image/png": {
              "height": 420,
              "width": 420
            }
          },
          "output_type": "display_data"
        }
      ],
      "source": [
        "qplot(days_to_incident, data=fraudes[fraudes$days_to_incident<10,], color=fraudulent, fill=fraudulent)"
      ]
    },
    {
      "cell_type": "code",
      "execution_count": 42,
      "metadata": {
        "vscode": {
          "languageId": "r"
        }
      },
      "outputs": [
        {
          "name": "stdout",
          "output_type": "stream",
          "text": [
            "[1] 0.4680851\n",
            "[1] 0.2309091\n"
          ]
        }
      ],
      "source": [
        "print(nrow(fraudes[fraudes$days_to_incident<10 & fraudes$fraudulent=='Yes',])/nrow(fraudes[fraudes$days_to_incident<10,]))\n",
        "print(nrow(fraudes[fraudes$fraudulent=='Yes',])/nrow(fraudes))"
      ]
    },
    {
      "cell_type": "markdown",
      "metadata": {},
      "source": [
        "Cela veut dire que pour des déclarations faites à moins de 10 jours on a 46% de fraude ce qui est nettement superieur à l'ensemble global (23%). Ce critère sera donc très intéressant pour notre modèle."
      ]
    },
    {
      "cell_type": "markdown",
      "metadata": {},
      "source": [
        "### La zone de déclaration"
      ]
    },
    {
      "cell_type": "code",
      "execution_count": 43,
      "metadata": {
        "vscode": {
          "languageId": "r"
        }
      },
      "outputs": [
        {
          "data": {
            "image/png": "[encoded data removed]",
            "text/plain": [
              "plot without title"
            ]
          },
          "metadata": {
            "image/png": {
              "height": 420,
              "width": 420
            }
          },
          "output_type": "display_data"
        }
      ],
      "source": [
        "qplot(claim_area, data=fraudes, color=fraudulent, fill=fraudulent)"
      ]
    },
    {
      "cell_type": "markdown",
      "metadata": {},
      "source": [
        "### Un rapport de police"
      ]
    },
    {
      "cell_type": "code",
      "execution_count": 44,
      "metadata": {
        "vscode": {
          "languageId": "r"
        }
      },
      "outputs": [
        {
          "data": {
            "image/png": "[encoded data removed]",
            "text/plain": [
              "plot without title"
            ]
          },
          "metadata": {
            "image/png": {
              "height": 420,
              "width": 420
            }
          },
          "output_type": "display_data"
        }
      ],
      "source": [
        "qplot(police_report, data=fraudes, color=fraudulent, fill=fraudulent)"
      ]
    },
    {
      "cell_type": "markdown",
      "metadata": {},
      "source": [
        "On présent une information intéressante, on compare donc les 3 cas (avec le global qui est de 23%)"
      ]
    },
    {
      "cell_type": "code",
      "execution_count": 45,
      "metadata": {
        "vscode": {
          "languageId": "r"
        }
      },
      "outputs": [
        {
          "name": "stdout",
          "output_type": "stream",
          "text": [
            "[1] 0.1\n",
            "[1] 0.2766667\n",
            "[1] 0.2444444\n"
          ]
        }
      ],
      "source": [
        "print(nrow(fraudes[fraudes$police_report=='Yes' & fraudes$fraudulent=='Yes',])/nrow(fraudes[fraudes$police_report=='Yes',])) # Rapport\n",
        "print(nrow(fraudes[fraudes$police_report=='Unknown' & fraudes$fraudulent=='Yes',])/nrow(fraudes[fraudes$police_report=='Unknown',])) # Unknown\n",
        "print(nrow(fraudes[fraudes$police_report=='No' & fraudes$fraudulent=='Yes',])/nrow(fraudes[fraudes$police_report=='No',])) # No Report"
      ]
    },
    {
      "cell_type": "markdown",
      "metadata": {},
      "source": [
        "On constate que lors de la réalisation d'un rapport il n'y a que 10% de fraudes, ça influe donc très négativement (positivement pour l'assureur) sur les fraudes."
      ]
    },
    {
      "cell_type": "markdown",
      "metadata": {},
      "source": [
        "### Le type de déclaration"
      ]
    },
    {
      "cell_type": "code",
      "execution_count": 46,
      "metadata": {
        "vscode": {
          "languageId": "r"
        }
      },
      "outputs": [
        {
          "data": {
            "image/png": "[encoded data removed]",
            "text/plain": [
              "plot without title"
            ]
          },
          "metadata": {
            "image/png": {
              "height": 420,
              "width": 420
            }
          },
          "output_type": "display_data"
        }
      ],
      "source": [
        "qplot(claim_type, data=fraudes, color=fraudulent, fill=fraudulent)"
      ]
    },
    {
      "cell_type": "markdown",
      "metadata": {},
      "source": [
        "### Nombre d'incidents déclarés"
      ]
    },
    {
      "cell_type": "code",
      "execution_count": 47,
      "metadata": {
        "vscode": {
          "languageId": "r"
        }
      },
      "outputs": [
        {
          "name": "stderr",
          "output_type": "stream",
          "text": [
            "`stat_bin()` using `bins = 30`. Pick better value with `binwidth`.\n",
            "\n"
          ]
        },
        {
          "data": {
            "image/png": "[encoded data removed]",
            "text/plain": [
              "plot without title"
            ]
          },
          "metadata": {
            "image/png": {
              "height": 420,
              "width": 420
            }
          },
          "output_type": "display_data"
        }
      ],
      "source": [
        "qplot(total_policy_claims, data=fraudes, color=fraudulent, fill=fraudulent) "
      ]
    },
    {
      "cell_type": "code",
      "execution_count": 48,
      "metadata": {
        "vscode": {
          "languageId": "r"
        }
      },
      "outputs": [
        {
          "name": "stdout",
          "output_type": "stream",
          "text": [
            "[1] 0.1962617\n"
          ]
        },
        {
          "data": {
            "text/html": [
              "799"
            ],
            "text/latex": [
              "799"
            ],
            "text/markdown": [
              "799"
            ],
            "text/plain": [
              "[1] 799"
            ]
          },
          "metadata": {},
          "output_type": "display_data"
        },
        {
          "name": "stdout",
          "output_type": "stream",
          "text": [
            "[1] \"------\"\n",
            "[1] 799\n",
            "[1] 21.77722\n",
            "[1] \"------\"\n",
            "[1] 107\n",
            "[1] 19.62617\n",
            "[1] \"------\"\n",
            "[1] 91\n",
            "[1] 24.17582\n",
            "[1] \"------\"\n",
            "[1] 62\n",
            "[1] 41.93548\n",
            "[1] \"------\"\n",
            "[1] 28\n",
            "[1] 28.57143\n",
            "[1] \"------\"\n",
            "[1] 10\n",
            "[1] 10\n",
            "[1] \"------\"\n",
            "[1] 2\n",
            "[1] 50\n",
            "[1] \"------\"\n",
            "[1] 1\n",
            "[1] 100\n"
          ]
        }
      ],
      "source": [
        "print(nrow(fraudes[fraudes$total_policy_claims==2 & fraudes$fraudulent=='Yes',])/nrow(fraudes[fraudes$total_policy_claims==2,])) \n",
        "nrow(fraudes[fraudes$total_policy_claims==1,])\n",
        "\n",
        "for (x in 1:8) {\n",
        "    print(\"------\")\n",
        "    print(nrow(fraudes[fraudes$total_policy_claims==x,]))\n",
        "    pct <- nrow(fraudes[fraudes$total_policy_claims==x & fraudes$fraudulent=='Yes',])/nrow(fraudes[fraudes$total_policy_claims==x,])*100\n",
        "    print(pct)\n",
        "} "
      ]
    },
    {
      "cell_type": "code",
      "execution_count": 49,
      "metadata": {
        "vscode": {
          "languageId": "r"
        }
      },
      "outputs": [
        {
          "name": "stdout",
          "output_type": "stream",
          "text": [
            "    claim_id customer_id age gender     incident_cause days_to_incident\n",
            "52  39647651    18361978  73 Female       Other causes             4770\n",
            "820 42530425    46129941  29 Female              Crime             1274\n",
            "875 32759962    77116501  68 Female Other driver error             2820\n",
            "    claim_area police_report          claim_type claim_amount\n",
            "52        Auto       Unknown Material and injury      25576.0\n",
            "820       Auto            No       Material only       3277.5\n",
            "875       Auto       Unknown         Injury only      20490.0\n",
            "    total_policy_claims fraudulent\n",
            "52                    7        Yes\n",
            "820                   8        Yes\n",
            "875                   7         No\n"
          ]
        }
      ],
      "source": [
        "print(fraudes[fraudes$total_policy_claims>6,])"
      ]
    },
    {
      "cell_type": "markdown",
      "metadata": {},
      "source": [
        "Il n'y a que très peu de données pour les policy claims == 7 ou 8, on décidera donc de les enlever"
      ]
    },
    {
      "cell_type": "markdown",
      "metadata": {},
      "source": [
        "## Pré traitement des données"
      ]
    },
    {
      "cell_type": "markdown",
      "metadata": {},
      "source": [
        "On sait que deux variables ne sont pas pertinentes dans la prédiction, l'ID de la transaction *claim_id* puisqu'il est unique et le numéro d'utilisateur *customer_id*. On pourrait établir un modèle qui prend en compte le *customer_id* pour \"suspecter\" ceux qui ont déjà fraudé. Mais dans ce cas de la détection de nouvelles fraudes l'utilisateur sera très probablement nouveau, il ne faut pas que cela altère le jugement du modèle, qui doit se méfier de tout le monde, sans distinction."
      ]
    },
    {
      "cell_type": "code",
      "execution_count": 50,
      "metadata": {
        "vscode": {
          "languageId": "r"
        }
      },
      "outputs": [
        {
          "data": {
            "text/html": [
              "<table class=\"dataframe\">\n",
              "<caption>A data.frame: 6 × 10</caption>\n",
              "<thead>\n",
              "\t<tr><th></th><th scope=col>age</th><th scope=col>gender</th><th scope=col>incident_cause</th><th scope=col>days_to_incident</th><th scope=col>claim_area</th><th scope=col>police_report</th><th scope=col>claim_type</th><th scope=col>claim_amount</th><th scope=col>total_policy_claims</th><th scope=col>fraudulent</th></tr>\n",
              "\t<tr><th></th><th scope=col>&lt;int&gt;</th><th scope=col>&lt;fct&gt;</th><th scope=col>&lt;fct&gt;</th><th scope=col>&lt;int&gt;</th><th scope=col>&lt;fct&gt;</th><th scope=col>&lt;fct&gt;</th><th scope=col>&lt;fct&gt;</th><th scope=col>&lt;dbl&gt;</th><th scope=col>&lt;int&gt;</th><th scope=col>&lt;fct&gt;</th></tr>\n",
              "</thead>\n",
              "<tbody>\n",
              "\t<tr><th scope=row>1</th><td>32</td><td>Female</td><td>Driver error      </td><td>  225</td><td>Auto</td><td>No     </td><td>Material only</td><td> 2980.0</td><td>1</td><td>No </td></tr>\n",
              "\t<tr><th scope=row>2</th><td>60</td><td>Female</td><td>Crime             </td><td>11874</td><td>Home</td><td>Unknown</td><td>Material only</td><td> 2980.0</td><td>3</td><td>No </td></tr>\n",
              "\t<tr><th scope=row>3</th><td>27</td><td>Female</td><td>Other driver error</td><td>    4</td><td>Auto</td><td>No     </td><td>Material only</td><td> 3369.5</td><td>1</td><td>Yes</td></tr>\n",
              "\t<tr><th scope=row>4</th><td>39</td><td>Female</td><td>Natural causes    </td><td> 5278</td><td>Auto</td><td>No     </td><td>Material only</td><td> 1680.0</td><td>1</td><td>No </td></tr>\n",
              "\t<tr><th scope=row>5</th><td>47</td><td>Male  </td><td>Crime             </td><td> 2335</td><td>Auto</td><td>No     </td><td>Material only</td><td> 2680.0</td><td>1</td><td>No </td></tr>\n",
              "\t<tr><th scope=row>6</th><td>36</td><td>Male  </td><td>Other driver error</td><td> 2116</td><td>Auto</td><td>No     </td><td>Injury only  </td><td>38306.5</td><td>3</td><td>Yes</td></tr>\n",
              "</tbody>\n",
              "</table>\n"
            ],
            "text/latex": [
              "A data.frame: 6 × 10\n",
              "\\begin{tabular}{r|llllllllll}\n",
              "  & age & gender & incident\\_cause & days\\_to\\_incident & claim\\_area & police\\_report & claim\\_type & claim\\_amount & total\\_policy\\_claims & fraudulent\\\\\n",
              "  & <int> & <fct> & <fct> & <int> & <fct> & <fct> & <fct> & <dbl> & <int> & <fct>\\\\\n",
              "\\hline\n",
              "\t1 & 32 & Female & Driver error       &   225 & Auto & No      & Material only &  2980.0 & 1 & No \\\\\n",
              "\t2 & 60 & Female & Crime              & 11874 & Home & Unknown & Material only &  2980.0 & 3 & No \\\\\n",
              "\t3 & 27 & Female & Other driver error &     4 & Auto & No      & Material only &  3369.5 & 1 & Yes\\\\\n",
              "\t4 & 39 & Female & Natural causes     &  5278 & Auto & No      & Material only &  1680.0 & 1 & No \\\\\n",
              "\t5 & 47 & Male   & Crime              &  2335 & Auto & No      & Material only &  2680.0 & 1 & No \\\\\n",
              "\t6 & 36 & Male   & Other driver error &  2116 & Auto & No      & Injury only   & 38306.5 & 3 & Yes\\\\\n",
              "\\end{tabular}\n"
            ],
            "text/markdown": [
              "\n",
              "A data.frame: 6 × 10\n",
              "\n",
              "| <!--/--> | age &lt;int&gt; | gender &lt;fct&gt; | incident_cause &lt;fct&gt; | days_to_incident &lt;int&gt; | claim_area &lt;fct&gt; | police_report &lt;fct&gt; | claim_type &lt;fct&gt; | claim_amount &lt;dbl&gt; | total_policy_claims &lt;int&gt; | fraudulent &lt;fct&gt; |\n",
              "|---|---|---|---|---|---|---|---|---|---|---|\n",
              "| 1 | 32 | Female | Driver error       |   225 | Auto | No      | Material only |  2980.0 | 1 | No  |\n",
              "| 2 | 60 | Female | Crime              | 11874 | Home | Unknown | Material only |  2980.0 | 3 | No  |\n",
              "| 3 | 27 | Female | Other driver error |     4 | Auto | No      | Material only |  3369.5 | 1 | Yes |\n",
              "| 4 | 39 | Female | Natural causes     |  5278 | Auto | No      | Material only |  1680.0 | 1 | No  |\n",
              "| 5 | 47 | Male   | Crime              |  2335 | Auto | No      | Material only |  2680.0 | 1 | No  |\n",
              "| 6 | 36 | Male   | Other driver error |  2116 | Auto | No      | Injury only   | 38306.5 | 3 | Yes |\n",
              "\n"
            ],
            "text/plain": [
              "  age gender incident_cause     days_to_incident claim_area police_report\n",
              "1 32  Female Driver error         225            Auto       No           \n",
              "2 60  Female Crime              11874            Home       Unknown      \n",
              "3 27  Female Other driver error     4            Auto       No           \n",
              "4 39  Female Natural causes      5278            Auto       No           \n",
              "5 47  Male   Crime               2335            Auto       No           \n",
              "6 36  Male   Other driver error  2116            Auto       No           \n",
              "  claim_type    claim_amount total_policy_claims fraudulent\n",
              "1 Material only  2980.0      1                   No        \n",
              "2 Material only  2980.0      3                   No        \n",
              "3 Material only  3369.5      1                   Yes       \n",
              "4 Material only  1680.0      1                   No        \n",
              "5 Material only  2680.0      1                   No        \n",
              "6 Injury only   38306.5      3                   Yes       "
            ]
          },
          "metadata": {},
          "output_type": "display_data"
        }
      ],
      "source": [
        "# On filtre selon ce qu'on avait décidé sur le claim_amount\n",
        "fraudes <- fraudes[fraudes$claim_amount<43000,]\n",
        "# On supprime le claim_id et le customer_id\n",
        "fraudes <- fraudes[,-c(1:2)]\n",
        "head(fraudes)\n"
      ]
    },
    {
      "cell_type": "markdown",
      "metadata": {},
      "source": [
        "## Définition de la méthode d'évaluation des classifieurs\n",
        "\n",
        "Nous allons utiliser les 3 arbres vus en cours (tree, C5.0 et rpart) et nous allons essayer avec toutes les features, puis seulement avec celles que nous pensons pertinentes.\n",
        "\n",
        "fraudes -> toutes\n",
        "\n",
        "fraudesP -> seulement celles pertinentes"
      ]
    },
    {
      "cell_type": "markdown",
      "metadata": {},
      "source": [
        "## Définition des données d'apprentissage et de test"
      ]
    },
    {
      "cell_type": "code",
      "execution_count": 51,
      "metadata": {
        "vscode": {
          "languageId": "r"
        }
      },
      "outputs": [],
      "source": [
        "# On essaye de réaliser l'arbre avec les features que nous avons trouvé pertinentes\n",
        "featuresPertinentes <- c('age', 'claim_amount', 'days_to_incident', 'police_report', 'total_policy_claims', 'fraudulent')\n",
        "\n",
        "\n",
        "# First 400 rows (2/3) apprentissage\n",
        "fraudes_EA <- fraudes[1:730,-1]\n",
        "# Last 200 rows (1/3) test\n",
        "fraudes_ET <- fraudes[730:1082,-1]"
      ]
    },
    {
      "cell_type": "markdown",
      "metadata": {},
      "source": [
        "## Construction et évaluation du classifieur"
      ]
    },
    {
      "cell_type": "markdown",
      "metadata": {},
      "source": [
        "### Analyse avec toutes les features"
      ]
    },
    {
      "cell_type": "code",
      "execution_count": 52,
      "metadata": {
        "vscode": {
          "languageId": "r"
        }
      },
      "outputs": [],
      "source": [
        "library(rpart)\n",
        "library(C50)\n",
        "library(tree)"
      ]
    },
    {
      "cell_type": "code",
      "execution_count": 53,
      "metadata": {
        "vscode": {
          "languageId": "r"
        }
      },
      "outputs": [],
      "source": [
        "tree1 <- rpart(fraudulent ~ ., fraudes_EA)\n",
        "tree2 <- C5.0(fraudulent ~ ., fraudes_EA)\n",
        "tree3 <- tree(fraudulent ~ ., fraudes_EA)"
      ]
    },
    {
      "cell_type": "code",
      "execution_count": 54,
      "metadata": {
        "vscode": {
          "languageId": "r"
        }
      },
      "outputs": [
        {
          "data": {
            "image/png": "[encoded data removed]",
            "text/plain": [
              "plot without title"
            ]
          },
          "metadata": {
            "image/png": {
              "height": 420,
              "width": 420
            }
          },
          "output_type": "display_data"
        }
      ],
      "source": [
        "plot(tree1)\n",
        "text(tree1, pretty=0)"
      ]
    },
    {
      "cell_type": "code",
      "execution_count": 55,
      "metadata": {
        "vscode": {
          "languageId": "r"
        }
      },
      "outputs": [
        {
          "data": {
            "text/plain": [
              "test_tree1\n",
              " No Yes \n",
              "301  52 "
            ]
          },
          "metadata": {},
          "output_type": "display_data"
        },
        {
          "data": {
            "text/plain": [
              "test_tree2\n",
              " No Yes \n",
              "321  32 "
            ]
          },
          "metadata": {},
          "output_type": "display_data"
        },
        {
          "data": {
            "text/plain": [
              "test_tree3\n",
              " No Yes \n",
              "353   0 "
            ]
          },
          "metadata": {},
          "output_type": "display_data"
        }
      ],
      "source": [
        "test_tree1 <- predict(tree1, fraudes_ET, type=\"class\")\n",
        "table(test_tree1)\n",
        "test_tree2 <- predict(tree2, fraudes_ET, type=\"class\")\n",
        "table(test_tree2)\n",
        "test_tree3 <- predict(tree3, fraudes_ET, type=\"class\")\n",
        "table(test_tree3)"
      ]
    },
    {
      "cell_type": "markdown",
      "metadata": {},
      "source": [
        "Matrices de confusion"
      ]
    },
    {
      "cell_type": "code",
      "execution_count": 56,
      "metadata": {
        "vscode": {
          "languageId": "r"
        }
      },
      "outputs": [
        {
          "name": "stdout",
          "output_type": "stream",
          "text": [
            "     test_tree1\n",
            "       No Yes\n",
            "  No  247  27\n",
            "  Yes  54  25\n",
            "     test_tree2\n",
            "       No Yes\n",
            "  No  260  14\n",
            "  Yes  61  18\n",
            "     test_tree3\n",
            "       No Yes\n",
            "  No  274   0\n",
            "  Yes  79   0\n"
          ]
        }
      ],
      "source": [
        "mc_tree1 = table(fraudes_ET$fraudulent, test_tree1)\n",
        "mc_tree2 = table(fraudes_ET$fraudulent, test_tree2)\n",
        "mc_tree3 = table(fraudes_ET$fraudulent, test_tree3)\n",
        "print(mc_tree1)\n",
        "print(mc_tree2)\n",
        "print(mc_tree3)"
      ]
    },
    {
      "cell_type": "code",
      "execution_count": 57,
      "metadata": {
        "vscode": {
          "languageId": "r"
        }
      },
      "outputs": [
        {
          "data": {
            "text/html": [
              "<table class=\"dataframe\">\n",
              "<caption>A data.frame: 353 × 10</caption>\n",
              "<thead>\n",
              "\t<tr><th></th><th scope=col>claim_amount</th><th scope=col>days_to_incident</th><th scope=col>Prediction2</th><th scope=col>Prediction1</th><th scope=col>gender</th><th scope=col>total_policy_claims</th><th scope=col>claim_type</th><th scope=col>claim_area</th><th scope=col>Prediction3</th><th scope=col>incident_cause</th></tr>\n",
              "\t<tr><th></th><th scope=col>&lt;dbl&gt;</th><th scope=col>&lt;int&gt;</th><th scope=col>&lt;fct&gt;</th><th scope=col>&lt;fct&gt;</th><th scope=col>&lt;fct&gt;</th><th scope=col>&lt;int&gt;</th><th scope=col>&lt;fct&gt;</th><th scope=col>&lt;fct&gt;</th><th scope=col>&lt;fct&gt;</th><th scope=col>&lt;fct&gt;</th></tr>\n",
              "</thead>\n",
              "<tbody>\n",
              "\t<tr><th scope=row>740</th><td> 1840.0</td><td>  188</td><td>Yes</td><td>Yes</td><td>Male  </td><td>1</td><td>Material only      </td><td>Auto</td><td>No</td><td>Driver error      </td></tr>\n",
              "\t<tr><th scope=row>741</th><td> 2250.0</td><td> 4456</td><td>No </td><td>No </td><td>Male  </td><td>1</td><td>Material only      </td><td>Auto</td><td>No</td><td>Other driver error</td></tr>\n",
              "\t<tr><th scope=row>742</th><td>19340.0</td><td> 6906</td><td>No </td><td>No </td><td>Male  </td><td>1</td><td>Injury only        </td><td>Auto</td><td>No</td><td>Other causes      </td></tr>\n",
              "\t<tr><th scope=row>743</th><td> 1120.0</td><td> 2040</td><td>No </td><td>No </td><td>Male  </td><td>3</td><td>Material only      </td><td>Auto</td><td>No</td><td>Driver error      </td></tr>\n",
              "\t<tr><th scope=row>744</th><td>14220.0</td><td> 1455</td><td>No </td><td>No </td><td>Female</td><td>1</td><td>Material and injury</td><td>Auto</td><td>No</td><td>Natural causes    </td></tr>\n",
              "\t<tr><th scope=row>745</th><td>18650.0</td><td> 1248</td><td>No </td><td>No </td><td>Male  </td><td>1</td><td>Injury only        </td><td>Auto</td><td>No</td><td>Other driver error</td></tr>\n",
              "\t<tr><th scope=row>746</th><td> 3415.5</td><td> 2396</td><td>Yes</td><td>Yes</td><td>Female</td><td>1</td><td>Material only      </td><td>Auto</td><td>No</td><td>Other driver error</td></tr>\n",
              "\t<tr><th scope=row>747</th><td>19400.0</td><td> 2114</td><td>No </td><td>No </td><td>Female</td><td>1</td><td>Injury only        </td><td>Auto</td><td>No</td><td>Other driver error</td></tr>\n",
              "\t<tr><th scope=row>748</th><td> 2310.0</td><td> 6138</td><td>No </td><td>No </td><td>Male  </td><td>1</td><td>Material only      </td><td>Home</td><td>No</td><td>Driver error      </td></tr>\n",
              "\t<tr><th scope=row>749</th><td>24621.5</td><td>  394</td><td>No </td><td>No </td><td>Female</td><td>1</td><td>Material and injury</td><td>Auto</td><td>No</td><td>Other causes      </td></tr>\n",
              "\t<tr><th scope=row>750</th><td> 3128.0</td><td>   64</td><td>No </td><td>Yes</td><td>Female</td><td>1</td><td>Material only      </td><td>Auto</td><td>No</td><td>Natural causes    </td></tr>\n",
              "\t<tr><th scope=row>751</th><td> 3369.5</td><td>  103</td><td>Yes</td><td>Yes</td><td>Female</td><td>1</td><td>Material only      </td><td>Auto</td><td>No</td><td>Crime             </td></tr>\n",
              "\t<tr><th scope=row>752</th><td> 2970.0</td><td>12398</td><td>No </td><td>No </td><td>Male  </td><td>1</td><td>Material only      </td><td>Auto</td><td>No</td><td>Driver error      </td></tr>\n",
              "\t<tr><th scope=row>753</th><td>27370.0</td><td> 4537</td><td>No </td><td>No </td><td>Female</td><td>1</td><td>Material and injury</td><td>Auto</td><td>No</td><td>Other driver error</td></tr>\n",
              "\t<tr><th scope=row>754</th><td>34460.0</td><td> 1211</td><td>No </td><td>No </td><td>Male  </td><td>1</td><td>Injury only        </td><td>Auto</td><td>No</td><td>Crime             </td></tr>\n",
              "\t<tr><th scope=row>755</th><td>37740.0</td><td> 2439</td><td>No </td><td>No </td><td>Male  </td><td>1</td><td>Material and injury</td><td>Auto</td><td>No</td><td>Other causes      </td></tr>\n",
              "\t<tr><th scope=row>756</th><td> 2357.5</td><td> 1068</td><td>No </td><td>No </td><td>Female</td><td>1</td><td>Material only      </td><td>Auto</td><td>No</td><td>Natural causes    </td></tr>\n",
              "\t<tr><th scope=row>757</th><td>33522.5</td><td> 5538</td><td>No </td><td>No </td><td>Female</td><td>1</td><td>Injury only        </td><td>Auto</td><td>No</td><td>Other driver error</td></tr>\n",
              "\t<tr><th scope=row>758</th><td> 2110.0</td><td>  814</td><td>No </td><td>No </td><td>Female</td><td>1</td><td>Material only      </td><td>Auto</td><td>No</td><td>Crime             </td></tr>\n",
              "\t<tr><th scope=row>759</th><td>33752.5</td><td> 7757</td><td>No </td><td>No </td><td>Male  </td><td>1</td><td>Injury only        </td><td>Auto</td><td>No</td><td>Driver error      </td></tr>\n",
              "\t<tr><th scope=row>760</th><td> 1070.0</td><td>   84</td><td>Yes</td><td>Yes</td><td>Female</td><td>3</td><td>Material only      </td><td>Auto</td><td>No</td><td>Other driver error</td></tr>\n",
              "\t<tr><th scope=row>761</th><td>33465.0</td><td>  420</td><td>No </td><td>No </td><td>Female</td><td>1</td><td>Injury only        </td><td>Auto</td><td>No</td><td>Other causes      </td></tr>\n",
              "\t<tr><th scope=row>762</th><td>16480.0</td><td>  579</td><td>No </td><td>No </td><td>Female</td><td>3</td><td>Injury only        </td><td>Auto</td><td>No</td><td>Crime             </td></tr>\n",
              "\t<tr><th scope=row>763</th><td>13820.0</td><td> 7284</td><td>No </td><td>No </td><td>Male  </td><td>1</td><td>Injury only        </td><td>Auto</td><td>No</td><td>Driver error      </td></tr>\n",
              "\t<tr><th scope=row>764</th><td> 2880.0</td><td> 3544</td><td>No </td><td>No </td><td>Female</td><td>1</td><td>Material only      </td><td>Auto</td><td>No</td><td>Other causes      </td></tr>\n",
              "\t<tr><th scope=row>765</th><td> 1640.0</td><td> 1742</td><td>No </td><td>No </td><td>Male  </td><td>1</td><td>Material only      </td><td>Auto</td><td>No</td><td>Other driver error</td></tr>\n",
              "\t<tr><th scope=row>766</th><td> 2550.0</td><td>  575</td><td>No </td><td>No </td><td>Male  </td><td>1</td><td>Material only      </td><td>Auto</td><td>No</td><td>Driver error      </td></tr>\n",
              "\t<tr><th scope=row>767</th><td> 2220.0</td><td>  247</td><td>No </td><td>Yes</td><td>Female</td><td>5</td><td>Material only      </td><td>Auto</td><td>No</td><td>Other causes      </td></tr>\n",
              "\t<tr><th scope=row>768</th><td> 2370.0</td><td> 6764</td><td>No </td><td>No </td><td>Female</td><td>1</td><td>Material only      </td><td>Auto</td><td>No</td><td>Natural causes    </td></tr>\n",
              "\t<tr><th scope=row>769</th><td> 1120.0</td><td> 8559</td><td>No </td><td>No </td><td>Male  </td><td>1</td><td>Material only      </td><td>Auto</td><td>No</td><td>Crime             </td></tr>\n",
              "\t<tr><th scope=row>...</th><td>...</td><td>...</td><td>...</td><td>...</td><td>...</td><td>...</td><td>...</td><td>...</td><td>...</td><td>...</td></tr>\n",
              "\t<tr><th scope=row>1067</th><td> 2323.0</td><td>   2</td><td>Yes</td><td>Yes</td><td>Female</td><td>3</td><td>Material only      </td><td>Auto</td><td>No</td><td>Other causes      </td></tr>\n",
              "\t<tr><th scope=row>1068</th><td> 1090.0</td><td>3518</td><td>No </td><td>Yes</td><td>Female</td><td>5</td><td>Material only      </td><td>Auto</td><td>No</td><td>Natural causes    </td></tr>\n",
              "\t<tr><th scope=row>1070</th><td> 2670.0</td><td> 788</td><td>No </td><td>No </td><td>Male  </td><td>2</td><td>Material only      </td><td>Home</td><td>No</td><td>Other driver error</td></tr>\n",
              "\t<tr><th scope=row>1071</th><td> 2070.0</td><td> 445</td><td>No </td><td>No </td><td>Female</td><td>1</td><td>Material only      </td><td>Auto</td><td>No</td><td>Other causes      </td></tr>\n",
              "\t<tr><th scope=row>1072</th><td> 1050.0</td><td>2749</td><td>No </td><td>No </td><td>Male  </td><td>1</td><td>Material only      </td><td>Auto</td><td>No</td><td>Natural causes    </td></tr>\n",
              "\t<tr><th scope=row>1073</th><td>38950.0</td><td>2850</td><td>No </td><td>No </td><td>Female</td><td>1</td><td>Injury only        </td><td>Home</td><td>No</td><td>Other causes      </td></tr>\n",
              "\t<tr><th scope=row>1074</th><td> 2730.0</td><td>4956</td><td>No </td><td>No </td><td>Male  </td><td>3</td><td>Material only      </td><td>Auto</td><td>No</td><td>Driver error      </td></tr>\n",
              "\t<tr><th scope=row>1075</th><td>33330.0</td><td>3143</td><td>No </td><td>No </td><td>Male  </td><td>2</td><td>Injury only        </td><td>Auto</td><td>No</td><td>Driver error      </td></tr>\n",
              "\t<tr><th scope=row>1076</th><td> 2780.0</td><td> 728</td><td>No </td><td>No </td><td>Male  </td><td>1</td><td>Material only      </td><td>Auto</td><td>No</td><td>Driver error      </td></tr>\n",
              "\t<tr><th scope=row>1077</th><td> 1380.0</td><td> 364</td><td>No </td><td>No </td><td>Female</td><td>3</td><td>Material only      </td><td>Home</td><td>No</td><td>Crime             </td></tr>\n",
              "\t<tr><th scope=row>1078</th><td> 2290.0</td><td>3946</td><td>No </td><td>No </td><td>Male  </td><td>1</td><td>Material only      </td><td>Auto</td><td>No</td><td>Natural causes    </td></tr>\n",
              "\t<tr><th scope=row>1079</th><td> 2320.0</td><td>2570</td><td>No </td><td>No </td><td>Male  </td><td>3</td><td>Material only      </td><td>Auto</td><td>No</td><td>Driver error      </td></tr>\n",
              "\t<tr><th scope=row>1080</th><td> 2173.5</td><td>1079</td><td>No </td><td>No </td><td>Male  </td><td>1</td><td>Material only      </td><td>Auto</td><td>No</td><td>Other causes      </td></tr>\n",
              "\t<tr><th scope=row>1081</th><td> 1770.0</td><td>6665</td><td>No </td><td>No </td><td>Female</td><td>1</td><td>Material only      </td><td>Auto</td><td>No</td><td>Other driver error</td></tr>\n",
              "\t<tr><th scope=row>1082</th><td> 2800.0</td><td>1087</td><td>No </td><td>No </td><td>Female</td><td>1</td><td>Material only      </td><td>Home</td><td>No</td><td>Other causes      </td></tr>\n",
              "\t<tr><th scope=row>1083</th><td>33080.0</td><td>7287</td><td>No </td><td>No </td><td>Male  </td><td>2</td><td>Injury only        </td><td>Auto</td><td>No</td><td>Other driver error</td></tr>\n",
              "\t<tr><th scope=row>1084</th><td> 2840.0</td><td>3821</td><td>No </td><td>No </td><td>Female</td><td>4</td><td>Material only      </td><td>Auto</td><td>No</td><td>Other driver error</td></tr>\n",
              "\t<tr><th scope=row>1085</th><td> 1490.0</td><td>2032</td><td>No </td><td>No </td><td>Male  </td><td>1</td><td>Material only      </td><td>Auto</td><td>No</td><td>Natural causes    </td></tr>\n",
              "\t<tr><th scope=row>1086</th><td> 2080.0</td><td>   8</td><td>Yes</td><td>No </td><td>Female</td><td>1</td><td>Material only      </td><td>Auto</td><td>No</td><td>Other causes      </td></tr>\n",
              "\t<tr><th scope=row>1087</th><td> 2875.0</td><td> 853</td><td>No </td><td>No </td><td>Male  </td><td>1</td><td>Material only      </td><td>Auto</td><td>No</td><td>Natural causes    </td></tr>\n",
              "\t<tr><th scope=row>1088</th><td>29010.0</td><td>   5</td><td>No </td><td>Yes</td><td>Male  </td><td>1</td><td>Injury only        </td><td>Auto</td><td>No</td><td>Driver error      </td></tr>\n",
              "\t<tr><th scope=row>1089</th><td> 1710.0</td><td>1029</td><td>No </td><td>No </td><td>Female</td><td>1</td><td>Material only      </td><td>Auto</td><td>No</td><td>Other causes      </td></tr>\n",
              "\t<tr><th scope=row>1090</th><td> 1030.0</td><td> 390</td><td>No </td><td>Yes</td><td>Female</td><td>4</td><td>Material only      </td><td>Auto</td><td>No</td><td>Natural causes    </td></tr>\n",
              "\t<tr><th scope=row>1091</th><td> 2288.5</td><td>   2</td><td>Yes</td><td>No </td><td>Female</td><td>1</td><td>Material only      </td><td>Auto</td><td>No</td><td>Other driver error</td></tr>\n",
              "\t<tr><th scope=row>1092</th><td> 3346.5</td><td>3501</td><td>Yes</td><td>Yes</td><td>Male  </td><td>3</td><td>Material only      </td><td>Auto</td><td>No</td><td>Crime             </td></tr>\n",
              "\t<tr><th scope=row>1093</th><td> 1805.5</td><td> 935</td><td>No </td><td>No </td><td>Female</td><td>1</td><td>Material only      </td><td>Auto</td><td>No</td><td>Crime             </td></tr>\n",
              "\t<tr><th scope=row>1094</th><td> 1610.0</td><td>2171</td><td>No </td><td>No </td><td>Male  </td><td>3</td><td>Material only      </td><td>Auto</td><td>No</td><td>Other causes      </td></tr>\n",
              "\t<tr><th scope=row>1095</th><td>24850.0</td><td> 713</td><td>No </td><td>No </td><td>Male  </td><td>1</td><td>Material and injury</td><td>Auto</td><td>No</td><td>Other causes      </td></tr>\n",
              "\t<tr><th scope=row>1096</th><td> 3059.0</td><td>8669</td><td>Yes</td><td>No </td><td>Female</td><td>4</td><td>Material only      </td><td>Auto</td><td>No</td><td>Other driver error</td></tr>\n",
              "\t<tr><th scope=row>1097</th><td> 1520.0</td><td> 160</td><td>No </td><td>Yes</td><td>Female</td><td>2</td><td>Material only      </td><td>Auto</td><td>No</td><td>Natural causes    </td></tr>\n",
              "</tbody>\n",
              "</table>\n"
            ],
            "text/latex": [
              "A data.frame: 353 × 10\n",
              "\\begin{tabular}{r|llllllllll}\n",
              "  & claim\\_amount & days\\_to\\_incident & Prediction2 & Prediction1 & gender & total\\_policy\\_claims & claim\\_type & claim\\_area & Prediction3 & incident\\_cause\\\\\n",
              "  & <dbl> & <int> & <fct> & <fct> & <fct> & <int> & <fct> & <fct> & <fct> & <fct>\\\\\n",
              "\\hline\n",
              "\t740 &  1840.0 &   188 & Yes & Yes & Male   & 1 & Material only       & Auto & No & Driver error      \\\\\n",
              "\t741 &  2250.0 &  4456 & No  & No  & Male   & 1 & Material only       & Auto & No & Other driver error\\\\\n",
              "\t742 & 19340.0 &  6906 & No  & No  & Male   & 1 & Injury only         & Auto & No & Other causes      \\\\\n",
              "\t743 &  1120.0 &  2040 & No  & No  & Male   & 3 & Material only       & Auto & No & Driver error      \\\\\n",
              "\t744 & 14220.0 &  1455 & No  & No  & Female & 1 & Material and injury & Auto & No & Natural causes    \\\\\n",
              "\t745 & 18650.0 &  1248 & No  & No  & Male   & 1 & Injury only         & Auto & No & Other driver error\\\\\n",
              "\t746 &  3415.5 &  2396 & Yes & Yes & Female & 1 & Material only       & Auto & No & Other driver error\\\\\n",
              "\t747 & 19400.0 &  2114 & No  & No  & Female & 1 & Injury only         & Auto & No & Other driver error\\\\\n",
              "\t748 &  2310.0 &  6138 & No  & No  & Male   & 1 & Material only       & Home & No & Driver error      \\\\\n",
              "\t749 & 24621.5 &   394 & No  & No  & Female & 1 & Material and injury & Auto & No & Other causes      \\\\\n",
              "\t750 &  3128.0 &    64 & No  & Yes & Female & 1 & Material only       & Auto & No & Natural causes    \\\\\n",
              "\t751 &  3369.5 &   103 & Yes & Yes & Female & 1 & Material only       & Auto & No & Crime             \\\\\n",
              "\t752 &  2970.0 & 12398 & No  & No  & Male   & 1 & Material only       & Auto & No & Driver error      \\\\\n",
              "\t753 & 27370.0 &  4537 & No  & No  & Female & 1 & Material and injury & Auto & No & Other driver error\\\\\n",
              "\t754 & 34460.0 &  1211 & No  & No  & Male   & 1 & Injury only         & Auto & No & Crime             \\\\\n",
              "\t755 & 37740.0 &  2439 & No  & No  & Male   & 1 & Material and injury & Auto & No & Other causes      \\\\\n",
              "\t756 &  2357.5 &  1068 & No  & No  & Female & 1 & Material only       & Auto & No & Natural causes    \\\\\n",
              "\t757 & 33522.5 &  5538 & No  & No  & Female & 1 & Injury only         & Auto & No & Other driver error\\\\\n",
              "\t758 &  2110.0 &   814 & No  & No  & Female & 1 & Material only       & Auto & No & Crime             \\\\\n",
              "\t759 & 33752.5 &  7757 & No  & No  & Male   & 1 & Injury only         & Auto & No & Driver error      \\\\\n",
              "\t760 &  1070.0 &    84 & Yes & Yes & Female & 3 & Material only       & Auto & No & Other driver error\\\\\n",
              "\t761 & 33465.0 &   420 & No  & No  & Female & 1 & Injury only         & Auto & No & Other causes      \\\\\n",
              "\t762 & 16480.0 &   579 & No  & No  & Female & 3 & Injury only         & Auto & No & Crime             \\\\\n",
              "\t763 & 13820.0 &  7284 & No  & No  & Male   & 1 & Injury only         & Auto & No & Driver error      \\\\\n",
              "\t764 &  2880.0 &  3544 & No  & No  & Female & 1 & Material only       & Auto & No & Other causes      \\\\\n",
              "\t765 &  1640.0 &  1742 & No  & No  & Male   & 1 & Material only       & Auto & No & Other driver error\\\\\n",
              "\t766 &  2550.0 &   575 & No  & No  & Male   & 1 & Material only       & Auto & No & Driver error      \\\\\n",
              "\t767 &  2220.0 &   247 & No  & Yes & Female & 5 & Material only       & Auto & No & Other causes      \\\\\n",
              "\t768 &  2370.0 &  6764 & No  & No  & Female & 1 & Material only       & Auto & No & Natural causes    \\\\\n",
              "\t769 &  1120.0 &  8559 & No  & No  & Male   & 1 & Material only       & Auto & No & Crime             \\\\\n",
              "\t... & ... & ... & ... & ... & ... & ... & ... & ... & ... & ...\\\\\n",
              "\t1067 &  2323.0 &    2 & Yes & Yes & Female & 3 & Material only       & Auto & No & Other causes      \\\\\n",
              "\t1068 &  1090.0 & 3518 & No  & Yes & Female & 5 & Material only       & Auto & No & Natural causes    \\\\\n",
              "\t1070 &  2670.0 &  788 & No  & No  & Male   & 2 & Material only       & Home & No & Other driver error\\\\\n",
              "\t1071 &  2070.0 &  445 & No  & No  & Female & 1 & Material only       & Auto & No & Other causes      \\\\\n",
              "\t1072 &  1050.0 & 2749 & No  & No  & Male   & 1 & Material only       & Auto & No & Natural causes    \\\\\n",
              "\t1073 & 38950.0 & 2850 & No  & No  & Female & 1 & Injury only         & Home & No & Other causes      \\\\\n",
              "\t1074 &  2730.0 & 4956 & No  & No  & Male   & 3 & Material only       & Auto & No & Driver error      \\\\\n",
              "\t1075 & 33330.0 & 3143 & No  & No  & Male   & 2 & Injury only         & Auto & No & Driver error      \\\\\n",
              "\t1076 &  2780.0 &  728 & No  & No  & Male   & 1 & Material only       & Auto & No & Driver error      \\\\\n",
              "\t1077 &  1380.0 &  364 & No  & No  & Female & 3 & Material only       & Home & No & Crime             \\\\\n",
              "\t1078 &  2290.0 & 3946 & No  & No  & Male   & 1 & Material only       & Auto & No & Natural causes    \\\\\n",
              "\t1079 &  2320.0 & 2570 & No  & No  & Male   & 3 & Material only       & Auto & No & Driver error      \\\\\n",
              "\t1080 &  2173.5 & 1079 & No  & No  & Male   & 1 & Material only       & Auto & No & Other causes      \\\\\n",
              "\t1081 &  1770.0 & 6665 & No  & No  & Female & 1 & Material only       & Auto & No & Other driver error\\\\\n",
              "\t1082 &  2800.0 & 1087 & No  & No  & Female & 1 & Material only       & Home & No & Other causes      \\\\\n",
              "\t1083 & 33080.0 & 7287 & No  & No  & Male   & 2 & Injury only         & Auto & No & Other driver error\\\\\n",
              "\t1084 &  2840.0 & 3821 & No  & No  & Female & 4 & Material only       & Auto & No & Other driver error\\\\\n",
              "\t1085 &  1490.0 & 2032 & No  & No  & Male   & 1 & Material only       & Auto & No & Natural causes    \\\\\n",
              "\t1086 &  2080.0 &    8 & Yes & No  & Female & 1 & Material only       & Auto & No & Other causes      \\\\\n",
              "\t1087 &  2875.0 &  853 & No  & No  & Male   & 1 & Material only       & Auto & No & Natural causes    \\\\\n",
              "\t1088 & 29010.0 &    5 & No  & Yes & Male   & 1 & Injury only         & Auto & No & Driver error      \\\\\n",
              "\t1089 &  1710.0 & 1029 & No  & No  & Female & 1 & Material only       & Auto & No & Other causes      \\\\\n",
              "\t1090 &  1030.0 &  390 & No  & Yes & Female & 4 & Material only       & Auto & No & Natural causes    \\\\\n",
              "\t1091 &  2288.5 &    2 & Yes & No  & Female & 1 & Material only       & Auto & No & Other driver error\\\\\n",
              "\t1092 &  3346.5 & 3501 & Yes & Yes & Male   & 3 & Material only       & Auto & No & Crime             \\\\\n",
              "\t1093 &  1805.5 &  935 & No  & No  & Female & 1 & Material only       & Auto & No & Crime             \\\\\n",
              "\t1094 &  1610.0 & 2171 & No  & No  & Male   & 3 & Material only       & Auto & No & Other causes      \\\\\n",
              "\t1095 & 24850.0 &  713 & No  & No  & Male   & 1 & Material and injury & Auto & No & Other causes      \\\\\n",
              "\t1096 &  3059.0 & 8669 & Yes & No  & Female & 4 & Material only       & Auto & No & Other driver error\\\\\n",
              "\t1097 &  1520.0 &  160 & No  & Yes & Female & 2 & Material only       & Auto & No & Natural causes    \\\\\n",
              "\\end{tabular}\n"
            ],
            "text/markdown": [
              "\n",
              "A data.frame: 353 × 10\n",
              "\n",
              "| <!--/--> | claim_amount &lt;dbl&gt; | days_to_incident &lt;int&gt; | Prediction2 &lt;fct&gt; | Prediction1 &lt;fct&gt; | gender &lt;fct&gt; | total_policy_claims &lt;int&gt; | claim_type &lt;fct&gt; | claim_area &lt;fct&gt; | Prediction3 &lt;fct&gt; | incident_cause &lt;fct&gt; |\n",
              "|---|---|---|---|---|---|---|---|---|---|---|\n",
              "| 740 |  1840.0 |   188 | Yes | Yes | Male   | 1 | Material only       | Auto | No | Driver error       |\n",
              "| 741 |  2250.0 |  4456 | No  | No  | Male   | 1 | Material only       | Auto | No | Other driver error |\n",
              "| 742 | 19340.0 |  6906 | No  | No  | Male   | 1 | Injury only         | Auto | No | Other causes       |\n",
              "| 743 |  1120.0 |  2040 | No  | No  | Male   | 3 | Material only       | Auto | No | Driver error       |\n",
              "| 744 | 14220.0 |  1455 | No  | No  | Female | 1 | Material and injury | Auto | No | Natural causes     |\n",
              "| 745 | 18650.0 |  1248 | No  | No  | Male   | 1 | Injury only         | Auto | No | Other driver error |\n",
              "| 746 |  3415.5 |  2396 | Yes | Yes | Female | 1 | Material only       | Auto | No | Other driver error |\n",
              "| 747 | 19400.0 |  2114 | No  | No  | Female | 1 | Injury only         | Auto | No | Other driver error |\n",
              "| 748 |  2310.0 |  6138 | No  | No  | Male   | 1 | Material only       | Home | No | Driver error       |\n",
              "| 749 | 24621.5 |   394 | No  | No  | Female | 1 | Material and injury | Auto | No | Other causes       |\n",
              "| 750 |  3128.0 |    64 | No  | Yes | Female | 1 | Material only       | Auto | No | Natural causes     |\n",
              "| 751 |  3369.5 |   103 | Yes | Yes | Female | 1 | Material only       | Auto | No | Crime              |\n",
              "| 752 |  2970.0 | 12398 | No  | No  | Male   | 1 | Material only       | Auto | No | Driver error       |\n",
              "| 753 | 27370.0 |  4537 | No  | No  | Female | 1 | Material and injury | Auto | No | Other driver error |\n",
              "| 754 | 34460.0 |  1211 | No  | No  | Male   | 1 | Injury only         | Auto | No | Crime              |\n",
              "| 755 | 37740.0 |  2439 | No  | No  | Male   | 1 | Material and injury | Auto | No | Other causes       |\n",
              "| 756 |  2357.5 |  1068 | No  | No  | Female | 1 | Material only       | Auto | No | Natural causes     |\n",
              "| 757 | 33522.5 |  5538 | No  | No  | Female | 1 | Injury only         | Auto | No | Other driver error |\n",
              "| 758 |  2110.0 |   814 | No  | No  | Female | 1 | Material only       | Auto | No | Crime              |\n",
              "| 759 | 33752.5 |  7757 | No  | No  | Male   | 1 | Injury only         | Auto | No | Driver error       |\n",
              "| 760 |  1070.0 |    84 | Yes | Yes | Female | 3 | Material only       | Auto | No | Other driver error |\n",
              "| 761 | 33465.0 |   420 | No  | No  | Female | 1 | Injury only         | Auto | No | Other causes       |\n",
              "| 762 | 16480.0 |   579 | No  | No  | Female | 3 | Injury only         | Auto | No | Crime              |\n",
              "| 763 | 13820.0 |  7284 | No  | No  | Male   | 1 | Injury only         | Auto | No | Driver error       |\n",
              "| 764 |  2880.0 |  3544 | No  | No  | Female | 1 | Material only       | Auto | No | Other causes       |\n",
              "| 765 |  1640.0 |  1742 | No  | No  | Male   | 1 | Material only       | Auto | No | Other driver error |\n",
              "| 766 |  2550.0 |   575 | No  | No  | Male   | 1 | Material only       | Auto | No | Driver error       |\n",
              "| 767 |  2220.0 |   247 | No  | Yes | Female | 5 | Material only       | Auto | No | Other causes       |\n",
              "| 768 |  2370.0 |  6764 | No  | No  | Female | 1 | Material only       | Auto | No | Natural causes     |\n",
              "| 769 |  1120.0 |  8559 | No  | No  | Male   | 1 | Material only       | Auto | No | Crime              |\n",
              "| ... | ... | ... | ... | ... | ... | ... | ... | ... | ... | ... |\n",
              "| 1067 |  2323.0 |    2 | Yes | Yes | Female | 3 | Material only       | Auto | No | Other causes       |\n",
              "| 1068 |  1090.0 | 3518 | No  | Yes | Female | 5 | Material only       | Auto | No | Natural causes     |\n",
              "| 1070 |  2670.0 |  788 | No  | No  | Male   | 2 | Material only       | Home | No | Other driver error |\n",
              "| 1071 |  2070.0 |  445 | No  | No  | Female | 1 | Material only       | Auto | No | Other causes       |\n",
              "| 1072 |  1050.0 | 2749 | No  | No  | Male   | 1 | Material only       | Auto | No | Natural causes     |\n",
              "| 1073 | 38950.0 | 2850 | No  | No  | Female | 1 | Injury only         | Home | No | Other causes       |\n",
              "| 1074 |  2730.0 | 4956 | No  | No  | Male   | 3 | Material only       | Auto | No | Driver error       |\n",
              "| 1075 | 33330.0 | 3143 | No  | No  | Male   | 2 | Injury only         | Auto | No | Driver error       |\n",
              "| 1076 |  2780.0 |  728 | No  | No  | Male   | 1 | Material only       | Auto | No | Driver error       |\n",
              "| 1077 |  1380.0 |  364 | No  | No  | Female | 3 | Material only       | Home | No | Crime              |\n",
              "| 1078 |  2290.0 | 3946 | No  | No  | Male   | 1 | Material only       | Auto | No | Natural causes     |\n",
              "| 1079 |  2320.0 | 2570 | No  | No  | Male   | 3 | Material only       | Auto | No | Driver error       |\n",
              "| 1080 |  2173.5 | 1079 | No  | No  | Male   | 1 | Material only       | Auto | No | Other causes       |\n",
              "| 1081 |  1770.0 | 6665 | No  | No  | Female | 1 | Material only       | Auto | No | Other driver error |\n",
              "| 1082 |  2800.0 | 1087 | No  | No  | Female | 1 | Material only       | Home | No | Other causes       |\n",
              "| 1083 | 33080.0 | 7287 | No  | No  | Male   | 2 | Injury only         | Auto | No | Other driver error |\n",
              "| 1084 |  2840.0 | 3821 | No  | No  | Female | 4 | Material only       | Auto | No | Other driver error |\n",
              "| 1085 |  1490.0 | 2032 | No  | No  | Male   | 1 | Material only       | Auto | No | Natural causes     |\n",
              "| 1086 |  2080.0 |    8 | Yes | No  | Female | 1 | Material only       | Auto | No | Other causes       |\n",
              "| 1087 |  2875.0 |  853 | No  | No  | Male   | 1 | Material only       | Auto | No | Natural causes     |\n",
              "| 1088 | 29010.0 |    5 | No  | Yes | Male   | 1 | Injury only         | Auto | No | Driver error       |\n",
              "| 1089 |  1710.0 | 1029 | No  | No  | Female | 1 | Material only       | Auto | No | Other causes       |\n",
              "| 1090 |  1030.0 |  390 | No  | Yes | Female | 4 | Material only       | Auto | No | Natural causes     |\n",
              "| 1091 |  2288.5 |    2 | Yes | No  | Female | 1 | Material only       | Auto | No | Other driver error |\n",
              "| 1092 |  3346.5 | 3501 | Yes | Yes | Male   | 3 | Material only       | Auto | No | Crime              |\n",
              "| 1093 |  1805.5 |  935 | No  | No  | Female | 1 | Material only       | Auto | No | Crime              |\n",
              "| 1094 |  1610.0 | 2171 | No  | No  | Male   | 3 | Material only       | Auto | No | Other causes       |\n",
              "| 1095 | 24850.0 |  713 | No  | No  | Male   | 1 | Material and injury | Auto | No | Other causes       |\n",
              "| 1096 |  3059.0 | 8669 | Yes | No  | Female | 4 | Material only       | Auto | No | Other driver error |\n",
              "| 1097 |  1520.0 |  160 | No  | Yes | Female | 2 | Material only       | Auto | No | Natural causes     |\n",
              "\n"
            ],
            "text/plain": [
              "     claim_amount days_to_incident Prediction2 Prediction1 gender\n",
              "740   1840.0        188            Yes         Yes         Male  \n",
              "741   2250.0       4456            No          No          Male  \n",
              "742  19340.0       6906            No          No          Male  \n",
              "743   1120.0       2040            No          No          Male  \n",
              "744  14220.0       1455            No          No          Female\n",
              "745  18650.0       1248            No          No          Male  \n",
              "746   3415.5       2396            Yes         Yes         Female\n",
              "747  19400.0       2114            No          No          Female\n",
              "748   2310.0       6138            No          No          Male  \n",
              "749  24621.5        394            No          No          Female\n",
              "750   3128.0         64            No          Yes         Female\n",
              "751   3369.5        103            Yes         Yes         Female\n",
              "752   2970.0      12398            No          No          Male  \n",
              "753  27370.0       4537            No          No          Female\n",
              "754  34460.0       1211            No          No          Male  \n",
              "755  37740.0       2439            No          No          Male  \n",
              "756   2357.5       1068            No          No          Female\n",
              "757  33522.5       5538            No          No          Female\n",
              "758   2110.0        814            No          No          Female\n",
              "759  33752.5       7757            No          No          Male  \n",
              "760   1070.0         84            Yes         Yes         Female\n",
              "761  33465.0        420            No          No          Female\n",
              "762  16480.0        579            No          No          Female\n",
              "763  13820.0       7284            No          No          Male  \n",
              "764   2880.0       3544            No          No          Female\n",
              "765   1640.0       1742            No          No          Male  \n",
              "766   2550.0        575            No          No          Male  \n",
              "767   2220.0        247            No          Yes         Female\n",
              "768   2370.0       6764            No          No          Female\n",
              "769   1120.0       8559            No          No          Male  \n",
              "...  ...          ...              ...         ...         ...   \n",
              "1067  2323.0         2             Yes         Yes         Female\n",
              "1068  1090.0      3518             No          Yes         Female\n",
              "1070  2670.0       788             No          No          Male  \n",
              "1071  2070.0       445             No          No          Female\n",
              "1072  1050.0      2749             No          No          Male  \n",
              "1073 38950.0      2850             No          No          Female\n",
              "1074  2730.0      4956             No          No          Male  \n",
              "1075 33330.0      3143             No          No          Male  \n",
              "1076  2780.0       728             No          No          Male  \n",
              "1077  1380.0       364             No          No          Female\n",
              "1078  2290.0      3946             No          No          Male  \n",
              "1079  2320.0      2570             No          No          Male  \n",
              "1080  2173.5      1079             No          No          Male  \n",
              "1081  1770.0      6665             No          No          Female\n",
              "1082  2800.0      1087             No          No          Female\n",
              "1083 33080.0      7287             No          No          Male  \n",
              "1084  2840.0      3821             No          No          Female\n",
              "1085  1490.0      2032             No          No          Male  \n",
              "1086  2080.0         8             Yes         No          Female\n",
              "1087  2875.0       853             No          No          Male  \n",
              "1088 29010.0         5             No          Yes         Male  \n",
              "1089  1710.0      1029             No          No          Female\n",
              "1090  1030.0       390             No          Yes         Female\n",
              "1091  2288.5         2             Yes         No          Female\n",
              "1092  3346.5      3501             Yes         Yes         Male  \n",
              "1093  1805.5       935             No          No          Female\n",
              "1094  1610.0      2171             No          No          Male  \n",
              "1095 24850.0       713             No          No          Male  \n",
              "1096  3059.0      8669             Yes         No          Female\n",
              "1097  1520.0       160             No          Yes         Female\n",
              "     total_policy_claims claim_type          claim_area Prediction3\n",
              "740  1                   Material only       Auto       No         \n",
              "741  1                   Material only       Auto       No         \n",
              "742  1                   Injury only         Auto       No         \n",
              "743  3                   Material only       Auto       No         \n",
              "744  1                   Material and injury Auto       No         \n",
              "745  1                   Injury only         Auto       No         \n",
              "746  1                   Material only       Auto       No         \n",
              "747  1                   Injury only         Auto       No         \n",
              "748  1                   Material only       Home       No         \n",
              "749  1                   Material and injury Auto       No         \n",
              "750  1                   Material only       Auto       No         \n",
              "751  1                   Material only       Auto       No         \n",
              "752  1                   Material only       Auto       No         \n",
              "753  1                   Material and injury Auto       No         \n",
              "754  1                   Injury only         Auto       No         \n",
              "755  1                   Material and injury Auto       No         \n",
              "756  1                   Material only       Auto       No         \n",
              "757  1                   Injury only         Auto       No         \n",
              "758  1                   Material only       Auto       No         \n",
              "759  1                   Injury only         Auto       No         \n",
              "760  3                   Material only       Auto       No         \n",
              "761  1                   Injury only         Auto       No         \n",
              "762  3                   Injury only         Auto       No         \n",
              "763  1                   Injury only         Auto       No         \n",
              "764  1                   Material only       Auto       No         \n",
              "765  1                   Material only       Auto       No         \n",
              "766  1                   Material only       Auto       No         \n",
              "767  5                   Material only       Auto       No         \n",
              "768  1                   Material only       Auto       No         \n",
              "769  1                   Material only       Auto       No         \n",
              "...  ...                 ...                 ...        ...        \n",
              "1067 3                   Material only       Auto       No         \n",
              "1068 5                   Material only       Auto       No         \n",
              "1070 2                   Material only       Home       No         \n",
              "1071 1                   Material only       Auto       No         \n",
              "1072 1                   Material only       Auto       No         \n",
              "1073 1                   Injury only         Home       No         \n",
              "1074 3                   Material only       Auto       No         \n",
              "1075 2                   Injury only         Auto       No         \n",
              "1076 1                   Material only       Auto       No         \n",
              "1077 3                   Material only       Home       No         \n",
              "1078 1                   Material only       Auto       No         \n",
              "1079 3                   Material only       Auto       No         \n",
              "1080 1                   Material only       Auto       No         \n",
              "1081 1                   Material only       Auto       No         \n",
              "1082 1                   Material only       Home       No         \n",
              "1083 2                   Injury only         Auto       No         \n",
              "1084 4                   Material only       Auto       No         \n",
              "1085 1                   Material only       Auto       No         \n",
              "1086 1                   Material only       Auto       No         \n",
              "1087 1                   Material only       Auto       No         \n",
              "1088 1                   Injury only         Auto       No         \n",
              "1089 1                   Material only       Auto       No         \n",
              "1090 4                   Material only       Auto       No         \n",
              "1091 1                   Material only       Auto       No         \n",
              "1092 3                   Material only       Auto       No         \n",
              "1093 1                   Material only       Auto       No         \n",
              "1094 3                   Material only       Auto       No         \n",
              "1095 1                   Material and injury Auto       No         \n",
              "1096 4                   Material only       Auto       No         \n",
              "1097 2                   Material only       Auto       No         \n",
              "     incident_cause    \n",
              "740  Driver error      \n",
              "741  Other driver error\n",
              "742  Other causes      \n",
              "743  Driver error      \n",
              "744  Natural causes    \n",
              "745  Other driver error\n",
              "746  Other driver error\n",
              "747  Other driver error\n",
              "748  Driver error      \n",
              "749  Other causes      \n",
              "750  Natural causes    \n",
              "751  Crime             \n",
              "752  Driver error      \n",
              "753  Other driver error\n",
              "754  Crime             \n",
              "755  Other causes      \n",
              "756  Natural causes    \n",
              "757  Other driver error\n",
              "758  Crime             \n",
              "759  Driver error      \n",
              "760  Other driver error\n",
              "761  Other causes      \n",
              "762  Crime             \n",
              "763  Driver error      \n",
              "764  Other causes      \n",
              "765  Other driver error\n",
              "766  Driver error      \n",
              "767  Other causes      \n",
              "768  Natural causes    \n",
              "769  Crime             \n",
              "...  ...               \n",
              "1067 Other causes      \n",
              "1068 Natural causes    \n",
              "1070 Other driver error\n",
              "1071 Other causes      \n",
              "1072 Natural causes    \n",
              "1073 Other causes      \n",
              "1074 Driver error      \n",
              "1075 Driver error      \n",
              "1076 Driver error      \n",
              "1077 Crime             \n",
              "1078 Natural causes    \n",
              "1079 Driver error      \n",
              "1080 Other causes      \n",
              "1081 Other driver error\n",
              "1082 Other causes      \n",
              "1083 Other driver error\n",
              "1084 Other driver error\n",
              "1085 Natural causes    \n",
              "1086 Other causes      \n",
              "1087 Natural causes    \n",
              "1088 Driver error      \n",
              "1089 Other causes      \n",
              "1090 Natural causes    \n",
              "1091 Other driver error\n",
              "1092 Crime             \n",
              "1093 Crime             \n",
              "1094 Other causes      \n",
              "1095 Other causes      \n",
              "1096 Other driver error\n",
              "1097 Natural causes    "
            ]
          },
          "metadata": {},
          "output_type": "display_data"
        }
      ],
      "source": [
        "fraudes_ET$Prediction1 <- test_tree1\n",
        "fraudes_ET$Prediction2 <- test_tree2\n",
        "fraudes_ET$Prediction3 <- test_tree3\n",
        "sample(fraudes_ET, 10)"
      ]
    },
    {
      "cell_type": "code",
      "execution_count": 58,
      "metadata": {
        "vscode": {
          "languageId": "r"
        }
      },
      "outputs": [
        {
          "data": {
            "text/html": [
              "31.6455696202532"
            ],
            "text/latex": [
              "31.6455696202532"
            ],
            "text/markdown": [
              "31.6455696202532"
            ],
            "text/plain": [
              "[1] 31.64557"
            ]
          },
          "metadata": {},
          "output_type": "display_data"
        },
        {
          "data": {
            "text/html": [
              "22.7848101265823"
            ],
            "text/latex": [
              "22.7848101265823"
            ],
            "text/markdown": [
              "22.7848101265823"
            ],
            "text/plain": [
              "[1] 22.78481"
            ]
          },
          "metadata": {},
          "output_type": "display_data"
        },
        {
          "data": {
            "text/html": [
              "0"
            ],
            "text/latex": [
              "0"
            ],
            "text/markdown": [
              "0"
            ],
            "text/plain": [
              "[1] 0"
            ]
          },
          "metadata": {},
          "output_type": "display_data"
        }
      ],
      "source": [
        "# Success rate\n",
        "\n",
        "nbr_success <- nrow(fraudes_ET[fraudes_ET$fraudulent=='Yes' & fraudes_ET$Prediction1=='Yes', ])\n",
        "taux_success1 = nbr_success/nrow(fraudes_ET[fraudes_ET$fraudulent=='Yes',])*100\n",
        "taux_success1\n",
        "\n",
        "nbr_success <- nrow(fraudes_ET[fraudes_ET$fraudulent=='Yes' & fraudes_ET$Prediction2=='Yes', ])\n",
        "taux_success2 = nbr_success/nrow(fraudes_ET[fraudes_ET$fraudulent=='Yes',])*100\n",
        "taux_success2\n",
        "\n",
        "nbr_success <- nrow(fraudes_ET[fraudes_ET$fraudulent=='Yes' & fraudes_ET$Prediction3=='Yes', ])\n",
        "taux_success3 = nbr_success/nrow(fraudes_ET[fraudes_ET$fraudulent=='Yes',])*100\n",
        "taux_success3"
      ]
    },
    {
      "cell_type": "markdown",
      "metadata": {},
      "source": [
        "### Analyse avec les features pertinentes (TODO)"
      ]
    },
    {
      "cell_type": "code",
      "execution_count": 59,
      "metadata": {
        "vscode": {
          "languageId": "r"
        }
      },
      "outputs": [],
      "source": [
        "# On essaye de réaliser l'arbre avec les features que nous avons trouvé pertinentes\n",
        "featuresPertinentes <- c('age', 'claim_amount', 'days_to_incident', 'police_report', 'total_policy_claims', 'fraudulent')\n",
        "\n",
        "\n",
        "# First 400 rows (2/3) apprentissage\n",
        "fraudesP_EA <- fraudes[1:400,featuresPertinentes]\n",
        "\n",
        "# Last 200 rows (1/3) test\n",
        "fraudesP_ET <- fraudes[401:600,featuresPertinentes]"
      ]
    },
    {
      "cell_type": "markdown",
      "metadata": {},
      "source": [
        "## Choix du classifieur le plus performant"
      ]
    },
    {
      "cell_type": "markdown",
      "metadata": {},
      "source": [
        "## Application du classifieur aux données à prédire"
      ]
    },
    {
      "cell_type": "markdown",
      "metadata": {},
      "source": [
        "/!\\ Il y a (logiquement) beaucoup plus de No que de Yes, vérifier si on ne doit pas corriger ça (mieux répatir...)"
      ]
    }
  ],
  "metadata": {
    "kernel_info": {
      "name": "ir"
    },
    "kernelspec": {
      "display_name": "R",
      "language": "R",
      "name": "ir"
    },
    "language_info": {
      "codemirror_mode": "r",
      "file_extension": ".r",
      "mimetype": "text/x-r-source",
      "name": "R",
      "pygments_lexer": "r",
      "version": "3.6.3"
    },
    "nteract": {
      "version": "nteract-front-end@1.0.0"
    },
    "orig_nbformat": 4
  },
  "nbformat": 4,
  "nbformat_minor": 2
}
