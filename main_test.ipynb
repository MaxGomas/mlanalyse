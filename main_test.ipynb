{
  "cells": [
    {
      "cell_type": "markdown",
      "metadata": {},
      "source": [
        "# Projet d'analyse de fraude\n",
        "\n",
        "Par Théo DESLAGE et Maximilien GOMAS"
      ]
    },
    {
      "cell_type": "markdown",
      "metadata": {},
      "source": [
        "## Exploration et visualisation des données\n",
        "\n",
        "On peut constater que les données sont divisées en deux ensembles :\n",
        "- Le premier, labelisé, servira à l'apprentissage supervisé (Entrainement et test)\n",
        "- Le second, inconnu, représente une situation réelle dans laquelle nous devrons prédire à l'aide de notre modèle\n",
        "\n",
        "Chargeons les données"
      ]
    },
    {
      "cell_type": "code",
      "execution_count": 77,
      "metadata": {
        "vscode": {
          "languageId": "r"
        }
      },
      "outputs": [
        {
          "data": {
            "text/html": [
              "<table class=\"dataframe\">\n",
              "<caption>A data.frame: 6 × 12</caption>\n",
              "<thead>\n",
              "\t<tr><th></th><th scope=col>claim_id</th><th scope=col>customer_id</th><th scope=col>age</th><th scope=col>gender</th><th scope=col>incident_cause</th><th scope=col>days_to_incident</th><th scope=col>claim_area</th><th scope=col>police_report</th><th scope=col>claim_type</th><th scope=col>claim_amount</th><th scope=col>total_policy_claims</th><th scope=col>fraudulent</th></tr>\n",
              "\t<tr><th></th><th scope=col>&lt;int&gt;</th><th scope=col>&lt;int&gt;</th><th scope=col>&lt;int&gt;</th><th scope=col>&lt;fct&gt;</th><th scope=col>&lt;fct&gt;</th><th scope=col>&lt;int&gt;</th><th scope=col>&lt;fct&gt;</th><th scope=col>&lt;fct&gt;</th><th scope=col>&lt;fct&gt;</th><th scope=col>&lt;dbl&gt;</th><th scope=col>&lt;int&gt;</th><th scope=col>&lt;fct&gt;</th></tr>\n",
              "</thead>\n",
              "<tbody>\n",
              "\t<tr><th scope=row>1</th><td>54004764</td><td>21868593</td><td>32</td><td>Female</td><td>Driver error      </td><td>  225</td><td>Auto</td><td>No     </td><td>Material only</td><td> 2980.0</td><td>1</td><td>No </td></tr>\n",
              "\t<tr><th scope=row>2</th><td>33985796</td><td>75740424</td><td>60</td><td>Female</td><td>Crime             </td><td>11874</td><td>Home</td><td>Unknown</td><td>Material only</td><td> 2980.0</td><td>3</td><td>No </td></tr>\n",
              "\t<tr><th scope=row>3</th><td>53522022</td><td>30308357</td><td>27</td><td>Female</td><td>Other driver error</td><td>    4</td><td>Auto</td><td>No     </td><td>Material only</td><td> 3369.5</td><td>1</td><td>Yes</td></tr>\n",
              "\t<tr><th scope=row>4</th><td>13015401</td><td>47830476</td><td>39</td><td>Female</td><td>Natural causes    </td><td> 5278</td><td>Auto</td><td>No     </td><td>Material only</td><td> 1680.0</td><td>1</td><td>No </td></tr>\n",
              "\t<tr><th scope=row>5</th><td>22890252</td><td>19269962</td><td>47</td><td>Male  </td><td>Crime             </td><td> 2335</td><td>Auto</td><td>No     </td><td>Material only</td><td> 2680.0</td><td>1</td><td>No </td></tr>\n",
              "\t<tr><th scope=row>6</th><td>24050443</td><td>21831191</td><td>36</td><td>Male  </td><td>Other driver error</td><td> 2116</td><td>Auto</td><td>No     </td><td>Injury only  </td><td>38306.5</td><td>3</td><td>Yes</td></tr>\n",
              "</tbody>\n",
              "</table>\n"
            ],
            "text/latex": [
              "A data.frame: 6 × 12\n",
              "\\begin{tabular}{r|llllllllllll}\n",
              "  & claim\\_id & customer\\_id & age & gender & incident\\_cause & days\\_to\\_incident & claim\\_area & police\\_report & claim\\_type & claim\\_amount & total\\_policy\\_claims & fraudulent\\\\\n",
              "  & <int> & <int> & <int> & <fct> & <fct> & <int> & <fct> & <fct> & <fct> & <dbl> & <int> & <fct>\\\\\n",
              "\\hline\n",
              "\t1 & 54004764 & 21868593 & 32 & Female & Driver error       &   225 & Auto & No      & Material only &  2980.0 & 1 & No \\\\\n",
              "\t2 & 33985796 & 75740424 & 60 & Female & Crime              & 11874 & Home & Unknown & Material only &  2980.0 & 3 & No \\\\\n",
              "\t3 & 53522022 & 30308357 & 27 & Female & Other driver error &     4 & Auto & No      & Material only &  3369.5 & 1 & Yes\\\\\n",
              "\t4 & 13015401 & 47830476 & 39 & Female & Natural causes     &  5278 & Auto & No      & Material only &  1680.0 & 1 & No \\\\\n",
              "\t5 & 22890252 & 19269962 & 47 & Male   & Crime              &  2335 & Auto & No      & Material only &  2680.0 & 1 & No \\\\\n",
              "\t6 & 24050443 & 21831191 & 36 & Male   & Other driver error &  2116 & Auto & No      & Injury only   & 38306.5 & 3 & Yes\\\\\n",
              "\\end{tabular}\n"
            ],
            "text/markdown": [
              "\n",
              "A data.frame: 6 × 12\n",
              "\n",
              "| <!--/--> | claim_id &lt;int&gt; | customer_id &lt;int&gt; | age &lt;int&gt; | gender &lt;fct&gt; | incident_cause &lt;fct&gt; | days_to_incident &lt;int&gt; | claim_area &lt;fct&gt; | police_report &lt;fct&gt; | claim_type &lt;fct&gt; | claim_amount &lt;dbl&gt; | total_policy_claims &lt;int&gt; | fraudulent &lt;fct&gt; |\n",
              "|---|---|---|---|---|---|---|---|---|---|---|---|---|\n",
              "| 1 | 54004764 | 21868593 | 32 | Female | Driver error       |   225 | Auto | No      | Material only |  2980.0 | 1 | No  |\n",
              "| 2 | 33985796 | 75740424 | 60 | Female | Crime              | 11874 | Home | Unknown | Material only |  2980.0 | 3 | No  |\n",
              "| 3 | 53522022 | 30308357 | 27 | Female | Other driver error |     4 | Auto | No      | Material only |  3369.5 | 1 | Yes |\n",
              "| 4 | 13015401 | 47830476 | 39 | Female | Natural causes     |  5278 | Auto | No      | Material only |  1680.0 | 1 | No  |\n",
              "| 5 | 22890252 | 19269962 | 47 | Male   | Crime              |  2335 | Auto | No      | Material only |  2680.0 | 1 | No  |\n",
              "| 6 | 24050443 | 21831191 | 36 | Male   | Other driver error |  2116 | Auto | No      | Injury only   | 38306.5 | 3 | Yes |\n",
              "\n"
            ],
            "text/plain": [
              "  claim_id customer_id age gender incident_cause     days_to_incident\n",
              "1 54004764 21868593    32  Female Driver error         225           \n",
              "2 33985796 75740424    60  Female Crime              11874           \n",
              "3 53522022 30308357    27  Female Other driver error     4           \n",
              "4 13015401 47830476    39  Female Natural causes      5278           \n",
              "5 22890252 19269962    47  Male   Crime               2335           \n",
              "6 24050443 21831191    36  Male   Other driver error  2116           \n",
              "  claim_area police_report claim_type    claim_amount total_policy_claims\n",
              "1 Auto       No            Material only  2980.0      1                  \n",
              "2 Home       Unknown       Material only  2980.0      3                  \n",
              "3 Auto       No            Material only  3369.5      1                  \n",
              "4 Auto       No            Material only  1680.0      1                  \n",
              "5 Auto       No            Material only  2680.0      1                  \n",
              "6 Auto       No            Injury only   38306.5      3                  \n",
              "  fraudulent\n",
              "1 No        \n",
              "2 No        \n",
              "3 Yes       \n",
              "4 No        \n",
              "5 No        \n",
              "6 Yes       "
            ]
          },
          "metadata": {},
          "output_type": "display_data"
        }
      ],
      "source": [
        "fraudes <- read.csv(\"./data/Data_Projet_1.csv\", header = TRUE, sep = \",\", dec = \".\", stringsAsFactors = TRUE)\n",
        "head(fraudes)"
      ]
    },
    {
      "cell_type": "markdown",
      "metadata": {},
      "source": [
        "Nous allons maintenant explorer les données et comprendre quelles features sont déterminantes pour la prédiction de la fraude."
      ]
    },
    {
      "cell_type": "markdown",
      "metadata": {},
      "source": [
        "### Summary pour se donner une vue globale"
      ]
    },
    {
      "cell_type": "code",
      "execution_count": 78,
      "metadata": {
        "vscode": {
          "languageId": "r"
        }
      },
      "outputs": [
        {
          "data": {
            "text/plain": [
              "    claim_id         customer_id            age          gender   \n",
              " Min.   :   26832   Min.   :  154557   Min.   :18.0   Female:541  \n",
              " 1st Qu.:23815805   1st Qu.:26791756   1st Qu.:33.0   Male  :559  \n",
              " Median :48539331   Median :49855152   Median :47.0               \n",
              " Mean   :48838190   Mean   :50874698   Mean   :47.8               \n",
              " 3rd Qu.:74074466   3rd Qu.:75949511   3rd Qu.:63.0               \n",
              " Max.   :99775483   Max.   :99961993   Max.   :79.0               \n",
              "            incident_cause days_to_incident  claim_area police_report\n",
              " Crime             :110    Min.   :    2.0   Auto:985   No     :630  \n",
              " Driver error      :262    1st Qu.:  635.5   Home:115   Unknown:300  \n",
              " Natural causes    :189    Median : 2042.5              Yes    :170  \n",
              " Other causes      :290    Mean   : 2814.1                           \n",
              " Other driver error:249    3rd Qu.: 4153.5                           \n",
              "                           Max.   :14991.0                           \n",
              "               claim_type   claim_amount   total_policy_claims fraudulent\n",
              " Injury only        :196   Min.   : 1000   Min.   :1.000       No :846   \n",
              " Material and injury:241   1st Qu.: 1880   1st Qu.:1.000       Yes:254   \n",
              " Material only      :663   Median : 2750   Median :1.000                 \n",
              "                           Mean   :12318   Mean   :1.596                 \n",
              "                           3rd Qu.:23965   3rd Qu.:2.000                 \n",
              "                           Max.   :48151   Max.   :8.000                 "
            ]
          },
          "metadata": {},
          "output_type": "display_data"
        }
      ],
      "source": [
        "summary(fraudes)"
      ]
    },
    {
      "cell_type": "code",
      "execution_count": 79,
      "metadata": {
        "vscode": {
          "languageId": "r"
        }
      },
      "outputs": [
        {
          "data": {
            "text/plain": [
              "\n",
              " No Yes \n",
              "846 254 "
            ]
          },
          "metadata": {},
          "output_type": "display_data"
        }
      ],
      "source": [
        "table(fraudes$fraudulent)"
      ]
    },
    {
      "cell_type": "markdown",
      "metadata": {},
      "source": [
        "On se rend compte que les fraudes sont très minoritaires il va donc falloir travailler sur ce dataset"
      ]
    },
    {
      "cell_type": "markdown",
      "metadata": {},
      "source": [
        "## Pré traitement des données"
      ]
    },
    {
      "cell_type": "markdown",
      "metadata": {},
      "source": [
        "On sait que deux variables ne sont pas pertinentes dans la prédiction, l'ID de la transaction *claim_id* puisqu'il est unique et le numéro d'utilisateur *customer_id*. On pourrait établir un modèle qui prend en compte le *customer_id* pour \"suspecter\" ceux qui ont déjà fraudé. Mais dans ce cas de la détection de nouvelles fraudes l'utilisateur sera très probablement nouveau, il ne faut pas que cela altère le jugement du modèle, qui doit se méfier de tout le monde, sans distinction."
      ]
    },
    {
      "cell_type": "code",
      "execution_count": 80,
      "metadata": {
        "vscode": {
          "languageId": "r"
        }
      },
      "outputs": [
        {
          "data": {
            "text/html": [
              "<table class=\"dataframe\">\n",
              "<caption>A data.frame: 6 × 10</caption>\n",
              "<thead>\n",
              "\t<tr><th></th><th scope=col>age</th><th scope=col>gender</th><th scope=col>incident_cause</th><th scope=col>days_to_incident</th><th scope=col>claim_area</th><th scope=col>police_report</th><th scope=col>claim_type</th><th scope=col>claim_amount</th><th scope=col>total_policy_claims</th><th scope=col>fraudulent</th></tr>\n",
              "\t<tr><th></th><th scope=col>&lt;int&gt;</th><th scope=col>&lt;fct&gt;</th><th scope=col>&lt;fct&gt;</th><th scope=col>&lt;int&gt;</th><th scope=col>&lt;fct&gt;</th><th scope=col>&lt;fct&gt;</th><th scope=col>&lt;fct&gt;</th><th scope=col>&lt;dbl&gt;</th><th scope=col>&lt;int&gt;</th><th scope=col>&lt;fct&gt;</th></tr>\n",
              "</thead>\n",
              "<tbody>\n",
              "\t<tr><th scope=row>1</th><td>32</td><td>Female</td><td>Driver error      </td><td>  225</td><td>Auto</td><td>No     </td><td>Material only</td><td> 2980.0</td><td>1</td><td>No </td></tr>\n",
              "\t<tr><th scope=row>2</th><td>60</td><td>Female</td><td>Crime             </td><td>11874</td><td>Home</td><td>Unknown</td><td>Material only</td><td> 2980.0</td><td>3</td><td>No </td></tr>\n",
              "\t<tr><th scope=row>3</th><td>27</td><td>Female</td><td>Other driver error</td><td>    4</td><td>Auto</td><td>No     </td><td>Material only</td><td> 3369.5</td><td>1</td><td>Yes</td></tr>\n",
              "\t<tr><th scope=row>4</th><td>39</td><td>Female</td><td>Natural causes    </td><td> 5278</td><td>Auto</td><td>No     </td><td>Material only</td><td> 1680.0</td><td>1</td><td>No </td></tr>\n",
              "\t<tr><th scope=row>5</th><td>47</td><td>Male  </td><td>Crime             </td><td> 2335</td><td>Auto</td><td>No     </td><td>Material only</td><td> 2680.0</td><td>1</td><td>No </td></tr>\n",
              "\t<tr><th scope=row>6</th><td>36</td><td>Male  </td><td>Other driver error</td><td> 2116</td><td>Auto</td><td>No     </td><td>Injury only  </td><td>38306.5</td><td>3</td><td>Yes</td></tr>\n",
              "</tbody>\n",
              "</table>\n"
            ],
            "text/latex": [
              "A data.frame: 6 × 10\n",
              "\\begin{tabular}{r|llllllllll}\n",
              "  & age & gender & incident\\_cause & days\\_to\\_incident & claim\\_area & police\\_report & claim\\_type & claim\\_amount & total\\_policy\\_claims & fraudulent\\\\\n",
              "  & <int> & <fct> & <fct> & <int> & <fct> & <fct> & <fct> & <dbl> & <int> & <fct>\\\\\n",
              "\\hline\n",
              "\t1 & 32 & Female & Driver error       &   225 & Auto & No      & Material only &  2980.0 & 1 & No \\\\\n",
              "\t2 & 60 & Female & Crime              & 11874 & Home & Unknown & Material only &  2980.0 & 3 & No \\\\\n",
              "\t3 & 27 & Female & Other driver error &     4 & Auto & No      & Material only &  3369.5 & 1 & Yes\\\\\n",
              "\t4 & 39 & Female & Natural causes     &  5278 & Auto & No      & Material only &  1680.0 & 1 & No \\\\\n",
              "\t5 & 47 & Male   & Crime              &  2335 & Auto & No      & Material only &  2680.0 & 1 & No \\\\\n",
              "\t6 & 36 & Male   & Other driver error &  2116 & Auto & No      & Injury only   & 38306.5 & 3 & Yes\\\\\n",
              "\\end{tabular}\n"
            ],
            "text/markdown": [
              "\n",
              "A data.frame: 6 × 10\n",
              "\n",
              "| <!--/--> | age &lt;int&gt; | gender &lt;fct&gt; | incident_cause &lt;fct&gt; | days_to_incident &lt;int&gt; | claim_area &lt;fct&gt; | police_report &lt;fct&gt; | claim_type &lt;fct&gt; | claim_amount &lt;dbl&gt; | total_policy_claims &lt;int&gt; | fraudulent &lt;fct&gt; |\n",
              "|---|---|---|---|---|---|---|---|---|---|---|\n",
              "| 1 | 32 | Female | Driver error       |   225 | Auto | No      | Material only |  2980.0 | 1 | No  |\n",
              "| 2 | 60 | Female | Crime              | 11874 | Home | Unknown | Material only |  2980.0 | 3 | No  |\n",
              "| 3 | 27 | Female | Other driver error |     4 | Auto | No      | Material only |  3369.5 | 1 | Yes |\n",
              "| 4 | 39 | Female | Natural causes     |  5278 | Auto | No      | Material only |  1680.0 | 1 | No  |\n",
              "| 5 | 47 | Male   | Crime              |  2335 | Auto | No      | Material only |  2680.0 | 1 | No  |\n",
              "| 6 | 36 | Male   | Other driver error |  2116 | Auto | No      | Injury only   | 38306.5 | 3 | Yes |\n",
              "\n"
            ],
            "text/plain": [
              "  age gender incident_cause     days_to_incident claim_area police_report\n",
              "1 32  Female Driver error         225            Auto       No           \n",
              "2 60  Female Crime              11874            Home       Unknown      \n",
              "3 27  Female Other driver error     4            Auto       No           \n",
              "4 39  Female Natural causes      5278            Auto       No           \n",
              "5 47  Male   Crime               2335            Auto       No           \n",
              "6 36  Male   Other driver error  2116            Auto       No           \n",
              "  claim_type    claim_amount total_policy_claims fraudulent\n",
              "1 Material only  2980.0      1                   No        \n",
              "2 Material only  2980.0      3                   No        \n",
              "3 Material only  3369.5      1                   Yes       \n",
              "4 Material only  1680.0      1                   No        \n",
              "5 Material only  2680.0      1                   No        \n",
              "6 Injury only   38306.5      3                   Yes       "
            ]
          },
          "metadata": {},
          "output_type": "display_data"
        }
      ],
      "source": [
        "# On filtre selon ce qu'on avait décidé sur le claim_amount\n",
        "fraudes <- fraudes[fraudes$claim_amount<43000,]\n",
        "# On supprime le claim_id et le customer_id\n",
        "fraudes <- fraudes[,-c(1:2)]\n",
        "head(fraudes)"
      ]
    },
    {
      "cell_type": "markdown",
      "metadata": {},
      "source": [
        "### TEST -> Réduire les transactions non frauduleuses"
      ]
    },
    {
      "cell_type": "code",
      "execution_count": 81,
      "metadata": {
        "vscode": {
          "languageId": "r"
        }
      },
      "outputs": [
        {
          "name": "stdout",
          "output_type": "stream",
          "text": [
            "[1] 239\n"
          ]
        },
        {
          "data": {
            "text/plain": [
              "\n",
              " No Yes \n",
              "296 239 "
            ]
          },
          "metadata": {},
          "output_type": "display_data"
        }
      ],
      "source": [
        "# cut x rows\n",
        "\n",
        "dfYes <- fraudes[fraudes$fraudulent=='Yes',]\n",
        "print(nrow(dfYes))\n",
        "dfNo <- fraudes[fraudes$fraudulent=='No',]\n",
        "# Delete some no transactions\n",
        "dfNo <- tail(dfNo, -550)\n",
        "\n",
        "# On fusionne les deux dataframes\n",
        "fraudes <- rbind(dfYes, dfNo)\n",
        "\n",
        "table(fraudes$fraudulent)\n"
      ]
    },
    {
      "cell_type": "code",
      "execution_count": 83,
      "metadata": {
        "vscode": {
          "languageId": "r"
        }
      },
      "outputs": [
        {
          "name": "stdout",
          "output_type": "stream",
          "text": [
            "[1] 535\n",
            "[1] 535\n"
          ]
        }
      ],
      "source": [
        "print(nrow(fraudes))\n",
        "\n",
        "# shuffle to balance fraud yes and no\n",
        "fraudes <- fraudes[sample(1:nrow(fraudes)),]\n",
        "\n",
        "print(nrow(fraudes))"
      ]
    },
    {
      "cell_type": "markdown",
      "metadata": {},
      "source": [
        "## Définition de la méthode d'évaluation des classifieurs\n",
        "\n",
        "Nous allons utiliser les 3 arbres vus en cours (tree, C5.0 et rpart) et nous allons essayer avec toutes les features, puis seulement avec celles que nous pensons pertinentes.\n",
        "\n",
        "fraudes -> toutes\n",
        "\n",
        "fraudesP -> seulement celles pertinentes"
      ]
    },
    {
      "cell_type": "markdown",
      "metadata": {},
      "source": [
        "## Définition des données d'apprentissage et de test"
      ]
    },
    {
      "cell_type": "code",
      "execution_count": 84,
      "metadata": {
        "vscode": {
          "languageId": "r"
        }
      },
      "outputs": [
        {
          "data": {
            "text/plain": [
              "\n",
              " No Yes \n",
              "208 167 "
            ]
          },
          "metadata": {},
          "output_type": "display_data"
        },
        {
          "data": {
            "text/plain": [
              "\n",
              " No Yes \n",
              " 88  72 "
            ]
          },
          "metadata": {},
          "output_type": "display_data"
        }
      ],
      "source": [
        "t <- nrow(fraudes)/3*2\n",
        "max <- nrow(fraudes)\n",
        "\n",
        "# (2/3) apprentissage\n",
        "fraudes_EA <- fraudes[1:375,-1]\n",
        "\n",
        "# (1/3) test\n",
        "fraudes_ET <- fraudes[376:535,-1]\n",
        "\n",
        "table(fraudes_EA$fraudulent)\n",
        "table(fraudes_ET$fraudulent)"
      ]
    },
    {
      "cell_type": "markdown",
      "metadata": {},
      "source": [
        "## Construction et évaluation du classifieur"
      ]
    },
    {
      "cell_type": "markdown",
      "metadata": {},
      "source": [
        "### Analyse avec toutes les features"
      ]
    },
    {
      "cell_type": "code",
      "execution_count": 85,
      "metadata": {
        "vscode": {
          "languageId": "r"
        }
      },
      "outputs": [
        {
          "name": "stdout",
          "output_type": "stream",
          "text": [
            "[1] 375\n"
          ]
        }
      ],
      "source": [
        "library(rpart)\n",
        "library(C50)\n",
        "library(tree)\n",
        "print(nrow(fraudes_EA))"
      ]
    },
    {
      "cell_type": "code",
      "execution_count": 86,
      "metadata": {
        "vscode": {
          "languageId": "r"
        }
      },
      "outputs": [],
      "source": [
        "tree1 <- rpart(fraudulent ~ ., fraudes_EA)\n",
        "tree2 <- C5.0(fraudulent ~ ., fraudes_EA)\n",
        "tree3 <- tree(fraudulent ~ ., fraudes_EA)"
      ]
    },
    {
      "cell_type": "code",
      "execution_count": 87,
      "metadata": {
        "vscode": {
          "languageId": "r"
        }
      },
      "outputs": [
        {
          "data": {
            "image/png": "[encoded data removed]",
            "text/plain": [
              "plot without title"
            ]
          },
          "metadata": {
            "image/png": {
              "height": 420,
              "width": 420
            }
          },
          "output_type": "display_data"
        }
      ],
      "source": [
        "plot(tree1)\n",
        "text(tree1, pretty=0)"
      ]
    },
    {
      "cell_type": "code",
      "execution_count": 92,
      "metadata": {
        "vscode": {
          "languageId": "r"
        }
      },
      "outputs": [],
      "source": [
        "test_tree1 <- predict(tree1, fraudes_ET, type=\"class\")\n",
        "test_tree2 <- predict(tree2, fraudes_ET, type=\"class\")\n",
        "test_tree3 <- predict(tree3, fraudes_ET, type=\"class\")"
      ]
    },
    {
      "cell_type": "markdown",
      "metadata": {},
      "source": [
        "Matrices de confusion"
      ]
    },
    {
      "cell_type": "code",
      "execution_count": 93,
      "metadata": {
        "vscode": {
          "languageId": "r"
        }
      },
      "outputs": [
        {
          "name": "stdout",
          "output_type": "stream",
          "text": [
            "     test_tree1\n",
            "      No Yes\n",
            "  No  52  36\n",
            "  Yes 39  33\n",
            "     test_tree2\n",
            "      No Yes\n",
            "  No  57  31\n",
            "  Yes 37  35\n",
            "     test_tree3\n",
            "      No Yes\n",
            "  No  57  31\n",
            "  Yes 38  34\n"
          ]
        }
      ],
      "source": [
        "mc_tree1 = table(fraudes_ET$fraudulent, test_tree1)\n",
        "mc_tree2 = table(fraudes_ET$fraudulent, test_tree2)\n",
        "mc_tree3 = table(fraudes_ET$fraudulent, test_tree3)\n",
        "print(mc_tree1)\n",
        "print(mc_tree2)\n",
        "print(mc_tree3)"
      ]
    },
    {
      "cell_type": "code",
      "execution_count": 94,
      "metadata": {
        "vscode": {
          "languageId": "r"
        }
      },
      "outputs": [],
      "source": [
        "fraudes_ET$Prediction1 <- test_tree1\n",
        "fraudes_ET$Prediction2 <- test_tree2\n",
        "fraudes_ET$Prediction3 <- test_tree3"
      ]
    },
    {
      "cell_type": "code",
      "execution_count": 95,
      "metadata": {
        "vscode": {
          "languageId": "r"
        }
      },
      "outputs": [
        {
          "data": {
            "text/html": [
              "45.8333333333333"
            ],
            "text/latex": [
              "45.8333333333333"
            ],
            "text/markdown": [
              "45.8333333333333"
            ],
            "text/plain": [
              "[1] 45.83333"
            ]
          },
          "metadata": {},
          "output_type": "display_data"
        },
        {
          "data": {
            "text/html": [
              "48.6111111111111"
            ],
            "text/latex": [
              "48.6111111111111"
            ],
            "text/markdown": [
              "48.6111111111111"
            ],
            "text/plain": [
              "[1] 48.61111"
            ]
          },
          "metadata": {},
          "output_type": "display_data"
        },
        {
          "data": {
            "text/html": [
              "47.2222222222222"
            ],
            "text/latex": [
              "47.2222222222222"
            ],
            "text/markdown": [
              "47.2222222222222"
            ],
            "text/plain": [
              "[1] 47.22222"
            ]
          },
          "metadata": {},
          "output_type": "display_data"
        }
      ],
      "source": [
        "# Success rate\n",
        "\n",
        "nbr_success <- nrow(fraudes_ET[fraudes_ET$fraudulent=='Yes' & fraudes_ET$Prediction1=='Yes', ])\n",
        "taux_success1 = nbr_success/nrow(fraudes_ET[fraudes_ET$fraudulent=='Yes',])*100\n",
        "taux_success1\n",
        "\n",
        "nbr_success <- nrow(fraudes_ET[fraudes_ET$fraudulent=='Yes' & fraudes_ET$Prediction2=='Yes', ])\n",
        "taux_success2 = nbr_success/nrow(fraudes_ET[fraudes_ET$fraudulent=='Yes',])*100\n",
        "taux_success2\n",
        "\n",
        "nbr_success <- nrow(fraudes_ET[fraudes_ET$fraudulent=='Yes' & fraudes_ET$Prediction3=='Yes', ])\n",
        "taux_success3 = nbr_success/nrow(fraudes_ET[fraudes_ET$fraudulent=='Yes',])*100\n",
        "taux_success3"
      ]
    },
    {
      "cell_type": "markdown",
      "metadata": {},
      "source": [
        "## Choix du classifieur le plus performant"
      ]
    },
    {
      "cell_type": "markdown",
      "metadata": {},
      "source": [
        "## Application du classifieur aux données à prédire"
      ]
    },
    {
      "cell_type": "markdown",
      "metadata": {},
      "source": [
        "/!\\ Il y a (logiquement) beaucoup plus de No que de Yes, vérifier si on ne doit pas corriger ça (mieux répatir...)"
      ]
    }
  ],
  "metadata": {
    "kernel_info": {
      "name": "ir"
    },
    "kernelspec": {
      "display_name": "R",
      "language": "R",
      "name": "ir"
    },
    "language_info": {
      "codemirror_mode": "r",
      "file_extension": ".r",
      "mimetype": "text/x-r-source",
      "name": "R",
      "pygments_lexer": "r",
      "version": "3.6.3"
    },
    "nteract": {
      "version": "nteract-front-end@1.0.0"
    },
    "orig_nbformat": 4
  },
  "nbformat": 4,
  "nbformat_minor": 2
}
