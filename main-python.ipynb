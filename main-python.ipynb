{
  "cells": [
    {
      "cell_type": "markdown",
      "metadata": {},
      "source": [
        "# Projet d'analyse de fraude\n",
        "\n",
        "Par Théo DESLAGE et Maximilien GOMAS"
      ]
    },
    {
      "cell_type": "markdown",
      "metadata": {},
      "source": [
        "## Exploration et visualisation des données\n",
        "\n",
        "On peut constater que les données sont divisées en deux ensembles :\n",
        "- Le premier, labelisé, servira à l'apprentissage supervisé (Entrainement et test)\n",
        "- Le second, inconnu, représente une situation réelle dans laquelle nous devrons prédire à l'aide de notre modèle\n",
        "\n",
        "Chargeons les données"
      ]
    },
    {
      "cell_type": "code",
      "execution_count": 20,
      "metadata": {
        "gather": {
          "logged": 1648157449402
        }
      },
      "outputs": [
        {
          "data": {
            "text/html": [
              "<div>\n",
              "<style scoped>\n",
              "    .dataframe tbody tr th:only-of-type {\n",
              "        vertical-align: middle;\n",
              "    }\n",
              "\n",
              "    .dataframe tbody tr th {\n",
              "        vertical-align: top;\n",
              "    }\n",
              "\n",
              "    .dataframe thead th {\n",
              "        text-align: right;\n",
              "    }\n",
              "</style>\n",
              "<table border=\"1\" class=\"dataframe\">\n",
              "  <thead>\n",
              "    <tr style=\"text-align: right;\">\n",
              "      <th></th>\n",
              "      <th>claim_id</th>\n",
              "      <th>customer_id</th>\n",
              "      <th>age</th>\n",
              "      <th>gender</th>\n",
              "      <th>incident_cause</th>\n",
              "      <th>days_to_incident</th>\n",
              "      <th>claim_area</th>\n",
              "      <th>police_report</th>\n",
              "      <th>claim_type</th>\n",
              "      <th>claim_amount</th>\n",
              "      <th>total_policy_claims</th>\n",
              "      <th>fraudulent</th>\n",
              "    </tr>\n",
              "  </thead>\n",
              "  <tbody>\n",
              "    <tr>\n",
              "      <th>431</th>\n",
              "      <td>49818123</td>\n",
              "      <td>23116437</td>\n",
              "      <td>58</td>\n",
              "      <td>Female</td>\n",
              "      <td>Other driver error</td>\n",
              "      <td>1375</td>\n",
              "      <td>Auto</td>\n",
              "      <td>No</td>\n",
              "      <td>Material only</td>\n",
              "      <td>1280.0</td>\n",
              "      <td>1</td>\n",
              "      <td>No</td>\n",
              "    </tr>\n",
              "    <tr>\n",
              "      <th>426</th>\n",
              "      <td>22577147</td>\n",
              "      <td>66433138</td>\n",
              "      <td>21</td>\n",
              "      <td>Male</td>\n",
              "      <td>Driver error</td>\n",
              "      <td>130</td>\n",
              "      <td>Auto</td>\n",
              "      <td>No</td>\n",
              "      <td>Material and injury</td>\n",
              "      <td>21447.5</td>\n",
              "      <td>2</td>\n",
              "      <td>Yes</td>\n",
              "    </tr>\n",
              "    <tr>\n",
              "      <th>857</th>\n",
              "      <td>61586929</td>\n",
              "      <td>9339845</td>\n",
              "      <td>42</td>\n",
              "      <td>Male</td>\n",
              "      <td>Driver error</td>\n",
              "      <td>6081</td>\n",
              "      <td>Auto</td>\n",
              "      <td>No</td>\n",
              "      <td>Material only</td>\n",
              "      <td>2850.0</td>\n",
              "      <td>1</td>\n",
              "      <td>No</td>\n",
              "    </tr>\n",
              "    <tr>\n",
              "      <th>654</th>\n",
              "      <td>93183406</td>\n",
              "      <td>89279737</td>\n",
              "      <td>76</td>\n",
              "      <td>Female</td>\n",
              "      <td>Driver error</td>\n",
              "      <td>5182</td>\n",
              "      <td>Auto</td>\n",
              "      <td>No</td>\n",
              "      <td>Material and injury</td>\n",
              "      <td>21920.0</td>\n",
              "      <td>1</td>\n",
              "      <td>No</td>\n",
              "    </tr>\n",
              "    <tr>\n",
              "      <th>697</th>\n",
              "      <td>32178193</td>\n",
              "      <td>86491727</td>\n",
              "      <td>27</td>\n",
              "      <td>Female</td>\n",
              "      <td>Driver error</td>\n",
              "      <td>8</td>\n",
              "      <td>Home</td>\n",
              "      <td>Unknown</td>\n",
              "      <td>Material only</td>\n",
              "      <td>1860.0</td>\n",
              "      <td>1</td>\n",
              "      <td>No</td>\n",
              "    </tr>\n",
              "    <tr>\n",
              "      <th>913</th>\n",
              "      <td>13820212</td>\n",
              "      <td>15323667</td>\n",
              "      <td>72</td>\n",
              "      <td>Female</td>\n",
              "      <td>Driver error</td>\n",
              "      <td>4379</td>\n",
              "      <td>Auto</td>\n",
              "      <td>Unknown</td>\n",
              "      <td>Injury only</td>\n",
              "      <td>15270.0</td>\n",
              "      <td>4</td>\n",
              "      <td>No</td>\n",
              "    </tr>\n",
              "    <tr>\n",
              "      <th>757</th>\n",
              "      <td>46163490</td>\n",
              "      <td>8375366</td>\n",
              "      <td>42</td>\n",
              "      <td>Female</td>\n",
              "      <td>Crime</td>\n",
              "      <td>814</td>\n",
              "      <td>Auto</td>\n",
              "      <td>Unknown</td>\n",
              "      <td>Material only</td>\n",
              "      <td>2110.0</td>\n",
              "      <td>1</td>\n",
              "      <td>No</td>\n",
              "    </tr>\n",
              "    <tr>\n",
              "      <th>310</th>\n",
              "      <td>79752814</td>\n",
              "      <td>76093960</td>\n",
              "      <td>61</td>\n",
              "      <td>Female</td>\n",
              "      <td>Other causes</td>\n",
              "      <td>6778</td>\n",
              "      <td>Auto</td>\n",
              "      <td>Unknown</td>\n",
              "      <td>Material only</td>\n",
              "      <td>2700.0</td>\n",
              "      <td>2</td>\n",
              "      <td>No</td>\n",
              "    </tr>\n",
              "    <tr>\n",
              "      <th>861</th>\n",
              "      <td>78381090</td>\n",
              "      <td>66353946</td>\n",
              "      <td>30</td>\n",
              "      <td>Female</td>\n",
              "      <td>Other driver error</td>\n",
              "      <td>6</td>\n",
              "      <td>Auto</td>\n",
              "      <td>Unknown</td>\n",
              "      <td>Material and injury</td>\n",
              "      <td>26890.0</td>\n",
              "      <td>1</td>\n",
              "      <td>No</td>\n",
              "    </tr>\n",
              "    <tr>\n",
              "      <th>806</th>\n",
              "      <td>38981782</td>\n",
              "      <td>21330507</td>\n",
              "      <td>64</td>\n",
              "      <td>Male</td>\n",
              "      <td>Other causes</td>\n",
              "      <td>459</td>\n",
              "      <td>Home</td>\n",
              "      <td>No</td>\n",
              "      <td>Material only</td>\n",
              "      <td>2390.0</td>\n",
              "      <td>1</td>\n",
              "      <td>No</td>\n",
              "    </tr>\n",
              "  </tbody>\n",
              "</table>\n",
              "</div>"
            ],
            "text/plain": [
              "     claim_id  customer_id  age  gender      incident_cause  days_to_incident  \\\n",
              "431  49818123     23116437   58  Female  Other driver error              1375   \n",
              "426  22577147     66433138   21    Male        Driver error               130   \n",
              "857  61586929      9339845   42    Male        Driver error              6081   \n",
              "654  93183406     89279737   76  Female        Driver error              5182   \n",
              "697  32178193     86491727   27  Female        Driver error                 8   \n",
              "913  13820212     15323667   72  Female        Driver error              4379   \n",
              "757  46163490      8375366   42  Female               Crime               814   \n",
              "310  79752814     76093960   61  Female        Other causes              6778   \n",
              "861  78381090     66353946   30  Female  Other driver error                 6   \n",
              "806  38981782     21330507   64    Male        Other causes               459   \n",
              "\n",
              "    claim_area police_report           claim_type  claim_amount  \\\n",
              "431       Auto            No        Material only        1280.0   \n",
              "426       Auto            No  Material and injury       21447.5   \n",
              "857       Auto            No        Material only        2850.0   \n",
              "654       Auto            No  Material and injury       21920.0   \n",
              "697       Home       Unknown        Material only        1860.0   \n",
              "913       Auto       Unknown          Injury only       15270.0   \n",
              "757       Auto       Unknown        Material only        2110.0   \n",
              "310       Auto       Unknown        Material only        2700.0   \n",
              "861       Auto       Unknown  Material and injury       26890.0   \n",
              "806       Home            No        Material only        2390.0   \n",
              "\n",
              "    total_policy_claims fraudulent  \n",
              "431                   1         No  \n",
              "426                   2        Yes  \n",
              "857                   1         No  \n",
              "654                   1         No  \n",
              "697                   1         No  \n",
              "913                   4         No  \n",
              "757                   1         No  \n",
              "310                   2         No  \n",
              "861                   1         No  \n",
              "806                   1         No  "
            ]
          },
          "execution_count": 20,
          "metadata": {},
          "output_type": "execute_result"
        }
      ],
      "source": [
        "import pandas as pd\n",
        "\n",
        "# load the training dataset\n",
        "data = pd.read_csv('data/Data_Projet_1.csv')\n",
        "data['gender'] = data['gender'].astype('category')\n",
        "data['incident_cause'] = data['incident_cause'].astype('category')\n",
        "data['claim_area'] = data['claim_area'].astype('category')\n",
        "data['fraudulent'] = data['fraudulent'].astype('category')\n",
        "data['claim_area'] = data['claim_area'].astype('category')\n",
        "data['total_policy_claims'] = data['total_policy_claims'].astype('category')\n",
        "data['police_report'] = data['police_report'].astype('category')\n",
        "data['claim_type'] = data['claim_type'].astype('category')\n",
        "sample = data.sample(10)\n",
        "sample"
      ]
    },
    {
      "cell_type": "markdown",
      "metadata": {
        "nteract": {
          "transient": {
            "deleting": false
          }
        }
      },
      "source": [
        "Sample data is a better way to see random data (sometimes head is not representative)"
      ]
    },
    {
      "cell_type": "code",
      "execution_count": 21,
      "metadata": {
        "gather": {
          "logged": 1648156821128
        },
        "jupyter": {
          "outputs_hidden": false,
          "source_hidden": false
        },
        "nteract": {
          "transient": {
            "deleting": false
          }
        }
      },
      "outputs": [
        {
          "name": "stdout",
          "output_type": "stream",
          "text": [
            "claim_id                  int64\n",
            "customer_id               int64\n",
            "age                       int64\n",
            "gender                 category\n",
            "incident_cause         category\n",
            "days_to_incident          int64\n",
            "claim_area             category\n",
            "police_report          category\n",
            "claim_type             category\n",
            "claim_amount            float64\n",
            "total_policy_claims    category\n",
            "fraudulent             category\n",
            "dtype: object\n"
          ]
        }
      ],
      "source": [
        "print(data.dtypes)"
      ]
    },
    {
      "cell_type": "markdown",
      "metadata": {},
      "source": [
        "## Pré traitement des données"
      ]
    },
    {
      "cell_type": "markdown",
      "metadata": {
        "nteract": {
          "transient": {
            "deleting": false
          }
        }
      },
      "source": [
        "On commence par scale les données (entre 0 et 1), les modèles de deep learning fonctionnent mieux ainsi\n",
        "- age\n",
        "- days to incident\n",
        "- claim_amount\n",
        "- total policy claim"
      ]
    },
    {
      "cell_type": "code",
      "execution_count": 22,
      "metadata": {
        "gather": {
          "logged": 1648156824279
        },
        "jupyter": {
          "outputs_hidden": false,
          "source_hidden": false
        },
        "nteract": {
          "transient": {
            "deleting": false
          }
        }
      },
      "outputs": [
        {
          "data": {
            "text/html": [
              "<div>\n",
              "<style scoped>\n",
              "    .dataframe tbody tr th:only-of-type {\n",
              "        vertical-align: middle;\n",
              "    }\n",
              "\n",
              "    .dataframe tbody tr th {\n",
              "        vertical-align: top;\n",
              "    }\n",
              "\n",
              "    .dataframe thead th {\n",
              "        text-align: right;\n",
              "    }\n",
              "</style>\n",
              "<table border=\"1\" class=\"dataframe\">\n",
              "  <thead>\n",
              "    <tr style=\"text-align: right;\">\n",
              "      <th></th>\n",
              "      <th>claim_id</th>\n",
              "      <th>customer_id</th>\n",
              "      <th>age</th>\n",
              "      <th>days_to_incident</th>\n",
              "      <th>claim_amount</th>\n",
              "    </tr>\n",
              "  </thead>\n",
              "  <tbody>\n",
              "    <tr>\n",
              "      <th>count</th>\n",
              "      <td>1.100000e+03</td>\n",
              "      <td>1.100000e+03</td>\n",
              "      <td>1100.000000</td>\n",
              "      <td>1100.000000</td>\n",
              "      <td>1100.000000</td>\n",
              "    </tr>\n",
              "    <tr>\n",
              "      <th>mean</th>\n",
              "      <td>4.883819e+07</td>\n",
              "      <td>5.087470e+07</td>\n",
              "      <td>47.797273</td>\n",
              "      <td>2814.124545</td>\n",
              "      <td>12317.582273</td>\n",
              "    </tr>\n",
              "    <tr>\n",
              "      <th>std</th>\n",
              "      <td>2.918806e+07</td>\n",
              "      <td>2.846102e+07</td>\n",
              "      <td>17.628400</td>\n",
              "      <td>2784.765937</td>\n",
              "      <td>13687.814171</td>\n",
              "    </tr>\n",
              "    <tr>\n",
              "      <th>min</th>\n",
              "      <td>2.683200e+04</td>\n",
              "      <td>1.545570e+05</td>\n",
              "      <td>18.000000</td>\n",
              "      <td>2.000000</td>\n",
              "      <td>1000.000000</td>\n",
              "    </tr>\n",
              "    <tr>\n",
              "      <th>25%</th>\n",
              "      <td>2.381580e+07</td>\n",
              "      <td>2.679176e+07</td>\n",
              "      <td>33.000000</td>\n",
              "      <td>635.500000</td>\n",
              "      <td>1880.000000</td>\n",
              "    </tr>\n",
              "    <tr>\n",
              "      <th>50%</th>\n",
              "      <td>4.853933e+07</td>\n",
              "      <td>4.985515e+07</td>\n",
              "      <td>47.000000</td>\n",
              "      <td>2042.500000</td>\n",
              "      <td>2750.000000</td>\n",
              "    </tr>\n",
              "    <tr>\n",
              "      <th>75%</th>\n",
              "      <td>7.407447e+07</td>\n",
              "      <td>7.594951e+07</td>\n",
              "      <td>63.000000</td>\n",
              "      <td>4153.500000</td>\n",
              "      <td>23965.000000</td>\n",
              "    </tr>\n",
              "    <tr>\n",
              "      <th>max</th>\n",
              "      <td>9.977548e+07</td>\n",
              "      <td>9.996199e+07</td>\n",
              "      <td>79.000000</td>\n",
              "      <td>14991.000000</td>\n",
              "      <td>48150.500000</td>\n",
              "    </tr>\n",
              "  </tbody>\n",
              "</table>\n",
              "</div>"
            ],
            "text/plain": [
              "           claim_id   customer_id          age  days_to_incident  claim_amount\n",
              "count  1.100000e+03  1.100000e+03  1100.000000       1100.000000   1100.000000\n",
              "mean   4.883819e+07  5.087470e+07    47.797273       2814.124545  12317.582273\n",
              "std    2.918806e+07  2.846102e+07    17.628400       2784.765937  13687.814171\n",
              "min    2.683200e+04  1.545570e+05    18.000000          2.000000   1000.000000\n",
              "25%    2.381580e+07  2.679176e+07    33.000000        635.500000   1880.000000\n",
              "50%    4.853933e+07  4.985515e+07    47.000000       2042.500000   2750.000000\n",
              "75%    7.407447e+07  7.594951e+07    63.000000       4153.500000  23965.000000\n",
              "max    9.977548e+07  9.996199e+07    79.000000      14991.000000  48150.500000"
            ]
          },
          "execution_count": 22,
          "metadata": {},
          "output_type": "execute_result"
        }
      ],
      "source": [
        "data.describe()"
      ]
    },
    {
      "cell_type": "markdown",
      "metadata": {
        "nteract": {
          "transient": {
            "deleting": false
          }
        }
      },
      "source": [
        "La description des données nous donne des informations intéressantes sur les valeurs numériques.\n",
        "Pour âge on voir que la moyenne est 47 ans. La médianne aussi et il est compris entre 18 et 79 ans. Il semble donc assez bien réparti.\n"
      ]
    },
    {
      "cell_type": "markdown",
      "metadata": {
        "nteract": {
          "transient": {
            "deleting": false
          }
        }
      },
      "source": [
        "# Analyser chaque column par le prisme de la fraude\n",
        "\n",
        "Le but ici va être de regarder chaque colonne et de l'analyser afin de comprendre à quel point elle impact sur le fait que la transaction soit frauduleuse ou non.\n",
        "\n",
        "On analyse en premier les colonne de type \"catégorie\" avant de passer en dessous aux boxplot"
      ]
    },
    {
      "cell_type": "code",
      "execution_count": 23,
      "metadata": {
        "gather": {
          "logged": 1648157699024
        },
        "jupyter": {
          "outputs_hidden": false,
          "source_hidden": false
        },
        "nteract": {
          "transient": {
            "deleting": false
          }
        }
      },
      "outputs": [
        {
          "data": {
            "text/plain": [
              "fraudulent\n",
              "No     AxesSubplot(0.125,0.125;0.775x0.755)\n",
              "Yes    AxesSubplot(0.125,0.125;0.775x0.755)\n",
              "Name: gender, dtype: object"
            ]
          },
          "execution_count": 23,
          "metadata": {},
          "output_type": "execute_result"
        },
        {
          "data": {
            "image/png": "[encoded data removed]",
            "text/plain": [
              "<Figure size 432x288 with 1 Axes>"
            ]
          },
          "metadata": {
            "needs_background": "light"
          },
          "output_type": "display_data"
        }
      ],
      "source": [
        "#Starting with gender\n",
        "data.groupby('fraudulent').gender.hist(stacked=True)"
      ]
    },
    {
      "cell_type": "code",
      "execution_count": 24,
      "metadata": {
        "gather": {
          "logged": 1648158265017
        },
        "jupyter": {
          "outputs_hidden": false,
          "source_hidden": false
        },
        "nteract": {
          "transient": {
            "deleting": false
          }
        }
      },
      "outputs": [
        {
          "data": {
            "text/plain": [
              "fraudulent\n",
              "No     AxesSubplot(0.125,0.125;0.775x0.755)\n",
              "Yes    AxesSubplot(0.125,0.125;0.775x0.755)\n",
              "Name: incident_cause, dtype: object"
            ]
          },
          "execution_count": 24,
          "metadata": {},
          "output_type": "execute_result"
        },
        {
          "data": {
            "image/png": "[encoded data removed]",
            "text/plain": [
              "<Figure size 432x288 with 1 Axes>"
            ]
          },
          "metadata": {
            "needs_background": "light"
          },
          "output_type": "display_data"
        }
      ],
      "source": [
        "data.groupby('fraudulent').incident_cause.hist(stacked=True)"
      ]
    },
    {
      "cell_type": "code",
      "execution_count": 25,
      "metadata": {
        "gather": {
          "logged": 1648158182882
        },
        "jupyter": {
          "outputs_hidden": false,
          "source_hidden": false
        },
        "nteract": {
          "transient": {
            "deleting": false
          }
        }
      },
      "outputs": [
        {
          "data": {
            "text/plain": [
              "fraudulent\n",
              "No     AxesSubplot(0.125,0.125;0.775x0.755)\n",
              "Yes    AxesSubplot(0.125,0.125;0.775x0.755)\n",
              "Name: claim_area, dtype: object"
            ]
          },
          "execution_count": 25,
          "metadata": {},
          "output_type": "execute_result"
        },
        {
          "data": {
            "image/png": "[encoded data removed]",
            "text/plain": [
              "<Figure size 432x288 with 1 Axes>"
            ]
          },
          "metadata": {
            "needs_background": "light"
          },
          "output_type": "display_data"
        }
      ],
      "source": [
        "data.groupby('fraudulent').claim_area.hist(stacked=True)"
      ]
    },
    {
      "cell_type": "code",
      "execution_count": 26,
      "metadata": {},
      "outputs": [
        {
          "data": {
            "text/plain": [
              "fraudulent\n",
              "No     AxesSubplot(0.125,0.125;0.775x0.755)\n",
              "Yes    AxesSubplot(0.125,0.125;0.775x0.755)\n",
              "Name: police_report, dtype: object"
            ]
          },
          "execution_count": 26,
          "metadata": {},
          "output_type": "execute_result"
        },
        {
          "data": {
            "image/png": "[encoded data removed]",
            "text/plain": [
              "<Figure size 432x288 with 1 Axes>"
            ]
          },
          "metadata": {
            "needs_background": "light"
          },
          "output_type": "display_data"
        }
      ],
      "source": [
        "data.groupby('fraudulent').police_report.hist(stacked=True)"
      ]
    },
    {
      "cell_type": "code",
      "execution_count": 27,
      "metadata": {},
      "outputs": [
        {
          "data": {
            "text/plain": [
              "fraudulent\n",
              "No     AxesSubplot(0.125,0.125;0.775x0.755)\n",
              "Yes    AxesSubplot(0.125,0.125;0.775x0.755)\n",
              "Name: claim_type, dtype: object"
            ]
          },
          "execution_count": 27,
          "metadata": {},
          "output_type": "execute_result"
        },
        {
          "data": {
            "image/png": "[encoded data removed]",
            "text/plain": [
              "<Figure size 432x288 with 1 Axes>"
            ]
          },
          "metadata": {
            "needs_background": "light"
          },
          "output_type": "display_data"
        }
      ],
      "source": [
        "data.groupby('fraudulent').claim_type.hist(stacked=True)"
      ]
    },
    {
      "cell_type": "code",
      "execution_count": 28,
      "metadata": {},
      "outputs": [
        {
          "data": {
            "text/plain": [
              "fraudulent\n",
              "No     AxesSubplot(0.125,0.125;0.775x0.755)\n",
              "Yes    AxesSubplot(0.125,0.125;0.775x0.755)\n",
              "Name: total_policy_claims, dtype: object"
            ]
          },
          "execution_count": 28,
          "metadata": {},
          "output_type": "execute_result"
        },
        {
          "data": {
            "image/png": "[encoded data removed]",
            "text/plain": [
              "<Figure size 432x288 with 1 Axes>"
            ]
          },
          "metadata": {
            "needs_background": "light"
          },
          "output_type": "display_data"
        }
      ],
      "source": [
        "data.groupby('fraudulent').total_policy_claims.hist(stacked=True)"
      ]
    },
    {
      "cell_type": "code",
      "execution_count": 29,
      "metadata": {},
      "outputs": [
        {
          "data": {
            "text/plain": [
              "fraudulent\n",
              "No     AxesSubplot(0.125,0.125;0.775x0.755)\n",
              "Yes    AxesSubplot(0.125,0.125;0.775x0.755)\n",
              "Name: claim_amount, dtype: object"
            ]
          },
          "execution_count": 29,
          "metadata": {},
          "output_type": "execute_result"
        },
        {
          "data": {
            "image/png": "[encoded data removed]",
            "text/plain": [
              "<Figure size 432x288 with 1 Axes>"
            ]
          },
          "metadata": {
            "needs_background": "light"
          },
          "output_type": "display_data"
        }
      ],
      "source": [
        "data.groupby('fraudulent').claim_amount.hist(stacked=True)"
      ]
    },
    {
      "cell_type": "code",
      "execution_count": 30,
      "metadata": {},
      "outputs": [
        {
          "data": {
            "text/plain": [
              "fraudulent\n",
              "No     AxesSubplot(0.125,0.125;0.775x0.755)\n",
              "Yes    AxesSubplot(0.125,0.125;0.775x0.755)\n",
              "Name: police_report, dtype: object"
            ]
          },
          "execution_count": 30,
          "metadata": {},
          "output_type": "execute_result"
        },
        {
          "data": {
            "image/png": "[encoded data removed]",
            "text/plain": [
              "<Figure size 432x288 with 1 Axes>"
            ]
          },
          "metadata": {
            "needs_background": "light"
          },
          "output_type": "display_data"
        }
      ],
      "source": [
        "data.groupby('fraudulent').police_report.hist(stacked=True)"
      ]
    },
    {
      "cell_type": "markdown",
      "metadata": {},
      "source": [
        "On conclue que cette donnée sera pertinente dans le modèle, on voit que lorsqu'il y a eu un rapport de police les chances sont grandement diminuées"
      ]
    },
    {
      "cell_type": "code",
      "execution_count": 31,
      "metadata": {
        "gather": {
          "logged": 1648157280371
        },
        "jupyter": {
          "outputs_hidden": false,
          "source_hidden": false
        },
        "nteract": {
          "transient": {
            "deleting": false
          }
        }
      },
      "outputs": [
        {
          "data": {
            "text/plain": [
              "<AxesSubplot:xlabel='fraudulent', ylabel='age'>"
            ]
          },
          "execution_count": 31,
          "metadata": {},
          "output_type": "execute_result"
        },
        {
          "data": {
            "image/png": "[encoded data removed]",
            "text/plain": [
              "<Figure size 432x288 with 1 Axes>"
            ]
          },
          "metadata": {
            "needs_background": "light"
          },
          "output_type": "display_data"
        }
      ],
      "source": [
        "import matplotlib as plt\n",
        "import seaborn as sns\n",
        "\n",
        "sns.boxplot(x='fraudulent', y='age', data=data)"
      ]
    },
    {
      "cell_type": "markdown",
      "metadata": {
        "nteract": {
          "transient": {
            "deleting": false
          }
        }
      },
      "source": [
        "L'âge semble très intéressant on regarde avec l'histogramme pour confirmer que les jeunes semblent bien plus susceptibles de faire des déclarations frauduleuses"
      ]
    },
    {
      "cell_type": "code",
      "execution_count": 32,
      "metadata": {
        "gather": {
          "logged": 1648158299942
        },
        "jupyter": {
          "outputs_hidden": false,
          "source_hidden": false
        },
        "nteract": {
          "transient": {
            "deleting": false
          }
        }
      },
      "outputs": [
        {
          "data": {
            "text/plain": [
              "fraudulent\n",
              "No     AxesSubplot(0.125,0.125;0.775x0.755)\n",
              "Yes    AxesSubplot(0.125,0.125;0.775x0.755)\n",
              "Name: age, dtype: object"
            ]
          },
          "execution_count": 32,
          "metadata": {},
          "output_type": "execute_result"
        },
        {
          "data": {
            "image/png": "[encoded data removed]",
            "text/plain": [
              "<Figure size 432x288 with 1 Axes>"
            ]
          },
          "metadata": {
            "needs_background": "light"
          },
          "output_type": "display_data"
        }
      ],
      "source": [
        "data.groupby('fraudulent').age.hist(stacked=True)"
      ]
    },
    {
      "cell_type": "markdown",
      "metadata": {},
      "source": [
        "Dans le cas d'un arbre de décision, cette feature pourra probablement aller en haut car elle est très déterminante."
      ]
    },
    {
      "cell_type": "markdown",
      "metadata": {
        "nteract": {
          "transient": {
            "deleting": false
          }
        }
      },
      "source": [
        "# Data scaling"
      ]
    },
    {
      "cell_type": "code",
      "execution_count": 33,
      "metadata": {
        "gather": {
          "logged": 1648156483970
        },
        "jupyter": {
          "outputs_hidden": false,
          "source_hidden": false
        },
        "nteract": {
          "transient": {
            "deleting": false
          }
        }
      },
      "outputs": [
        {
          "data": {
            "text/html": [
              "<div>\n",
              "<style scoped>\n",
              "    .dataframe tbody tr th:only-of-type {\n",
              "        vertical-align: middle;\n",
              "    }\n",
              "\n",
              "    .dataframe tbody tr th {\n",
              "        vertical-align: top;\n",
              "    }\n",
              "\n",
              "    .dataframe thead th {\n",
              "        text-align: right;\n",
              "    }\n",
              "</style>\n",
              "<table border=\"1\" class=\"dataframe\">\n",
              "  <thead>\n",
              "    <tr style=\"text-align: right;\">\n",
              "      <th></th>\n",
              "      <th>claim_id</th>\n",
              "      <th>customer_id</th>\n",
              "      <th>age</th>\n",
              "      <th>gender</th>\n",
              "      <th>incident_cause</th>\n",
              "      <th>days_to_incident</th>\n",
              "      <th>claim_area</th>\n",
              "      <th>police_report</th>\n",
              "      <th>claim_type</th>\n",
              "      <th>claim_amount</th>\n",
              "      <th>total_policy_claims</th>\n",
              "      <th>fraudulent</th>\n",
              "    </tr>\n",
              "  </thead>\n",
              "  <tbody>\n",
              "    <tr>\n",
              "      <th>0</th>\n",
              "      <td>54004764</td>\n",
              "      <td>21868593</td>\n",
              "      <td>0.229508</td>\n",
              "      <td>Female</td>\n",
              "      <td>Driver error</td>\n",
              "      <td>0.014878</td>\n",
              "      <td>Auto</td>\n",
              "      <td>No</td>\n",
              "      <td>Material only</td>\n",
              "      <td>0.041993</td>\n",
              "      <td>1</td>\n",
              "      <td>No</td>\n",
              "    </tr>\n",
              "    <tr>\n",
              "      <th>1</th>\n",
              "      <td>33985796</td>\n",
              "      <td>75740424</td>\n",
              "      <td>0.688525</td>\n",
              "      <td>Female</td>\n",
              "      <td>Crime</td>\n",
              "      <td>0.792048</td>\n",
              "      <td>Home</td>\n",
              "      <td>Unknown</td>\n",
              "      <td>Material only</td>\n",
              "      <td>0.041993</td>\n",
              "      <td>3</td>\n",
              "      <td>No</td>\n",
              "    </tr>\n",
              "    <tr>\n",
              "      <th>2</th>\n",
              "      <td>53522022</td>\n",
              "      <td>30308357</td>\n",
              "      <td>0.147541</td>\n",
              "      <td>Female</td>\n",
              "      <td>Other driver error</td>\n",
              "      <td>0.000133</td>\n",
              "      <td>Auto</td>\n",
              "      <td>No</td>\n",
              "      <td>Material only</td>\n",
              "      <td>0.050254</td>\n",
              "      <td>1</td>\n",
              "      <td>Yes</td>\n",
              "    </tr>\n",
              "    <tr>\n",
              "      <th>3</th>\n",
              "      <td>13015401</td>\n",
              "      <td>47830476</td>\n",
              "      <td>0.344262</td>\n",
              "      <td>Female</td>\n",
              "      <td>Natural causes</td>\n",
              "      <td>0.351991</td>\n",
              "      <td>Auto</td>\n",
              "      <td>No</td>\n",
              "      <td>Material only</td>\n",
              "      <td>0.014422</td>\n",
              "      <td>1</td>\n",
              "      <td>No</td>\n",
              "    </tr>\n",
              "    <tr>\n",
              "      <th>4</th>\n",
              "      <td>22890252</td>\n",
              "      <td>19269962</td>\n",
              "      <td>0.475410</td>\n",
              "      <td>Male</td>\n",
              "      <td>Crime</td>\n",
              "      <td>0.155647</td>\n",
              "      <td>Auto</td>\n",
              "      <td>No</td>\n",
              "      <td>Material only</td>\n",
              "      <td>0.035631</td>\n",
              "      <td>1</td>\n",
              "      <td>No</td>\n",
              "    </tr>\n",
              "  </tbody>\n",
              "</table>\n",
              "</div>"
            ],
            "text/plain": [
              "   claim_id  customer_id       age  gender      incident_cause  \\\n",
              "0  54004764     21868593  0.229508  Female        Driver error   \n",
              "1  33985796     75740424  0.688525  Female               Crime   \n",
              "2  53522022     30308357  0.147541  Female  Other driver error   \n",
              "3  13015401     47830476  0.344262  Female      Natural causes   \n",
              "4  22890252     19269962  0.475410    Male               Crime   \n",
              "\n",
              "   days_to_incident claim_area police_report     claim_type  claim_amount  \\\n",
              "0          0.014878       Auto            No  Material only      0.041993   \n",
              "1          0.792048       Home       Unknown  Material only      0.041993   \n",
              "2          0.000133       Auto            No  Material only      0.050254   \n",
              "3          0.351991       Auto            No  Material only      0.014422   \n",
              "4          0.155647       Auto            No  Material only      0.035631   \n",
              "\n",
              "  total_policy_claims fraudulent  \n",
              "0                   1         No  \n",
              "1                   3         No  \n",
              "2                   1        Yes  \n",
              "3                   1         No  \n",
              "4                   1         No  "
            ]
          },
          "execution_count": 33,
          "metadata": {},
          "output_type": "execute_result"
        }
      ],
      "source": [
        "from sklearn.preprocessing import minmax_scale\n",
        "\n",
        "data[['age','days_to_incident', 'claim_amount']] = minmax_scale(data[['age','days_to_incident', 'claim_amount']])\n",
        "\n",
        "data.head()"
      ]
    },
    {
      "cell_type": "code",
      "execution_count": 37,
      "metadata": {
        "gather": {
          "logged": 1648156737907
        },
        "jupyter": {
          "outputs_hidden": false,
          "source_hidden": false
        },
        "nteract": {
          "transient": {
            "deleting": false
          }
        }
      },
      "outputs": [
        {
          "data": {
            "text/html": [
              "<div>\n",
              "<style scoped>\n",
              "    .dataframe tbody tr th:only-of-type {\n",
              "        vertical-align: middle;\n",
              "    }\n",
              "\n",
              "    .dataframe tbody tr th {\n",
              "        vertical-align: top;\n",
              "    }\n",
              "\n",
              "    .dataframe thead th {\n",
              "        text-align: right;\n",
              "    }\n",
              "</style>\n",
              "<table border=\"1\" class=\"dataframe\">\n",
              "  <thead>\n",
              "    <tr style=\"text-align: right;\">\n",
              "      <th></th>\n",
              "      <th>age</th>\n",
              "      <th>days_to_incident</th>\n",
              "      <th>claim_amount</th>\n",
              "    </tr>\n",
              "  </thead>\n",
              "  <tbody>\n",
              "    <tr>\n",
              "      <th>count</th>\n",
              "      <td>1100.000000</td>\n",
              "      <td>1100.000000</td>\n",
              "      <td>1100.000000</td>\n",
              "    </tr>\n",
              "    <tr>\n",
              "      <th>mean</th>\n",
              "      <td>0.488480</td>\n",
              "      <td>0.187613</td>\n",
              "      <td>0.240031</td>\n",
              "    </tr>\n",
              "    <tr>\n",
              "      <th>std</th>\n",
              "      <td>0.288990</td>\n",
              "      <td>0.185787</td>\n",
              "      <td>0.290301</td>\n",
              "    </tr>\n",
              "    <tr>\n",
              "      <th>min</th>\n",
              "      <td>0.000000</td>\n",
              "      <td>0.000000</td>\n",
              "      <td>0.000000</td>\n",
              "    </tr>\n",
              "    <tr>\n",
              "      <th>25%</th>\n",
              "      <td>0.245902</td>\n",
              "      <td>0.042264</td>\n",
              "      <td>0.018664</td>\n",
              "    </tr>\n",
              "    <tr>\n",
              "      <th>50%</th>\n",
              "      <td>0.475410</td>\n",
              "      <td>0.136133</td>\n",
              "      <td>0.037115</td>\n",
              "    </tr>\n",
              "    <tr>\n",
              "      <th>75%</th>\n",
              "      <td>0.737705</td>\n",
              "      <td>0.276970</td>\n",
              "      <td>0.487057</td>\n",
              "    </tr>\n",
              "    <tr>\n",
              "      <th>max</th>\n",
              "      <td>1.000000</td>\n",
              "      <td>1.000000</td>\n",
              "      <td>1.000000</td>\n",
              "    </tr>\n",
              "  </tbody>\n",
              "</table>\n",
              "</div>"
            ],
            "text/plain": [
              "               age  days_to_incident  claim_amount\n",
              "count  1100.000000       1100.000000   1100.000000\n",
              "mean      0.488480          0.187613      0.240031\n",
              "std       0.288990          0.185787      0.290301\n",
              "min       0.000000          0.000000      0.000000\n",
              "25%       0.245902          0.042264      0.018664\n",
              "50%       0.475410          0.136133      0.037115\n",
              "75%       0.737705          0.276970      0.487057\n",
              "max       1.000000          1.000000      1.000000"
            ]
          },
          "execution_count": 37,
          "metadata": {},
          "output_type": "execute_result"
        }
      ],
      "source": [
        "features = ['age', 'gender', 'incident_cause', 'days_to_incident', 'claim_area', 'police_report', 'claim_type', 'claim_amount', 'total_policy_claims']\n",
        "\n",
        "data[features].describe()"
      ]
    },
    {
      "cell_type": "markdown",
      "metadata": {},
      "source": [
        "On sait que deux variables ne sont pas pertinentes dans la prédiction, l'ID de la transaction *claim_id* puisqu'il est unique et le numéro d'utilisateur *customer_id*. On pourrait établir un modèle qui prend en compte le *customer_id* pour \"suspecter\" ceux qui ont déjà fraudé. Mais dans ce cas de la détection de nouvelles fraudes l'utilisateur sera très probablement nouveau, il ne faut pas que cela altère le jugement du modèle, qui doit se méfier de tout le monde, sans distinction."
      ]
    },
    {
      "cell_type": "markdown",
      "metadata": {},
      "source": [
        "## Définition de la méthode d'évaluation des classifieurs"
      ]
    },
    {
      "cell_type": "markdown",
      "metadata": {},
      "source": [
        "## Définition des données d'apprentissage et de test"
      ]
    },
    {
      "cell_type": "markdown",
      "metadata": {},
      "source": [
        "## Construction et évaluation du classifieur"
      ]
    },
    {
      "cell_type": "markdown",
      "metadata": {},
      "source": [
        "## Choix du classifieur le plus performant"
      ]
    },
    {
      "cell_type": "markdown",
      "metadata": {},
      "source": [
        "## Application du classifieur aux données à prédire"
      ]
    }
  ],
  "metadata": {
    "interpreter": {
      "hash": "35f29beeb27fde6932d50469fefc45abdede62ae794afa6e9ce566c29f24951e"
    },
    "kernel_info": {
      "name": "python3-azureml"
    },
    "kernelspec": {
      "display_name": "Python 3.6 - AzureML",
      "language": "python",
      "name": "python3"
    },
    "language_info": {
      "codemirror_mode": {
        "name": "ipython",
        "version": 3
      },
      "file_extension": ".py",
      "mimetype": "text/x-python",
      "name": "python",
      "nbconvert_exporter": "python",
      "pygments_lexer": "ipython3",
      "version": "3.10.2"
    },
    "microsoft": {
      "host": {
        "AzureML": {
          "notebookHasBeenCompleted": true
        }
      }
    },
    "nteract": {
      "version": "nteract-front-end@1.0.0"
    },
    "orig_nbformat": 4
  },
  "nbformat": 4,
  "nbformat_minor": 2
}
