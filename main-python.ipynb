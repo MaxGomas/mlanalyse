{
  "cells": [
    {
      "cell_type": "markdown",
      "source": [
        "# Projet d'analyse de fraude\n",
        "\n",
        "Par Théo DESLAGE et Maximilien GOMAS"
      ],
      "metadata": {}
    },
    {
      "cell_type": "markdown",
      "source": [
        "## Exploration et visualisation des données\n",
        "\n",
        "On peut constater que les données sont divisées en deux ensembles :\n",
        "- Le premier, labelisé, servira à l'apprentissage supervisé (Entrainement et test)\n",
        "- Le second, inconnu, représente une situation réelle dans laquelle nous devrons prédire à l'aide de notre modèle\n",
        "\n",
        "Chargeons les données"
      ],
      "metadata": {}
    },
    {
      "cell_type": "code",
      "source": [
        "import pandas as pd\n",
        "\n",
        "# load the training dataset\n",
        "data = pd.read_csv('data/Data_Projet_1.csv')\n",
        "data['gender'].astype('category')\n",
        "data['incident_cause'].astype('category')\n",
        "data['claim_area'].astype('category')\n",
        "data['fraudulent'].astype('category')\n",
        "data['claim_area'].astype('category')\n",
        "data.head()"
      ],
      "outputs": [
        {
          "output_type": "execute_result",
          "execution_count": 25,
          "data": {
            "text/plain": "   claim_id  customer_id  age  gender      incident_cause  days_to_incident  \\\n0  54004764     21868593   32  Female        Driver error               225   \n1  33985796     75740424   60  Female               Crime             11874   \n2  53522022     30308357   27  Female  Other driver error                 4   \n3  13015401     47830476   39  Female      Natural causes              5278   \n4  22890252     19269962   47    Male               Crime              2335   \n\n  claim_area police_report     claim_type  claim_amount  total_policy_claims  \\\n0       Auto            No  Material only        2980.0                    1   \n1       Home       Unknown  Material only        2980.0                    3   \n2       Auto            No  Material only        3369.5                    1   \n3       Auto            No  Material only        1680.0                    1   \n4       Auto            No  Material only        2680.0                    1   \n\n  fraudulent  \n0         No  \n1         No  \n2        Yes  \n3         No  \n4         No  ",
            "text/html": "<div>\n<style scoped>\n    .dataframe tbody tr th:only-of-type {\n        vertical-align: middle;\n    }\n\n    .dataframe tbody tr th {\n        vertical-align: top;\n    }\n\n    .dataframe thead th {\n        text-align: right;\n    }\n</style>\n<table border=\"1\" class=\"dataframe\">\n  <thead>\n    <tr style=\"text-align: right;\">\n      <th></th>\n      <th>claim_id</th>\n      <th>customer_id</th>\n      <th>age</th>\n      <th>gender</th>\n      <th>incident_cause</th>\n      <th>days_to_incident</th>\n      <th>claim_area</th>\n      <th>police_report</th>\n      <th>claim_type</th>\n      <th>claim_amount</th>\n      <th>total_policy_claims</th>\n      <th>fraudulent</th>\n    </tr>\n  </thead>\n  <tbody>\n    <tr>\n      <th>0</th>\n      <td>54004764</td>\n      <td>21868593</td>\n      <td>32</td>\n      <td>Female</td>\n      <td>Driver error</td>\n      <td>225</td>\n      <td>Auto</td>\n      <td>No</td>\n      <td>Material only</td>\n      <td>2980.0</td>\n      <td>1</td>\n      <td>No</td>\n    </tr>\n    <tr>\n      <th>1</th>\n      <td>33985796</td>\n      <td>75740424</td>\n      <td>60</td>\n      <td>Female</td>\n      <td>Crime</td>\n      <td>11874</td>\n      <td>Home</td>\n      <td>Unknown</td>\n      <td>Material only</td>\n      <td>2980.0</td>\n      <td>3</td>\n      <td>No</td>\n    </tr>\n    <tr>\n      <th>2</th>\n      <td>53522022</td>\n      <td>30308357</td>\n      <td>27</td>\n      <td>Female</td>\n      <td>Other driver error</td>\n      <td>4</td>\n      <td>Auto</td>\n      <td>No</td>\n      <td>Material only</td>\n      <td>3369.5</td>\n      <td>1</td>\n      <td>Yes</td>\n    </tr>\n    <tr>\n      <th>3</th>\n      <td>13015401</td>\n      <td>47830476</td>\n      <td>39</td>\n      <td>Female</td>\n      <td>Natural causes</td>\n      <td>5278</td>\n      <td>Auto</td>\n      <td>No</td>\n      <td>Material only</td>\n      <td>1680.0</td>\n      <td>1</td>\n      <td>No</td>\n    </tr>\n    <tr>\n      <th>4</th>\n      <td>22890252</td>\n      <td>19269962</td>\n      <td>47</td>\n      <td>Male</td>\n      <td>Crime</td>\n      <td>2335</td>\n      <td>Auto</td>\n      <td>No</td>\n      <td>Material only</td>\n      <td>2680.0</td>\n      <td>1</td>\n      <td>No</td>\n    </tr>\n  </tbody>\n</table>\n</div>"
          },
          "metadata": {}
        }
      ],
      "execution_count": 25,
      "metadata": {
        "gather": {
          "logged": 1648157449402
        }
      }
    },
    {
      "cell_type": "markdown",
      "source": [
        "Sample data is a better way to see random data (sometimes head is not representative)"
      ],
      "metadata": {
        "nteract": {
          "transient": {
            "deleting": false
          }
        }
      }
    },
    {
      "cell_type": "code",
      "source": [
        "sample = data.sample(10)\n",
        "sample"
      ],
      "outputs": [
        {
          "output_type": "execute_result",
          "execution_count": 13,
          "data": {
            "text/plain": "     claim_id  customer_id  age  gender      incident_cause  days_to_incident  \\\n126  46248222     52542420   20  Female  Other driver error                 2   \n660  52752958     96795364   50  Female        Other causes              1268   \n629  63017412     36009093   56  Female        Driver error              2339   \n962  13883455     68458649   60  Female      Natural causes              2191   \n777  42920871     85984961   25  Female      Natural causes                 6   \n972  89085163     62528525   34    Male      Natural causes                76   \n319   3329988      2651069   57    Male  Other driver error              1788   \n774  40794950     24769711   19    Male        Driver error                 5   \n160  71464126     87386746   72    Male        Other causes              4515   \n469  59248480     33372791   40    Male        Other causes              3205   \n\n    claim_area police_report           claim_type  claim_amount  \\\n126       Auto            No  Material and injury       14260.0   \n660       Auto       Unknown        Material only        2250.0   \n629       Auto            No        Material only        1950.0   \n962       Auto            No        Material only        1960.0   \n777       Auto       Unknown        Material only        3231.5   \n972       Auto            No        Material only        2750.0   \n319       Auto            No        Material only        1932.0   \n774       Auto           Yes  Material and injury       20380.0   \n160       Auto            No        Material only        2260.0   \n469       Auto            No        Material only        2430.0   \n\n     total_policy_claims fraudulent  \n126                    2         No  \n660                    1         No  \n629                    6         No  \n962                    5         No  \n777                    1        Yes  \n972                    1         No  \n319                    1        Yes  \n774                    2         No  \n160                    1         No  \n469                    1         No  ",
            "text/html": "<div>\n<style scoped>\n    .dataframe tbody tr th:only-of-type {\n        vertical-align: middle;\n    }\n\n    .dataframe tbody tr th {\n        vertical-align: top;\n    }\n\n    .dataframe thead th {\n        text-align: right;\n    }\n</style>\n<table border=\"1\" class=\"dataframe\">\n  <thead>\n    <tr style=\"text-align: right;\">\n      <th></th>\n      <th>claim_id</th>\n      <th>customer_id</th>\n      <th>age</th>\n      <th>gender</th>\n      <th>incident_cause</th>\n      <th>days_to_incident</th>\n      <th>claim_area</th>\n      <th>police_report</th>\n      <th>claim_type</th>\n      <th>claim_amount</th>\n      <th>total_policy_claims</th>\n      <th>fraudulent</th>\n    </tr>\n  </thead>\n  <tbody>\n    <tr>\n      <th>126</th>\n      <td>46248222</td>\n      <td>52542420</td>\n      <td>20</td>\n      <td>Female</td>\n      <td>Other driver error</td>\n      <td>2</td>\n      <td>Auto</td>\n      <td>No</td>\n      <td>Material and injury</td>\n      <td>14260.0</td>\n      <td>2</td>\n      <td>No</td>\n    </tr>\n    <tr>\n      <th>660</th>\n      <td>52752958</td>\n      <td>96795364</td>\n      <td>50</td>\n      <td>Female</td>\n      <td>Other causes</td>\n      <td>1268</td>\n      <td>Auto</td>\n      <td>Unknown</td>\n      <td>Material only</td>\n      <td>2250.0</td>\n      <td>1</td>\n      <td>No</td>\n    </tr>\n    <tr>\n      <th>629</th>\n      <td>63017412</td>\n      <td>36009093</td>\n      <td>56</td>\n      <td>Female</td>\n      <td>Driver error</td>\n      <td>2339</td>\n      <td>Auto</td>\n      <td>No</td>\n      <td>Material only</td>\n      <td>1950.0</td>\n      <td>6</td>\n      <td>No</td>\n    </tr>\n    <tr>\n      <th>962</th>\n      <td>13883455</td>\n      <td>68458649</td>\n      <td>60</td>\n      <td>Female</td>\n      <td>Natural causes</td>\n      <td>2191</td>\n      <td>Auto</td>\n      <td>No</td>\n      <td>Material only</td>\n      <td>1960.0</td>\n      <td>5</td>\n      <td>No</td>\n    </tr>\n    <tr>\n      <th>777</th>\n      <td>42920871</td>\n      <td>85984961</td>\n      <td>25</td>\n      <td>Female</td>\n      <td>Natural causes</td>\n      <td>6</td>\n      <td>Auto</td>\n      <td>Unknown</td>\n      <td>Material only</td>\n      <td>3231.5</td>\n      <td>1</td>\n      <td>Yes</td>\n    </tr>\n    <tr>\n      <th>972</th>\n      <td>89085163</td>\n      <td>62528525</td>\n      <td>34</td>\n      <td>Male</td>\n      <td>Natural causes</td>\n      <td>76</td>\n      <td>Auto</td>\n      <td>No</td>\n      <td>Material only</td>\n      <td>2750.0</td>\n      <td>1</td>\n      <td>No</td>\n    </tr>\n    <tr>\n      <th>319</th>\n      <td>3329988</td>\n      <td>2651069</td>\n      <td>57</td>\n      <td>Male</td>\n      <td>Other driver error</td>\n      <td>1788</td>\n      <td>Auto</td>\n      <td>No</td>\n      <td>Material only</td>\n      <td>1932.0</td>\n      <td>1</td>\n      <td>Yes</td>\n    </tr>\n    <tr>\n      <th>774</th>\n      <td>40794950</td>\n      <td>24769711</td>\n      <td>19</td>\n      <td>Male</td>\n      <td>Driver error</td>\n      <td>5</td>\n      <td>Auto</td>\n      <td>Yes</td>\n      <td>Material and injury</td>\n      <td>20380.0</td>\n      <td>2</td>\n      <td>No</td>\n    </tr>\n    <tr>\n      <th>160</th>\n      <td>71464126</td>\n      <td>87386746</td>\n      <td>72</td>\n      <td>Male</td>\n      <td>Other causes</td>\n      <td>4515</td>\n      <td>Auto</td>\n      <td>No</td>\n      <td>Material only</td>\n      <td>2260.0</td>\n      <td>1</td>\n      <td>No</td>\n    </tr>\n    <tr>\n      <th>469</th>\n      <td>59248480</td>\n      <td>33372791</td>\n      <td>40</td>\n      <td>Male</td>\n      <td>Other causes</td>\n      <td>3205</td>\n      <td>Auto</td>\n      <td>No</td>\n      <td>Material only</td>\n      <td>2430.0</td>\n      <td>1</td>\n      <td>No</td>\n    </tr>\n  </tbody>\n</table>\n</div>"
          },
          "metadata": {}
        }
      ],
      "execution_count": 13,
      "metadata": {
        "jupyter": {
          "source_hidden": false,
          "outputs_hidden": false
        },
        "nteract": {
          "transient": {
            "deleting": false
          }
        },
        "gather": {
          "logged": 1648156821128
        }
      }
    },
    {
      "cell_type": "markdown",
      "source": [
        "## Pré traitement des données"
      ],
      "metadata": {}
    },
    {
      "cell_type": "markdown",
      "source": [
        "On commence par scale les données (entre 0 et 1), les modèles de deep learning fonctionnent mieux ainsi\n",
        "- age\n",
        "- days to incident\n",
        "- claim_amount\n",
        "- total policy claim"
      ],
      "metadata": {
        "nteract": {
          "transient": {
            "deleting": false
          }
        }
      }
    },
    {
      "cell_type": "code",
      "source": [
        "data.describe()"
      ],
      "outputs": [
        {
          "output_type": "execute_result",
          "execution_count": 14,
          "data": {
            "text/plain": "           claim_id   customer_id          age  days_to_incident  \\\ncount  1.100000e+03  1.100000e+03  1100.000000       1100.000000   \nmean   4.883819e+07  5.087470e+07    47.797273       2814.124545   \nstd    2.918806e+07  2.846102e+07    17.628400       2784.765937   \nmin    2.683200e+04  1.545570e+05    18.000000          2.000000   \n25%    2.381580e+07  2.679176e+07    33.000000        635.500000   \n50%    4.853933e+07  4.985515e+07    47.000000       2042.500000   \n75%    7.407447e+07  7.594951e+07    63.000000       4153.500000   \nmax    9.977548e+07  9.996199e+07    79.000000      14991.000000   \n\n       claim_amount  total_policy_claims  \ncount   1100.000000          1100.000000  \nmean   12317.582273             1.596364  \nstd    13687.814171             1.151328  \nmin     1000.000000             1.000000  \n25%     1880.000000             1.000000  \n50%     2750.000000             1.000000  \n75%    23965.000000             2.000000  \nmax    48150.500000             8.000000  ",
            "text/html": "<div>\n<style scoped>\n    .dataframe tbody tr th:only-of-type {\n        vertical-align: middle;\n    }\n\n    .dataframe tbody tr th {\n        vertical-align: top;\n    }\n\n    .dataframe thead th {\n        text-align: right;\n    }\n</style>\n<table border=\"1\" class=\"dataframe\">\n  <thead>\n    <tr style=\"text-align: right;\">\n      <th></th>\n      <th>claim_id</th>\n      <th>customer_id</th>\n      <th>age</th>\n      <th>days_to_incident</th>\n      <th>claim_amount</th>\n      <th>total_policy_claims</th>\n    </tr>\n  </thead>\n  <tbody>\n    <tr>\n      <th>count</th>\n      <td>1.100000e+03</td>\n      <td>1.100000e+03</td>\n      <td>1100.000000</td>\n      <td>1100.000000</td>\n      <td>1100.000000</td>\n      <td>1100.000000</td>\n    </tr>\n    <tr>\n      <th>mean</th>\n      <td>4.883819e+07</td>\n      <td>5.087470e+07</td>\n      <td>47.797273</td>\n      <td>2814.124545</td>\n      <td>12317.582273</td>\n      <td>1.596364</td>\n    </tr>\n    <tr>\n      <th>std</th>\n      <td>2.918806e+07</td>\n      <td>2.846102e+07</td>\n      <td>17.628400</td>\n      <td>2784.765937</td>\n      <td>13687.814171</td>\n      <td>1.151328</td>\n    </tr>\n    <tr>\n      <th>min</th>\n      <td>2.683200e+04</td>\n      <td>1.545570e+05</td>\n      <td>18.000000</td>\n      <td>2.000000</td>\n      <td>1000.000000</td>\n      <td>1.000000</td>\n    </tr>\n    <tr>\n      <th>25%</th>\n      <td>2.381580e+07</td>\n      <td>2.679176e+07</td>\n      <td>33.000000</td>\n      <td>635.500000</td>\n      <td>1880.000000</td>\n      <td>1.000000</td>\n    </tr>\n    <tr>\n      <th>50%</th>\n      <td>4.853933e+07</td>\n      <td>4.985515e+07</td>\n      <td>47.000000</td>\n      <td>2042.500000</td>\n      <td>2750.000000</td>\n      <td>1.000000</td>\n    </tr>\n    <tr>\n      <th>75%</th>\n      <td>7.407447e+07</td>\n      <td>7.594951e+07</td>\n      <td>63.000000</td>\n      <td>4153.500000</td>\n      <td>23965.000000</td>\n      <td>2.000000</td>\n    </tr>\n    <tr>\n      <th>max</th>\n      <td>9.977548e+07</td>\n      <td>9.996199e+07</td>\n      <td>79.000000</td>\n      <td>14991.000000</td>\n      <td>48150.500000</td>\n      <td>8.000000</td>\n    </tr>\n  </tbody>\n</table>\n</div>"
          },
          "metadata": {}
        }
      ],
      "execution_count": 14,
      "metadata": {
        "jupyter": {
          "source_hidden": false,
          "outputs_hidden": false
        },
        "nteract": {
          "transient": {
            "deleting": false
          }
        },
        "gather": {
          "logged": 1648156824279
        }
      }
    },
    {
      "cell_type": "markdown",
      "source": [
        "La description des données nous donne des informations intéressantes sur les valeurs numériques.\n",
        "Pour âge on voir que la moyenne est 47 ans. La médianne aussi et il est compris entre 18 et 79 ans. Il semble donc assez bien réparti.\n"
      ],
      "metadata": {
        "nteract": {
          "transient": {
            "deleting": false
          }
        }
      }
    },
    {
      "cell_type": "markdown",
      "source": [
        "# Analyser chaque column par le prisme de la fraude\n",
        "\n",
        "Le but ici va être de regarder chaque colonne et de l'analyser afin de comprendre à quel point elle impact sur le fait que la transaction soit frauduleuse ou non.\n",
        "\n",
        "On analyse en premier les colonne de type \"catégorie\" avant de passer en dessous aux boxplot"
      ],
      "metadata": {
        "nteract": {
          "transient": {
            "deleting": false
          }
        }
      }
    },
    {
      "cell_type": "code",
      "source": [
        "#Starting with gender\n",
        "data['gender'].hist(by=data['fraudulent'])"
      ],
      "outputs": [
        {
          "output_type": "execute_result",
          "execution_count": 28,
          "data": {
            "text/plain": "array([<matplotlib.axes._subplots.AxesSubplot object at 0x7fc07ca7e438>,\n       <matplotlib.axes._subplots.AxesSubplot object at 0x7fc07c930400>],\n      dtype=object)"
          },
          "metadata": {}
        },
        {
          "output_type": "display_data",
          "data": {
            "text/plain": "<Figure size 432x288 with 2 Axes>",
            "image/png": "[encoded data removed]"
          },
          "metadata": {
            "needs_background": "light"
          }
        }
      ],
      "execution_count": 28,
      "metadata": {
        "jupyter": {
          "source_hidden": false,
          "outputs_hidden": false
        },
        "nteract": {
          "transient": {
            "deleting": false
          }
        },
        "gather": {
          "logged": 1648157699024
        }
      }
    },
    {
      "cell_type": "code",
      "source": [
        "data.groupby('fraudulent').incident_cause.hist(stacked=True)"
      ],
      "outputs": [
        {
          "output_type": "execute_result",
          "execution_count": 36,
          "data": {
            "text/plain": "fraudulent\nNo     AxesSubplot(0.125,0.125;0.775x0.755)\nYes    AxesSubplot(0.125,0.125;0.775x0.755)\nName: incident_cause, dtype: object"
          },
          "metadata": {}
        },
        {
          "output_type": "display_data",
          "data": {
            "text/plain": "<Figure size 432x288 with 1 Axes>",
            "image/png": "[encoded data removed]"
          },
          "metadata": {
            "needs_background": "light"
          }
        }
      ],
      "execution_count": 36,
      "metadata": {
        "jupyter": {
          "source_hidden": false,
          "outputs_hidden": false
        },
        "nteract": {
          "transient": {
            "deleting": false
          }
        },
        "gather": {
          "logged": 1648158265017
        }
      }
    },
    {
      "cell_type": "code",
      "source": [
        "data.groupby('fraudulent').claim_area.hist(stacked=True)"
      ],
      "outputs": [
        {
          "output_type": "execute_result",
          "execution_count": 35,
          "data": {
            "text/plain": "fraudulent\nNo     AxesSubplot(0.125,0.125;0.775x0.755)\nYes    AxesSubplot(0.125,0.125;0.775x0.755)\nName: claim_area, dtype: object"
          },
          "metadata": {}
        },
        {
          "output_type": "display_data",
          "data": {
            "text/plain": "<Figure size 432x288 with 1 Axes>",
            "image/png": "[encoded data removed]"
          },
          "metadata": {
            "needs_background": "light"
          }
        }
      ],
      "execution_count": 35,
      "metadata": {
        "jupyter": {
          "source_hidden": false,
          "outputs_hidden": false
        },
        "nteract": {
          "transient": {
            "deleting": false
          }
        },
        "gather": {
          "logged": 1648158182882
        }
      }
    },
    {
      "cell_type": "code",
      "source": [
        "import matplotlib as plt\n",
        "import seaborn as sns\n",
        "\n",
        "sns.boxplot(x='fraudulent', y='age', data=data)"
      ],
      "outputs": [
        {
          "output_type": "execute_result",
          "execution_count": 21,
          "data": {
            "text/plain": "<matplotlib.axes._subplots.AxesSubplot at 0x7fc07c936748>"
          },
          "metadata": {}
        },
        {
          "output_type": "display_data",
          "data": {
            "text/plain": "<Figure size 432x288 with 1 Axes>",
            "image/png": "[encoded data removed]"
          },
          "metadata": {
            "needs_background": "light"
          }
        }
      ],
      "execution_count": 21,
      "metadata": {
        "jupyter": {
          "source_hidden": false,
          "outputs_hidden": false
        },
        "nteract": {
          "transient": {
            "deleting": false
          }
        },
        "gather": {
          "logged": 1648157280371
        }
      }
    },
    {
      "cell_type": "markdown",
      "source": [
        "L'âge semble très intéressant on regarde avec l'histogramme pour confirmer que les jeunes semblent bien plus susceptibles de faire des déclarations frauduleuses"
      ],
      "metadata": {
        "nteract": {
          "transient": {
            "deleting": false
          }
        }
      }
    },
    {
      "cell_type": "code",
      "source": [
        "data.groupby('fraudulent').age.hist(stacked=True)"
      ],
      "outputs": [
        {
          "output_type": "execute_result",
          "execution_count": 37,
          "data": {
            "text/plain": "fraudulent\nNo     AxesSubplot(0.125,0.125;0.775x0.755)\nYes    AxesSubplot(0.125,0.125;0.775x0.755)\nName: age, dtype: object"
          },
          "metadata": {}
        },
        {
          "output_type": "display_data",
          "data": {
            "text/plain": "<Figure size 432x288 with 1 Axes>",
            "image/png": "[encoded data removed]"
          },
          "metadata": {
            "needs_background": "light"
          }
        }
      ],
      "execution_count": 37,
      "metadata": {
        "jupyter": {
          "source_hidden": false,
          "outputs_hidden": false
        },
        "nteract": {
          "transient": {
            "deleting": false
          }
        },
        "gather": {
          "logged": 1648158299942
        }
      }
    },
    {
      "cell_type": "markdown",
      "source": [
        "# Data scaling"
      ],
      "metadata": {
        "nteract": {
          "transient": {
            "deleting": false
          }
        }
      }
    },
    {
      "cell_type": "code",
      "source": [
        "from sklearn.preprocessing import minmax_scale\n",
        "\n",
        "data[['age','days_to_incident', 'claim_amount', 'total_policy_claims']] = minmax_scale(data[['age','days_to_incident', 'claim_amount', 'total_policy_claims']])\n",
        "\n",
        "data.head()"
      ],
      "outputs": [
        {
          "output_type": "execute_result",
          "execution_count": 8,
          "data": {
            "text/plain": "   claim_id  customer_id       age  gender      incident_cause  \\\n0  54004764     21868593  0.229508  Female        Driver error   \n1  33985796     75740424  0.688525  Female               Crime   \n2  53522022     30308357  0.147541  Female  Other driver error   \n3  13015401     47830476  0.344262  Female      Natural causes   \n4  22890252     19269962  0.475410    Male               Crime   \n\n   days_to_incident claim_area police_report     claim_type  claim_amount  \\\n0          0.014878       Auto            No  Material only      0.041993   \n1          0.792048       Home       Unknown  Material only      0.041993   \n2          0.000133       Auto            No  Material only      0.050254   \n3          0.351991       Auto            No  Material only      0.014422   \n4          0.155647       Auto            No  Material only      0.035631   \n\n   total_policy_claims fraudulent  \n0             0.000000         No  \n1             0.285714         No  \n2             0.000000        Yes  \n3             0.000000         No  \n4             0.000000         No  ",
            "text/html": "<div>\n<style scoped>\n    .dataframe tbody tr th:only-of-type {\n        vertical-align: middle;\n    }\n\n    .dataframe tbody tr th {\n        vertical-align: top;\n    }\n\n    .dataframe thead th {\n        text-align: right;\n    }\n</style>\n<table border=\"1\" class=\"dataframe\">\n  <thead>\n    <tr style=\"text-align: right;\">\n      <th></th>\n      <th>claim_id</th>\n      <th>customer_id</th>\n      <th>age</th>\n      <th>gender</th>\n      <th>incident_cause</th>\n      <th>days_to_incident</th>\n      <th>claim_area</th>\n      <th>police_report</th>\n      <th>claim_type</th>\n      <th>claim_amount</th>\n      <th>total_policy_claims</th>\n      <th>fraudulent</th>\n    </tr>\n  </thead>\n  <tbody>\n    <tr>\n      <th>0</th>\n      <td>54004764</td>\n      <td>21868593</td>\n      <td>0.229508</td>\n      <td>Female</td>\n      <td>Driver error</td>\n      <td>0.014878</td>\n      <td>Auto</td>\n      <td>No</td>\n      <td>Material only</td>\n      <td>0.041993</td>\n      <td>0.000000</td>\n      <td>No</td>\n    </tr>\n    <tr>\n      <th>1</th>\n      <td>33985796</td>\n      <td>75740424</td>\n      <td>0.688525</td>\n      <td>Female</td>\n      <td>Crime</td>\n      <td>0.792048</td>\n      <td>Home</td>\n      <td>Unknown</td>\n      <td>Material only</td>\n      <td>0.041993</td>\n      <td>0.285714</td>\n      <td>No</td>\n    </tr>\n    <tr>\n      <th>2</th>\n      <td>53522022</td>\n      <td>30308357</td>\n      <td>0.147541</td>\n      <td>Female</td>\n      <td>Other driver error</td>\n      <td>0.000133</td>\n      <td>Auto</td>\n      <td>No</td>\n      <td>Material only</td>\n      <td>0.050254</td>\n      <td>0.000000</td>\n      <td>Yes</td>\n    </tr>\n    <tr>\n      <th>3</th>\n      <td>13015401</td>\n      <td>47830476</td>\n      <td>0.344262</td>\n      <td>Female</td>\n      <td>Natural causes</td>\n      <td>0.351991</td>\n      <td>Auto</td>\n      <td>No</td>\n      <td>Material only</td>\n      <td>0.014422</td>\n      <td>0.000000</td>\n      <td>No</td>\n    </tr>\n    <tr>\n      <th>4</th>\n      <td>22890252</td>\n      <td>19269962</td>\n      <td>0.475410</td>\n      <td>Male</td>\n      <td>Crime</td>\n      <td>0.155647</td>\n      <td>Auto</td>\n      <td>No</td>\n      <td>Material only</td>\n      <td>0.035631</td>\n      <td>0.000000</td>\n      <td>No</td>\n    </tr>\n  </tbody>\n</table>\n</div>"
          },
          "metadata": {}
        }
      ],
      "execution_count": 8,
      "metadata": {
        "jupyter": {
          "source_hidden": false,
          "outputs_hidden": false
        },
        "nteract": {
          "transient": {
            "deleting": false
          }
        },
        "gather": {
          "logged": 1648156483970
        }
      }
    },
    {
      "cell_type": "code",
      "source": [
        "data.describe()"
      ],
      "outputs": [
        {
          "output_type": "execute_result",
          "execution_count": 10,
          "data": {
            "text/plain": "           claim_id   customer_id          age  days_to_incident  \\\ncount  1.100000e+03  1.100000e+03  1100.000000       1100.000000   \nmean   4.883819e+07  5.087470e+07     0.488480          0.187613   \nstd    2.918806e+07  2.846102e+07     0.288990          0.185787   \nmin    2.683200e+04  1.545570e+05     0.000000          0.000000   \n25%    2.381580e+07  2.679176e+07     0.245902          0.042264   \n50%    4.853933e+07  4.985515e+07     0.475410          0.136133   \n75%    7.407447e+07  7.594951e+07     0.737705          0.276970   \nmax    9.977548e+07  9.996199e+07     1.000000          1.000000   \n\n       claim_amount  total_policy_claims  \ncount   1100.000000          1100.000000  \nmean       0.240031             0.085195  \nstd        0.290301             0.164475  \nmin        0.000000             0.000000  \n25%        0.018664             0.000000  \n50%        0.037115             0.000000  \n75%        0.487057             0.142857  \nmax        1.000000             1.000000  ",
            "text/html": "<div>\n<style scoped>\n    .dataframe tbody tr th:only-of-type {\n        vertical-align: middle;\n    }\n\n    .dataframe tbody tr th {\n        vertical-align: top;\n    }\n\n    .dataframe thead th {\n        text-align: right;\n    }\n</style>\n<table border=\"1\" class=\"dataframe\">\n  <thead>\n    <tr style=\"text-align: right;\">\n      <th></th>\n      <th>claim_id</th>\n      <th>customer_id</th>\n      <th>age</th>\n      <th>days_to_incident</th>\n      <th>claim_amount</th>\n      <th>total_policy_claims</th>\n    </tr>\n  </thead>\n  <tbody>\n    <tr>\n      <th>count</th>\n      <td>1.100000e+03</td>\n      <td>1.100000e+03</td>\n      <td>1100.000000</td>\n      <td>1100.000000</td>\n      <td>1100.000000</td>\n      <td>1100.000000</td>\n    </tr>\n    <tr>\n      <th>mean</th>\n      <td>4.883819e+07</td>\n      <td>5.087470e+07</td>\n      <td>0.488480</td>\n      <td>0.187613</td>\n      <td>0.240031</td>\n      <td>0.085195</td>\n    </tr>\n    <tr>\n      <th>std</th>\n      <td>2.918806e+07</td>\n      <td>2.846102e+07</td>\n      <td>0.288990</td>\n      <td>0.185787</td>\n      <td>0.290301</td>\n      <td>0.164475</td>\n    </tr>\n    <tr>\n      <th>min</th>\n      <td>2.683200e+04</td>\n      <td>1.545570e+05</td>\n      <td>0.000000</td>\n      <td>0.000000</td>\n      <td>0.000000</td>\n      <td>0.000000</td>\n    </tr>\n    <tr>\n      <th>25%</th>\n      <td>2.381580e+07</td>\n      <td>2.679176e+07</td>\n      <td>0.245902</td>\n      <td>0.042264</td>\n      <td>0.018664</td>\n      <td>0.000000</td>\n    </tr>\n    <tr>\n      <th>50%</th>\n      <td>4.853933e+07</td>\n      <td>4.985515e+07</td>\n      <td>0.475410</td>\n      <td>0.136133</td>\n      <td>0.037115</td>\n      <td>0.000000</td>\n    </tr>\n    <tr>\n      <th>75%</th>\n      <td>7.407447e+07</td>\n      <td>7.594951e+07</td>\n      <td>0.737705</td>\n      <td>0.276970</td>\n      <td>0.487057</td>\n      <td>0.142857</td>\n    </tr>\n    <tr>\n      <th>max</th>\n      <td>9.977548e+07</td>\n      <td>9.996199e+07</td>\n      <td>1.000000</td>\n      <td>1.000000</td>\n      <td>1.000000</td>\n      <td>1.000000</td>\n    </tr>\n  </tbody>\n</table>\n</div>"
          },
          "metadata": {}
        }
      ],
      "execution_count": 10,
      "metadata": {
        "jupyter": {
          "source_hidden": false,
          "outputs_hidden": false
        },
        "nteract": {
          "transient": {
            "deleting": false
          }
        },
        "gather": {
          "logged": 1648156737907
        }
      }
    },
    {
      "cell_type": "markdown",
      "source": [
        "On sait que deux variables ne sont pas pertinentes dans la prédiction, l'ID de la transaction *claim_id* puisqu'il est unique et le numéro d'utilisateur *customer_id*. On pourrait établir un modèle qui prend en compte le *customer_id* pour \"suspecter\" ceux qui ont déjà fraudé. Mais dans ce cas de la détection de nouvelles fraudes l'utilisateur sera très probablement nouveau, il ne faut pas que cela altère le jugement du modèle, qui doit se méfier de tout le monde, sans distinction."
      ],
      "metadata": {}
    },
    {
      "cell_type": "markdown",
      "source": [
        "## Définition de la méthode d'évaluation des classifieurs"
      ],
      "metadata": {}
    },
    {
      "cell_type": "markdown",
      "source": [
        "## Définition des données d'apprentissage et de test"
      ],
      "metadata": {}
    },
    {
      "cell_type": "markdown",
      "source": [
        "## Construction et évaluation du classifieur"
      ],
      "metadata": {}
    },
    {
      "cell_type": "markdown",
      "source": [
        "## Choix du classifieur le plus performant"
      ],
      "metadata": {}
    },
    {
      "cell_type": "markdown",
      "source": [
        "## Application du classifieur aux données à prédire"
      ],
      "metadata": {}
    }
  ],
  "metadata": {
    "kernelspec": {
      "name": "python3-azureml",
      "language": "python",
      "display_name": "Python 3.6 - AzureML"
    },
    "language_info": {
      "name": "python",
      "version": "3.6.9",
      "mimetype": "text/x-python",
      "codemirror_mode": {
        "name": "ipython",
        "version": 3
      },
      "pygments_lexer": "ipython3",
      "nbconvert_exporter": "python",
      "file_extension": ".py"
    },
    "orig_nbformat": 4,
    "kernel_info": {
      "name": "python3-azureml"
    },
    "nteract": {
      "version": "nteract-front-end@1.0.0"
    },
    "microsoft": {
      "host": {
        "AzureML": {
          "notebookHasBeenCompleted": true
        }
      }
    }
  },
  "nbformat": 4,
  "nbformat_minor": 2
}